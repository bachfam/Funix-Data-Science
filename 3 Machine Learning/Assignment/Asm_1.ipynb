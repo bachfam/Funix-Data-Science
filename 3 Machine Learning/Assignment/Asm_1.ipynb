{
 "cells": [
  {
   "cell_type": "markdown",
   "metadata": {
    "id": "xeq3pMIRIKnK"
   },
   "source": [
    "<h1 align=center><font size = 10>ASM 1</font></h1>"
   ]
  },
  {
   "cell_type": "markdown",
   "metadata": {
    "id": "c35zRlIJIKok"
   },
   "source": [
    "# Bài toán"
   ]
  },
  {
   "cell_type": "markdown",
   "metadata": {
    "id": "LjHFM2kAIKns"
   },
   "source": [
    "Trong notebook này, chúng ta sẽ ứng dụng thuật toán hồi quy tuyến tính mà chúng ta đã học trong khóa học này.\n",
    "\n",
    "Hãy đọc dữ liệu bằng thư viện Pandas, sau đó sử dụng thuật toán hồi quy tuyến tính với các đặc trưng khác nhau nhằm tìm ra thuật toán hồi quy tuyến tính tốt nhất thông qua phương pháp đánh giá độ chính xác.\n",
    "\n",
    "Tập dữ liệu và bài toán thuộc dạng hồi quy cổ điển. Với một số đặc trưng nhất định, chúng ta cần xây dựng một mô hình hồi quy tuyến tính để xác định **số lượng hồ sơ được chấp nhận** dựa vào các đặc trưng đã có.\n",
    "\n",
    "Để giải quyết bài toán này, chúng ta cần phân tích dữ liệu, thực hiện bất kỳ chuyển đổi và chuẩn hóa cần thiết nào, áp dụng thuật toán ML, huấn luyện mô hình, kiểm tra chất lượng của mô hình đã huấn luyện và lặp lại cho đến khi có được chất lượng cao nhất cho tập dữ liệu của mình."
   ]
  },
  {
   "cell_type": "markdown",
   "metadata": {
    "id": "7oowk-e4Fn6K"
   },
   "source": [
    "# Pipeline \n",
    "\n",
    "1. Đọc dữ liệu.\n",
    "\n",
    "2. Tiền xử lý dữ liệu.\n",
    "\n",
    "3. Trực quan dữ liệu.\n",
    "\n",
    "4. Chuẩn bị dữ liệu.\n",
    "\n",
    "5. Xây dựng mô hình hồi quy tuyến tính đơn biến.\n",
    "\n",
    "6. Xây dựng mô hình hồi quy tuyến tính đa biến.\n",
    "\n",
    "7. Xây dựng mô hình hồi quy tuyến tính trên toàn bộ đặc trưng để quan sát mối quan hệ giữa các đặc trưng và mục tiêu.\n",
    "\n",
    "8. Xây dựng mô hình Lasso để lựa chọn đặc trưng tốt nhất cho mục tiêu."
   ]
  },
  {
   "cell_type": "markdown",
   "metadata": {
    "button": false,
    "id": "zT7hZrQ9IKog",
    "new_sheet": false,
    "run_control": {
     "read_only": false
    }
   },
   "source": [
    "# Tập dữ liệu"
   ]
  },
  {
   "cell_type": "markdown",
   "metadata": {
    "collapsed": true,
    "id": "pWGBWLfnIKoi"
   },
   "source": [
    "Dự án này liên quan đến tập dữ liệu College, trong file College.csv trong thư mục dữ liệu. Nó chứa các biến sau cho 777 trường đại học và cao đẳng khác nhau ở Mỹ:\n",
    "\n",
    "**Private**: Chỉ báo public/private\n",
    "\n",
    "**Apps**: Số lượng hồ sơ nhận được\n",
    "\n",
    "**Accept**: Số lượng sinh viên được chấp thuận\n",
    "\n",
    "**Enroll**: Số sinh viên mới đăng ký\n",
    "\n",
    "**Top10perc**: Sinh viên mới từ top 10% lớp trung học\n",
    "\n",
    "**Top25perc**: Sinh viên mới từ top 25% lớp trung học\n",
    "\n",
    "**F.Undergrad**: Số sinh viên đại học toàn thời gian\n",
    "\n",
    "**P.Undergrad**: Số sinh viên đại học bán thời gian\n",
    "\n",
    "**Outstate**: Học phí ngoại bang\n",
    "\n",
    "**Room.Board**: Chi phí ăn ở\n",
    "\n",
    "**Books**: Chi phí giáo trình theo ước tính\n",
    "\n",
    "**Personal**: Chi tiêu cá nhân theo ước tính\n",
    "\n",
    "**PhD**: Phần trăm giảng viên có bằng Tiến sĩ\n",
    "\n",
    "**Terminal**: Phần trăm giảng viên có Terminal degree (bẳng cấp cao nhất trong một lĩnh vực nhất định)\n",
    "\n",
    "**S.F.Ratio**: Tỷ lệ sinh viên/giảng viên\n",
    "\n",
    "**perc.alumni**: Phần trăm cựu sinh viên đã quyên góp\n",
    "\n",
    "**Expend**: Chi phí giảng dạy cho mỗi sinh viên\n",
    "\n",
    "**Grad.Rate**: Tỷ lệ tốt nghiệp"
   ]
  },
  {
   "cell_type": "markdown",
   "metadata": {
    "id": "Xhf0PDvUcw4Q"
   },
   "source": [
    "# Thư viện cần thiết"
   ]
  },
  {
   "cell_type": "code",
   "execution_count": 6,
   "metadata": {
    "executionInfo": {
     "elapsed": 416,
     "status": "ok",
     "timestamp": 1657967178382,
     "user": {
      "displayName": "Thanh Bạch Phạm",
      "userId": "13498167898249894494"
     },
     "user_tz": -420
    },
    "id": "vgdDORwkIKnx"
   },
   "outputs": [],
   "source": [
    "import pandas as pd\n",
    "import numpy as np\n",
    "import matplotlib\n",
    "import matplotlib.pyplot as plt\n",
    "from sklearn.linear_model import LinearRegression\n",
    "from sklearn.metrics import r2_score\n",
    "from mpl_toolkits.mplot3d import Axes3D\n",
    "import seaborn as sns\n",
    "\n",
    "matplotlib.style.use('ggplot')"
   ]
  },
  {
   "cell_type": "markdown",
   "metadata": {
    "id": "0i6ipCJvIKn_"
   },
   "source": [
    "# Hàm tiện ích"
   ]
  },
  {
   "cell_type": "markdown",
   "metadata": {
    "id": "TWlCdM1HIKoB"
   },
   "source": [
    "Phương pháp tiện ích này sẽ giúp vẽ biểu đồ các quan sát thử nghiệm của bạn, so sánh chúng với đường hồi quy và hiển thị hệ số R2."
   ]
  },
  {
   "cell_type": "code",
   "execution_count": 8,
   "metadata": {
    "executionInfo": {
     "elapsed": 2,
     "status": "ok",
     "timestamp": 1657967178798,
     "user": {
      "displayName": "Thanh Bạch Phạm",
      "userId": "13498167898249894494"
     },
     "user_tz": -420
    },
    "id": "L8R7I3gfIKoC"
   },
   "outputs": [],
   "source": [
    "def drawLine(model, X_test, y_test, title):\n",
    "    # Hàm vẽ biểu đồ hồi quy khi X_test có 1 đặc trưng\n",
    "    # và hiển thị hệ số R2\n",
    "    y_pred = model.predict(X_test)\n",
    "\n",
    "    fig = plt.figure()\n",
    "    ax = fig.add_subplot(111)\n",
    "    ax.scatter(X_test, y_test, c='g', marker='o')\n",
    "    ax.plot(X_test, y_pred, color='orange', linewidth=1, alpha=0.7)\n",
    "    ax.set_xlabel(feature)\n",
    "    ax.set_ylabel('Accept')\n",
    "\n",
    "    R2 = r2_score(y_test, y_pred)\n",
    "\n",
    "    ax.set_title(title)\n",
    "    print(\"R2: \" + str(R2))\n",
    "    print(\"Intercept(s): \", model.intercept_)\n",
    "\n",
    "    plt.show()"
   ]
  },
  {
   "cell_type": "code",
   "execution_count": 4,
   "metadata": {
    "executionInfo": {
     "elapsed": 465,
     "status": "ok",
     "timestamp": 1657967179262,
     "user": {
      "displayName": "Thanh Bạch Phạm",
      "userId": "13498167898249894494"
     },
     "user_tz": -420
    },
    "id": "A6RyHyaoIKoK"
   },
   "outputs": [],
   "source": [
    "def drawPlane(model, X_test, y_test, title):\n",
    "    # Hàm vẽ biểu đồ hồi quy khi X_test có 2 đặc trưng\n",
    "    # và hiển thị hệ số R2\n",
    "    fig = plt.figure()\n",
    "    ax = Axes3D(fig)\n",
    "    ax.set_zlabel('prediction')\n",
    "\n",
    "    \n",
    "    # Chuyển về numpy vì X_test có thể là DataFrame, v.v.\n",
    "    X_test = np.array(X_test)\n",
    "    col1 = X_test[:,0]\n",
    "    col2 = X_test[:,1]\n",
    "\n",
    "    \n",
    "    # Lấy giá trị nhỏ nhất và lớn nhất của 2 đặc trưng\n",
    "    # để vẽ siêu mặt phẳng   \n",
    "    # do điểm nhỏ nhất và lớn nhất sẽ bao bọc toàn bộ dữ liệu\n",
    "    x_min, x_max = col1.min(), col1.max()\n",
    "    y_min, y_max = col2.min(), col2.max()\n",
    "    x = np.arange(x_min, x_max, (x_max-x_min) / 10)\n",
    "    y = np.arange(y_min, y_max, (y_max-y_min) / 10)\n",
    "    x, y = np.meshgrid(x, y)\n",
    "\n",
    "    \n",
    "    # Dự đoán để lấy siêu mặt phẳng\n",
    "    z = model.predict(np.c_[x.ravel(), y.ravel()])\n",
    "    z = z.reshape(x.shape)\n",
    "\n",
    "    # Trực quan hóa dữ liệu và vẽ siêu mặt phẳng\n",
    "    ax.scatter(col1, col2, y_test, c='g', marker='o')\n",
    "    ax.plot_wireframe(x, y, z, color='orange', alpha=0.7)\n",
    "\n",
    "    R2 = r2_score(y_test, y_pred)\n",
    "\n",
    "    ax.set_title(title)\n",
    "    print(\"R2: \" + str(R2))\n",
    "    print(\"Intercept(s): \", model.intercept_)\n",
    "\n",
    "    plt.show()"
   ]
  },
  {
   "cell_type": "markdown",
   "metadata": {
    "id": "nSSCwgpnAu0b"
   },
   "source": [
    "# Task 1: Đọc dữ liệu từ tập dữ liệu College\n",
    "\n",
    "Chỉ mục là cột tên trường đại học."
   ]
  },
  {
   "cell_type": "code",
   "execution_count": 10,
   "metadata": {
    "colab": {
     "base_uri": "https://localhost:8080/",
     "height": 363
    },
    "executionInfo": {
     "elapsed": 645,
     "status": "error",
     "timestamp": 1657967263552,
     "user": {
      "displayName": "Thanh Bạch Phạm",
      "userId": "13498167898249894494"
     },
     "user_tz": -420
    },
    "id": "qK_sefriIKoq",
    "outputId": "421b1906-eadb-44ed-c370-4995da16ae0d"
   },
   "outputs": [
    {
     "ename": "ValueError",
     "evalue": "embedded null character",
     "output_type": "error",
     "traceback": [
      "\u001b[1;31m---------------------------------------------------------------------------\u001b[0m",
      "\u001b[1;31mValueError\u001b[0m                                Traceback (most recent call last)",
      "\u001b[1;32m<ipython-input-10-1316912bb5d9>\u001b[0m in \u001b[0;36m<module>\u001b[1;34m\u001b[0m\n\u001b[0;32m      2\u001b[0m \u001b[0mpath\u001b[0m \u001b[1;33m=\u001b[0m \u001b[1;34m'D:\\01-BACH\\16. ONE DRIVE\\2. LEARNING\\11. Data Science\\0-Funix\\DS\\3 Machine Learning\\Assignment\\College.xlsx'\u001b[0m\u001b[1;33m\u001b[0m\u001b[1;33m\u001b[0m\u001b[0m\n\u001b[0;32m      3\u001b[0m \u001b[1;33m\u001b[0m\u001b[0m\n\u001b[1;32m----> 4\u001b[1;33m \u001b[0mdf\u001b[0m \u001b[1;33m=\u001b[0m \u001b[0mpd\u001b[0m\u001b[1;33m.\u001b[0m\u001b[0mread_excel\u001b[0m\u001b[1;33m(\u001b[0m\u001b[0mpath\u001b[0m\u001b[1;33m)\u001b[0m\u001b[1;33m\u001b[0m\u001b[1;33m\u001b[0m\u001b[0m\n\u001b[0m\u001b[0;32m      5\u001b[0m \u001b[0mdf\u001b[0m\u001b[1;33m.\u001b[0m\u001b[0mhead\u001b[0m\u001b[1;33m(\u001b[0m\u001b[1;33m)\u001b[0m\u001b[1;33m\u001b[0m\u001b[1;33m\u001b[0m\u001b[0m\n",
      "\u001b[1;32mC:\\ProgramData\\Anaconda3\\lib\\site-packages\\pandas\\util\\_decorators.py\u001b[0m in \u001b[0;36mwrapper\u001b[1;34m(*args, **kwargs)\u001b[0m\n\u001b[0;32m    297\u001b[0m                 )\n\u001b[0;32m    298\u001b[0m                 \u001b[0mwarnings\u001b[0m\u001b[1;33m.\u001b[0m\u001b[0mwarn\u001b[0m\u001b[1;33m(\u001b[0m\u001b[0mmsg\u001b[0m\u001b[1;33m,\u001b[0m \u001b[0mFutureWarning\u001b[0m\u001b[1;33m,\u001b[0m \u001b[0mstacklevel\u001b[0m\u001b[1;33m=\u001b[0m\u001b[0mstacklevel\u001b[0m\u001b[1;33m)\u001b[0m\u001b[1;33m\u001b[0m\u001b[1;33m\u001b[0m\u001b[0m\n\u001b[1;32m--> 299\u001b[1;33m             \u001b[1;32mreturn\u001b[0m \u001b[0mfunc\u001b[0m\u001b[1;33m(\u001b[0m\u001b[1;33m*\u001b[0m\u001b[0margs\u001b[0m\u001b[1;33m,\u001b[0m \u001b[1;33m**\u001b[0m\u001b[0mkwargs\u001b[0m\u001b[1;33m)\u001b[0m\u001b[1;33m\u001b[0m\u001b[1;33m\u001b[0m\u001b[0m\n\u001b[0m\u001b[0;32m    300\u001b[0m \u001b[1;33m\u001b[0m\u001b[0m\n\u001b[0;32m    301\u001b[0m         \u001b[1;32mreturn\u001b[0m \u001b[0mwrapper\u001b[0m\u001b[1;33m\u001b[0m\u001b[1;33m\u001b[0m\u001b[0m\n",
      "\u001b[1;32mC:\\ProgramData\\Anaconda3\\lib\\site-packages\\pandas\\io\\excel\\_base.py\u001b[0m in \u001b[0;36mread_excel\u001b[1;34m(io, sheet_name, header, names, index_col, usecols, squeeze, dtype, engine, converters, true_values, false_values, skiprows, nrows, na_values, keep_default_na, na_filter, verbose, parse_dates, date_parser, thousands, comment, skipfooter, convert_float, mangle_dupe_cols, storage_options)\u001b[0m\n\u001b[0;32m    334\u001b[0m     \u001b[1;32mif\u001b[0m \u001b[1;32mnot\u001b[0m \u001b[0misinstance\u001b[0m\u001b[1;33m(\u001b[0m\u001b[0mio\u001b[0m\u001b[1;33m,\u001b[0m \u001b[0mExcelFile\u001b[0m\u001b[1;33m)\u001b[0m\u001b[1;33m:\u001b[0m\u001b[1;33m\u001b[0m\u001b[1;33m\u001b[0m\u001b[0m\n\u001b[0;32m    335\u001b[0m         \u001b[0mshould_close\u001b[0m \u001b[1;33m=\u001b[0m \u001b[1;32mTrue\u001b[0m\u001b[1;33m\u001b[0m\u001b[1;33m\u001b[0m\u001b[0m\n\u001b[1;32m--> 336\u001b[1;33m         \u001b[0mio\u001b[0m \u001b[1;33m=\u001b[0m \u001b[0mExcelFile\u001b[0m\u001b[1;33m(\u001b[0m\u001b[0mio\u001b[0m\u001b[1;33m,\u001b[0m \u001b[0mstorage_options\u001b[0m\u001b[1;33m=\u001b[0m\u001b[0mstorage_options\u001b[0m\u001b[1;33m,\u001b[0m \u001b[0mengine\u001b[0m\u001b[1;33m=\u001b[0m\u001b[0mengine\u001b[0m\u001b[1;33m)\u001b[0m\u001b[1;33m\u001b[0m\u001b[1;33m\u001b[0m\u001b[0m\n\u001b[0m\u001b[0;32m    337\u001b[0m     \u001b[1;32melif\u001b[0m \u001b[0mengine\u001b[0m \u001b[1;32mand\u001b[0m \u001b[0mengine\u001b[0m \u001b[1;33m!=\u001b[0m \u001b[0mio\u001b[0m\u001b[1;33m.\u001b[0m\u001b[0mengine\u001b[0m\u001b[1;33m:\u001b[0m\u001b[1;33m\u001b[0m\u001b[1;33m\u001b[0m\u001b[0m\n\u001b[0;32m    338\u001b[0m         raise ValueError(\n",
      "\u001b[1;32mC:\\ProgramData\\Anaconda3\\lib\\site-packages\\pandas\\io\\excel\\_base.py\u001b[0m in \u001b[0;36m__init__\u001b[1;34m(self, path_or_buffer, engine, storage_options)\u001b[0m\n\u001b[0;32m   1069\u001b[0m                 \u001b[0mext\u001b[0m \u001b[1;33m=\u001b[0m \u001b[1;34m\"xls\"\u001b[0m\u001b[1;33m\u001b[0m\u001b[1;33m\u001b[0m\u001b[0m\n\u001b[0;32m   1070\u001b[0m             \u001b[1;32melse\u001b[0m\u001b[1;33m:\u001b[0m\u001b[1;33m\u001b[0m\u001b[1;33m\u001b[0m\u001b[0m\n\u001b[1;32m-> 1071\u001b[1;33m                 ext = inspect_excel_format(\n\u001b[0m\u001b[0;32m   1072\u001b[0m                     \u001b[0mcontent\u001b[0m\u001b[1;33m=\u001b[0m\u001b[0mpath_or_buffer\u001b[0m\u001b[1;33m,\u001b[0m \u001b[0mstorage_options\u001b[0m\u001b[1;33m=\u001b[0m\u001b[0mstorage_options\u001b[0m\u001b[1;33m\u001b[0m\u001b[1;33m\u001b[0m\u001b[0m\n\u001b[0;32m   1073\u001b[0m                 )\n",
      "\u001b[1;32mC:\\ProgramData\\Anaconda3\\lib\\site-packages\\pandas\\io\\excel\\_base.py\u001b[0m in \u001b[0;36minspect_excel_format\u001b[1;34m(path, content, storage_options)\u001b[0m\n\u001b[0;32m    947\u001b[0m     \u001b[1;32massert\u001b[0m \u001b[0mcontent_or_path\u001b[0m \u001b[1;32mis\u001b[0m \u001b[1;32mnot\u001b[0m \u001b[1;32mNone\u001b[0m\u001b[1;33m\u001b[0m\u001b[1;33m\u001b[0m\u001b[0m\n\u001b[0;32m    948\u001b[0m \u001b[1;33m\u001b[0m\u001b[0m\n\u001b[1;32m--> 949\u001b[1;33m     with get_handle(\n\u001b[0m\u001b[0;32m    950\u001b[0m         \u001b[0mcontent_or_path\u001b[0m\u001b[1;33m,\u001b[0m \u001b[1;34m\"rb\"\u001b[0m\u001b[1;33m,\u001b[0m \u001b[0mstorage_options\u001b[0m\u001b[1;33m=\u001b[0m\u001b[0mstorage_options\u001b[0m\u001b[1;33m,\u001b[0m \u001b[0mis_text\u001b[0m\u001b[1;33m=\u001b[0m\u001b[1;32mFalse\u001b[0m\u001b[1;33m\u001b[0m\u001b[1;33m\u001b[0m\u001b[0m\n\u001b[0;32m    951\u001b[0m     ) as handle:\n",
      "\u001b[1;32mC:\\ProgramData\\Anaconda3\\lib\\site-packages\\pandas\\io\\common.py\u001b[0m in \u001b[0;36mget_handle\u001b[1;34m(path_or_buf, mode, encoding, compression, memory_map, is_text, errors, storage_options)\u001b[0m\n\u001b[0;32m    649\u001b[0m         \u001b[1;32melse\u001b[0m\u001b[1;33m:\u001b[0m\u001b[1;33m\u001b[0m\u001b[1;33m\u001b[0m\u001b[0m\n\u001b[0;32m    650\u001b[0m             \u001b[1;31m# Binary mode\u001b[0m\u001b[1;33m\u001b[0m\u001b[1;33m\u001b[0m\u001b[1;33m\u001b[0m\u001b[0m\n\u001b[1;32m--> 651\u001b[1;33m             \u001b[0mhandle\u001b[0m \u001b[1;33m=\u001b[0m \u001b[0mopen\u001b[0m\u001b[1;33m(\u001b[0m\u001b[0mhandle\u001b[0m\u001b[1;33m,\u001b[0m \u001b[0mioargs\u001b[0m\u001b[1;33m.\u001b[0m\u001b[0mmode\u001b[0m\u001b[1;33m)\u001b[0m\u001b[1;33m\u001b[0m\u001b[1;33m\u001b[0m\u001b[0m\n\u001b[0m\u001b[0;32m    652\u001b[0m         \u001b[0mhandles\u001b[0m\u001b[1;33m.\u001b[0m\u001b[0mappend\u001b[0m\u001b[1;33m(\u001b[0m\u001b[0mhandle\u001b[0m\u001b[1;33m)\u001b[0m\u001b[1;33m\u001b[0m\u001b[1;33m\u001b[0m\u001b[0m\n\u001b[0;32m    653\u001b[0m \u001b[1;33m\u001b[0m\u001b[0m\n",
      "\u001b[1;31mValueError\u001b[0m: embedded null character"
     ]
    }
   ],
   "source": [
    "# Nhập code của bạn ở đây\n",
    "path = 'D:\\01-BACH\\16. ONE DRIVE\\2. LEARNING\\11. Data Science\\0-Funix\\DS\\3 Machine Learning\\Assignment\\College.xlsx'\n",
    "\n",
    "df = pd.read_excel(path)\n",
    "df.head()"
   ]
  },
  {
   "cell_type": "markdown",
   "metadata": {
    "id": "Yk8IBfDRIKo3"
   },
   "source": [
    "# Task 2: Mã hóa hạng mục \n",
    "\n",
    "Sử dụng map() để chuyển đổi cột Private thành {'Yes':1, 'No':0}.\n",
    "\n",
    "Hầu hết tất cả thuật toán học máy đều không làm việc với dữ liệu chuỗi hoặc hạng mục, do đó cần chuyển đổi những loại dữ liệu này để phù hợp với đầu vào của học máy. Phương thức `.map()` giống như `.apply()`, nhưng thay vì sử dụng lambda/function, bạn chỉ cần cung cấp ánh xạ key:value."
   ]
  },
  {
   "cell_type": "code",
   "execution_count": null,
   "metadata": {
    "executionInfo": {
     "elapsed": 444,
     "status": "aborted",
     "timestamp": 1657967179704,
     "user": {
      "displayName": "Thanh Bạch Phạm",
      "userId": "13498167898249894494"
     },
     "user_tz": -420
    },
    "id": "paEmSbI5IKo5"
   },
   "outputs": [],
   "source": [
    "# Nhập code của bạn ở đây\n"
   ]
  },
  {
   "cell_type": "markdown",
   "metadata": {
    "id": "mn9-vNkLLCsQ"
   },
   "source": [
    "# Task 3: Trực quan ma trận tương quan"
   ]
  },
  {
   "cell_type": "markdown",
   "metadata": {
    "id": "Ex-XA9YNc-qP"
   },
   "source": [
    "Tính toán ma trận trực quan từ DataFrame"
   ]
  },
  {
   "cell_type": "code",
   "execution_count": null,
   "metadata": {
    "executionInfo": {
     "elapsed": 11,
     "status": "aborted",
     "timestamp": 1657967179704,
     "user": {
      "displayName": "Thanh Bạch Phạm",
      "userId": "13498167898249894494"
     },
     "user_tz": -420
    },
    "id": "RfLmHDtOLCI_"
   },
   "outputs": [],
   "source": [
    "# Nhập code của bạn ở đây\n"
   ]
  },
  {
   "cell_type": "markdown",
   "metadata": {
    "id": "9qNFIesQdI0J"
   },
   "source": [
    "Trực quan ma trận trực quan bằng Seaborn"
   ]
  },
  {
   "cell_type": "code",
   "execution_count": null,
   "metadata": {
    "executionInfo": {
     "elapsed": 12,
     "status": "aborted",
     "timestamp": 1657967179705,
     "user": {
      "displayName": "Thanh Bạch Phạm",
      "userId": "13498167898249894494"
     },
     "user_tz": -420
    },
    "id": "NdDps5__LZ4Y"
   },
   "outputs": [],
   "source": [
    "# Nhập code của bạn ở đây\n"
   ]
  },
  {
   "cell_type": "markdown",
   "metadata": {
    "id": "r-Op2mx78jzr"
   },
   "source": [
    "# Task 4: Vẽ biểu đồ Scatter từng đặc trưng với mục tiêu"
   ]
  },
  {
   "cell_type": "markdown",
   "metadata": {
    "id": "8zstAeRZdQn8"
   },
   "source": [
    "Lấy ra toàn bộ đặc trưng từ dữ liệu và loại bỏ đi mục tiêu (\"Accept\")"
   ]
  },
  {
   "cell_type": "code",
   "execution_count": null,
   "metadata": {
    "executionInfo": {
     "elapsed": 12,
     "status": "aborted",
     "timestamp": 1657967179705,
     "user": {
      "displayName": "Thanh Bạch Phạm",
      "userId": "13498167898249894494"
     },
     "user_tz": -420
    },
    "id": "t-NlFg5m70wk"
   },
   "outputs": [],
   "source": [
    "# Nhập code của bạn ở đây\n"
   ]
  },
  {
   "cell_type": "markdown",
   "metadata": {
    "id": "6wvej84RdXPG"
   },
   "source": [
    "Trực quan từng đặc trưng với mục tiêu"
   ]
  },
  {
   "cell_type": "code",
   "execution_count": null,
   "metadata": {
    "executionInfo": {
     "elapsed": 12,
     "status": "aborted",
     "timestamp": 1657967179705,
     "user": {
      "displayName": "Thanh Bạch Phạm",
      "userId": "13498167898249894494"
     },
     "user_tz": -420
    },
    "id": "BCwOf72kMI7f"
   },
   "outputs": [],
   "source": [
    "# Nhập code của bạn ở đây\n"
   ]
  },
  {
   "cell_type": "markdown",
   "metadata": {
    "id": "VSZ1jBtHALqb"
   },
   "source": [
    "# Task 5: Phân tách dữ liệu đặc trưng vào X, dữ liệu mục tiêu vào y từ dữ liệu gốc\n"
   ]
  },
  {
   "cell_type": "code",
   "execution_count": null,
   "metadata": {
    "executionInfo": {
     "elapsed": 13,
     "status": "aborted",
     "timestamp": 1657967179706,
     "user": {
      "displayName": "Thanh Bạch Phạm",
      "userId": "13498167898249894494"
     },
     "user_tz": -420
    },
    "id": "HhdJuo3tAXX1"
   },
   "outputs": [],
   "source": [
    "# Nhập code của bạn ở đây\n",
    "X = ...\n",
    "y = ..."
   ]
  },
  {
   "cell_type": "code",
   "execution_count": null,
   "metadata": {
    "executionInfo": {
     "elapsed": 13,
     "status": "aborted",
     "timestamp": 1657967179706,
     "user": {
      "displayName": "Thanh Bạch Phạm",
      "userId": "13498167898249894494"
     },
     "user_tz": -420
    },
    "id": "DKX43u7jAgCH"
   },
   "outputs": [],
   "source": [
    "X.head()"
   ]
  },
  {
   "cell_type": "code",
   "execution_count": null,
   "metadata": {
    "executionInfo": {
     "elapsed": 13,
     "status": "aborted",
     "timestamp": 1657967179706,
     "user": {
      "displayName": "Thanh Bạch Phạm",
      "userId": "13498167898249894494"
     },
     "user_tz": -420
    },
    "id": "l5yRY3_kAjDH"
   },
   "outputs": [],
   "source": [
    "y.head()"
   ]
  },
  {
   "cell_type": "markdown",
   "metadata": {
    "id": "p1oLON8J_Xxg"
   },
   "source": [
    "# Task 6: Tách dữ liệu thành train/test data\n",
    "\n",
    "Dữ liệu train chiếm 70% và random_state là 7."
   ]
  },
  {
   "cell_type": "code",
   "execution_count": null,
   "metadata": {
    "executionInfo": {
     "elapsed": 14,
     "status": "aborted",
     "timestamp": 1657967179707,
     "user": {
      "displayName": "Thanh Bạch Phạm",
      "userId": "13498167898249894494"
     },
     "user_tz": -420
    },
    "id": "QhGqtRsJAGj8"
   },
   "outputs": [],
   "source": [
    "from sklearn.model_selection import train_test_split\n",
    "\n",
    "# Nhập code của bạn ở đây\n",
    "X_train, X_test, y_train, y_test = ..."
   ]
  },
  {
   "cell_type": "markdown",
   "metadata": {
    "id": "fGiM_AlHIKpJ"
   },
   "source": [
    "# Task 7: Mô hình hóa hồi quy tuyến tính chi phí ăn ở và số lượng sinh viên được chấp nhận và trực quan mô hình\n",
    "\n",
    "Tách dữ liệu chi phí ăn ở từ bộ train và test"
   ]
  },
  {
   "cell_type": "code",
   "execution_count": null,
   "metadata": {
    "executionInfo": {
     "elapsed": 14,
     "status": "aborted",
     "timestamp": 1657967179708,
     "user": {
      "displayName": "Thanh Bạch Phạm",
      "userId": "13498167898249894494"
     },
     "user_tz": -420
    },
    "id": "oDQuVYYTCN88"
   },
   "outputs": [],
   "source": [
    "# Nhập code của bạn ở đây\n",
    "X_train_rb = ...\n",
    "X_test_rb = ...\n",
    "y_train_rb = ...\n",
    "y_test_rb = ..."
   ]
  },
  {
   "cell_type": "markdown",
   "metadata": {
    "id": "y5egxyWaOtkk"
   },
   "source": [
    "Điều chỉnh shape dữ liệu phù hợp với đầu vào của mô hình\n",
    "\n",
    "Mô hình hồi quy tuyến tính yêu cầu đầu vào có dạng là (m, n) với X và (m, 1) với y.\n",
    "\n",
    "Trong đó:\n",
    "\n",
    "- m là số lượng mẫu quan sát\n",
    "\n",
    "- n là số lượng đặc trưng\n",
    "\n",
    "Với một đặc trưng duy nhất, shape phù hợp sẽ là (m, 1) cho X."
   ]
  },
  {
   "cell_type": "code",
   "execution_count": null,
   "metadata": {
    "executionInfo": {
     "elapsed": 13,
     "status": "aborted",
     "timestamp": 1657967179708,
     "user": {
      "displayName": "Thanh Bạch Phạm",
      "userId": "13498167898249894494"
     },
     "user_tz": -420
    },
    "id": "qDdni8SUUGvl"
   },
   "outputs": [],
   "source": [
    "# Nhập code của bạn ở đây\n"
   ]
  },
  {
   "cell_type": "markdown",
   "metadata": {
    "id": "l3CsZpriUGBx"
   },
   "source": [
    "Xây dựng và huấn luyện mô hình"
   ]
  },
  {
   "cell_type": "code",
   "execution_count": null,
   "metadata": {
    "executionInfo": {
     "elapsed": 13,
     "status": "aborted",
     "timestamp": 1657967179708,
     "user": {
      "displayName": "Thanh Bạch Phạm",
      "userId": "13498167898249894494"
     },
     "user_tz": -420
    },
    "id": "ixw0je-LBK4P"
   },
   "outputs": [],
   "source": [
    "# Nhập code của bạn ở đây\n",
    "model_1...\n"
   ]
  },
  {
   "cell_type": "markdown",
   "metadata": {
    "id": "wcjpd8PzUcoZ"
   },
   "source": [
    "Đánh giá chất lượng mô hình bằng chỉ số R2 cho tập test"
   ]
  },
  {
   "cell_type": "code",
   "execution_count": null,
   "metadata": {
    "executionInfo": {
     "elapsed": 13,
     "status": "aborted",
     "timestamp": 1657967179708,
     "user": {
      "displayName": "Thanh Bạch Phạm",
      "userId": "13498167898249894494"
     },
     "user_tz": -420
    },
    "id": "8jI13eq5BTYF"
   },
   "outputs": [],
   "source": [
    "# Nhập code của bạn ở đây\n"
   ]
  },
  {
   "cell_type": "markdown",
   "metadata": {
    "id": "vm9wmJtvVCHS"
   },
   "source": [
    "Trực quan mô hình hóa với dữ liệu test"
   ]
  },
  {
   "cell_type": "code",
   "execution_count": null,
   "metadata": {
    "executionInfo": {
     "elapsed": 14,
     "status": "aborted",
     "timestamp": 1657967179709,
     "user": {
      "displayName": "Thanh Bạch Phạm",
      "userId": "13498167898249894494"
     },
     "user_tz": -420
    },
    "id": "MrITFYTgDKgg"
   },
   "outputs": [],
   "source": [
    "# Nhập code của bạn ở đây\n"
   ]
  },
  {
   "cell_type": "markdown",
   "metadata": {
    "id": "td5Ti_v4eA6r"
   },
   "source": [
    "# Task 8: Mô hình hóa hồi quy tuyến tính số lượng sinh viên ghi danh cho mỗi trường đại học và số lượng sinh viên được chấp nhận và trực quan mô hình\n",
    "\n",
    "Tách dữ liệu số lượng sinh viên ghi danh cho mỗi trường đại học ở từ bộ train và test"
   ]
  },
  {
   "cell_type": "code",
   "execution_count": null,
   "metadata": {
    "executionInfo": {
     "elapsed": 14,
     "status": "aborted",
     "timestamp": 1657967179709,
     "user": {
      "displayName": "Thanh Bạch Phạm",
      "userId": "13498167898249894494"
     },
     "user_tz": -420
    },
    "id": "-OkQK-_XhTGL"
   },
   "outputs": [],
   "source": [
    "# Nhập code của bạn ở đây\n"
   ]
  },
  {
   "cell_type": "markdown",
   "metadata": {
    "id": "10GgA1uejsC1"
   },
   "source": [
    "Điều chỉnh shape phù hợp với đầu vào của mô hình"
   ]
  },
  {
   "cell_type": "code",
   "execution_count": null,
   "metadata": {
    "executionInfo": {
     "elapsed": 14,
     "status": "aborted",
     "timestamp": 1657967179709,
     "user": {
      "displayName": "Thanh Bạch Phạm",
      "userId": "13498167898249894494"
     },
     "user_tz": -420
    },
    "id": "bJoCmlv7hmPd"
   },
   "outputs": [],
   "source": [
    "# Nhập code của bạn ở đây\n"
   ]
  },
  {
   "cell_type": "markdown",
   "metadata": {
    "id": "zHD73WW6j3sI"
   },
   "source": [
    "Xây dựng và huấn luyện mô hình"
   ]
  },
  {
   "cell_type": "code",
   "execution_count": null,
   "metadata": {
    "executionInfo": {
     "elapsed": 14,
     "status": "aborted",
     "timestamp": 1657967179709,
     "user": {
      "displayName": "Thanh Bạch Phạm",
      "userId": "13498167898249894494"
     },
     "user_tz": -420
    },
    "id": "U9dRt4dHh4uE"
   },
   "outputs": [],
   "source": [
    "# Nhập code của bạn ở đây\n"
   ]
  },
  {
   "cell_type": "markdown",
   "metadata": {
    "id": "6Kpfr4_Wj8l1"
   },
   "source": [
    "Đánh giá chất lượng mô hình bằng chỉ số R2 cho tập test"
   ]
  },
  {
   "cell_type": "code",
   "execution_count": null,
   "metadata": {
    "executionInfo": {
     "elapsed": 14,
     "status": "aborted",
     "timestamp": 1657967179710,
     "user": {
      "displayName": "Thanh Bạch Phạm",
      "userId": "13498167898249894494"
     },
     "user_tz": -420
    },
    "id": "t434YSGyjC6m"
   },
   "outputs": [],
   "source": [
    "# Nhập code của bạn ở đây\n"
   ]
  },
  {
   "cell_type": "markdown",
   "metadata": {
    "id": "nhfnil_Rjecf"
   },
   "source": [
    "Trực quan mô hình với dữ liệu test"
   ]
  },
  {
   "cell_type": "code",
   "execution_count": null,
   "metadata": {
    "executionInfo": {
     "elapsed": 14,
     "status": "aborted",
     "timestamp": 1657967179710,
     "user": {
      "displayName": "Thanh Bạch Phạm",
      "userId": "13498167898249894494"
     },
     "user_tz": -420
    },
    "id": "z4V2vaAvjE1A"
   },
   "outputs": [],
   "source": [
    "# Nhập code của bạn ở đây\n"
   ]
  },
  {
   "cell_type": "markdown",
   "metadata": {
    "id": "0pHdddJVkInR"
   },
   "source": [
    "# Task 9: Mô hình hóa hồi quy tuyến tính từng đặc trưng với số lượng sinh viên được chấp nhận và trực quan hóa mô hình với dữ liệu test\n",
    "\n",
    "Lưu ý: Sử dụng vòng lặp"
   ]
  },
  {
   "cell_type": "code",
   "execution_count": null,
   "metadata": {
    "executionInfo": {
     "elapsed": 14,
     "status": "aborted",
     "timestamp": 1657967179710,
     "user": {
      "displayName": "Thanh Bạch Phạm",
      "userId": "13498167898249894494"
     },
     "user_tz": -420
    },
    "id": "YHCOi3vpjc_D"
   },
   "outputs": [],
   "source": [
    "# Nhập code của bạn ở đây\n"
   ]
  },
  {
   "cell_type": "markdown",
   "metadata": {
    "id": "YA0N3-hSmO2k"
   },
   "source": [
    "# Task 10: Mô hình hóa hồi quy tuyến đa biến số lượng sinh viên ghi danh cho mỗi trường đại học và chi phí ăn ở để dự đoán số lượng sinh viên được chấp nhận và trực quan mô hình\n",
    "\n",
    "Tách dữ liệu số lượng sinh viên ghi danh cho mỗi trường đại học và chi phí ăn ở từ bộ train và test"
   ]
  },
  {
   "cell_type": "code",
   "execution_count": null,
   "metadata": {
    "executionInfo": {
     "elapsed": 14,
     "status": "aborted",
     "timestamp": 1657967179710,
     "user": {
      "displayName": "Thanh Bạch Phạm",
      "userId": "13498167898249894494"
     },
     "user_tz": -420
    },
    "id": "z_w0HTopm6dp"
   },
   "outputs": [],
   "source": [
    "# Nhập code của bạn ở đây\n"
   ]
  },
  {
   "cell_type": "markdown",
   "metadata": {
    "id": "pKEzqEXOm6dq"
   },
   "source": [
    "Điều chỉnh shape phù hợp với đầu vào của mô hình. \n",
    "\n",
    "Lưu ý dữ liệu của chúng ta ở phần này là 2 đặc trưng, do đó đầu vào của mô hình đối với X sẽ là (m, 2)"
   ]
  },
  {
   "cell_type": "code",
   "execution_count": null,
   "metadata": {
    "executionInfo": {
     "elapsed": 15,
     "status": "aborted",
     "timestamp": 1657967179711,
     "user": {
      "displayName": "Thanh Bạch Phạm",
      "userId": "13498167898249894494"
     },
     "user_tz": -420
    },
    "id": "VokOIHG8m6dq"
   },
   "outputs": [],
   "source": [
    "# Nhập code của bạn ở đây\n"
   ]
  },
  {
   "cell_type": "markdown",
   "metadata": {
    "id": "v3PSjYQem6dq"
   },
   "source": [
    "Xây dựng và huấn luyện mô hình"
   ]
  },
  {
   "cell_type": "code",
   "execution_count": null,
   "metadata": {
    "executionInfo": {
     "elapsed": 15,
     "status": "aborted",
     "timestamp": 1657967179711,
     "user": {
      "displayName": "Thanh Bạch Phạm",
      "userId": "13498167898249894494"
     },
     "user_tz": -420
    },
    "id": "gUzZop-gm6dq"
   },
   "outputs": [],
   "source": [
    "# Nhập code của bạn ở đây\n"
   ]
  },
  {
   "cell_type": "markdown",
   "metadata": {
    "id": "VfGPQ1_am6dq"
   },
   "source": [
    "Đánh giá chất lượng mô hình bằng chỉ số R2 cho tập test"
   ]
  },
  {
   "cell_type": "code",
   "execution_count": null,
   "metadata": {
    "executionInfo": {
     "elapsed": 15,
     "status": "aborted",
     "timestamp": 1657967179711,
     "user": {
      "displayName": "Thanh Bạch Phạm",
      "userId": "13498167898249894494"
     },
     "user_tz": -420
    },
    "id": "ae-0Pgu_m6dq"
   },
   "outputs": [],
   "source": [
    "# Nhập code của bạn ở đây\n"
   ]
  },
  {
   "cell_type": "markdown",
   "metadata": {
    "id": "Mc1t52z7nrEd"
   },
   "source": [
    "Trực quan mô hình với dữ liệu test"
   ]
  },
  {
   "cell_type": "code",
   "execution_count": null,
   "metadata": {
    "executionInfo": {
     "elapsed": 15,
     "status": "aborted",
     "timestamp": 1657967179711,
     "user": {
      "displayName": "Thanh Bạch Phạm",
      "userId": "13498167898249894494"
     },
     "user_tz": -420
    },
    "id": "hu_2eadYnl6T"
   },
   "outputs": [],
   "source": [
    "# Nhập code của bạn ở đây\n"
   ]
  },
  {
   "cell_type": "markdown",
   "metadata": {
    "id": "nr4jtu2e03rk"
   },
   "source": [
    "# Task 11: Sử dụng hồi quy tuyến tính với toàn bộ đặc trưng để quan sát tác động của từng đặc trưng đến mục tiêu"
   ]
  },
  {
   "cell_type": "markdown",
   "metadata": {
    "id": "iWUA6NVeDQWX"
   },
   "source": [
    "Tạo một bản sao về dữ liệu train và test"
   ]
  },
  {
   "cell_type": "code",
   "execution_count": null,
   "metadata": {
    "executionInfo": {
     "elapsed": 16,
     "status": "aborted",
     "timestamp": 1657967179712,
     "user": {
      "displayName": "Thanh Bạch Phạm",
      "userId": "13498167898249894494"
     },
     "user_tz": -420
    },
    "id": "_KRajJEc1S1i"
   },
   "outputs": [],
   "source": [
    "# Nhập code của bạn ở đây\n"
   ]
  },
  {
   "cell_type": "markdown",
   "metadata": {
    "id": "Wp0q3mDC1hJz"
   },
   "source": [
    "Điều chỉnh shape phù hợp với đầu vào của mô hình.\n",
    "\n",
    "Lưu ý rằng đầu vào của mô hình lúc này sẽ là (m, n)."
   ]
  },
  {
   "cell_type": "code",
   "execution_count": null,
   "metadata": {
    "executionInfo": {
     "elapsed": 16,
     "status": "aborted",
     "timestamp": 1657967179712,
     "user": {
      "displayName": "Thanh Bạch Phạm",
      "userId": "13498167898249894494"
     },
     "user_tz": -420
    },
    "id": "Up8x6q5s1dxI"
   },
   "outputs": [],
   "source": [
    "# Nhập code của bạn ở đây\n"
   ]
  },
  {
   "cell_type": "markdown",
   "metadata": {
    "id": "H6ScXX-s3K4t"
   },
   "source": [
    "Trong hồi quy tuyến tính, đặc trưng có miền giá trị lớn hơn sẽ chiếm ưu thế hơn so với đặc trưng có miền giá trị nhỏ hơn. Để công bằng cho tất cả dặc trưng chúng ta sẽ áp dụng một phương pháp được gọi là co dãn đặc trưng"
   ]
  },
  {
   "cell_type": "code",
   "execution_count": null,
   "metadata": {
    "executionInfo": {
     "elapsed": 16,
     "status": "aborted",
     "timestamp": 1657967179712,
     "user": {
      "displayName": "Thanh Bạch Phạm",
      "userId": "13498167898249894494"
     },
     "user_tz": -420
    },
    "id": "UGda5XPN31iS"
   },
   "outputs": [],
   "source": [
    "from sklearn.preprocessing import StandardScaler\n",
    "\n",
    "# Nhập code của bạn ở đây\n"
   ]
  },
  {
   "cell_type": "markdown",
   "metadata": {
    "id": "4HxMhHEs3yc1"
   },
   "source": [
    "Xây dựng và huấn luyện mô hình"
   ]
  },
  {
   "cell_type": "code",
   "execution_count": null,
   "metadata": {
    "executionInfo": {
     "elapsed": 16,
     "status": "aborted",
     "timestamp": 1657967179712,
     "user": {
      "displayName": "Thanh Bạch Phạm",
      "userId": "13498167898249894494"
     },
     "user_tz": -420
    },
    "id": "C_H83j5x1K14"
   },
   "outputs": [],
   "source": [
    "# Nhập code của bạn ở đây\n"
   ]
  },
  {
   "cell_type": "markdown",
   "metadata": {
    "id": "SLMS5oOMDe6U"
   },
   "source": [
    "Đánh giá chất lượng mô hình bằng chỉ số R2 cho tập test"
   ]
  },
  {
   "cell_type": "code",
   "execution_count": null,
   "metadata": {
    "executionInfo": {
     "elapsed": 16,
     "status": "aborted",
     "timestamp": 1657967179713,
     "user": {
      "displayName": "Thanh Bạch Phạm",
      "userId": "13498167898249894494"
     },
     "user_tz": -420
    },
    "id": "ntGHGGBa9tJC"
   },
   "outputs": [],
   "source": [
    "# Nhập code của bạn ở đây\n"
   ]
  },
  {
   "cell_type": "markdown",
   "metadata": {
    "id": "yR3wfITz4JOf"
   },
   "source": [
    "Quan sát trong số đối với từng đặc trưng để kiểm tra xem đặc trưng nào có tác động mạnh hơn tới số lượng sinh viên được chấp nhận.\n",
    "\n",
    "Đối chiếu trọng số của từng đặc trưng với ma trận trực quan để đối chiếu kết quả, nếu giá trị trong ma trận tương quan là dương lớn thì tham số đối với đặc trưng đó sẽ lớn và ngược lại.\n",
    "\n",
    "Để hoàn thành được phần này, bạn hãy tham khảo và tìm ra cách lấy trọng số cho các đặc trưng từ [LinearRegression](https://scikit-learn.org/stable/modules/generated/sklearn.linear_model.LinearRegression.html) của Sklearn"
   ]
  },
  {
   "cell_type": "code",
   "execution_count": null,
   "metadata": {
    "executionInfo": {
     "elapsed": 16,
     "status": "aborted",
     "timestamp": 1657967179713,
     "user": {
      "displayName": "Thanh Bạch Phạm",
      "userId": "13498167898249894494"
     },
     "user_tz": -420
    },
    "id": "PVVTmOI_13sh"
   },
   "outputs": [],
   "source": [
    "# Nhập code của bạn ở đây\n"
   ]
  },
  {
   "cell_type": "markdown",
   "metadata": {
    "id": "DDdPtxPy6PXO"
   },
   "source": [
    "**Câu hỏi: Đặc trưng nào có tác động mạnh nhất đến số lượng sinh viên được chấp nhận ?**"
   ]
  },
  {
   "cell_type": "markdown",
   "metadata": {
    "id": "t50qLIvE7fWT"
   },
   "source": [
    "Trả lời (nhấn vào đây để trả lời):"
   ]
  },
  {
   "cell_type": "markdown",
   "metadata": {
    "id": "GooaERfq7jex"
   },
   "source": [
    "**Câu hỏi: Đặc trưng nào có tác động ít nhất đến số lượng sinh viên được chấp nhận ?**"
   ]
  },
  {
   "cell_type": "markdown",
   "metadata": {
    "id": "9IPF6vRJ7mTB"
   },
   "source": [
    "Trả lời (nhấn vào đây để trả lời):"
   ]
  },
  {
   "cell_type": "markdown",
   "metadata": {
    "id": "lNinvf8k0abh"
   },
   "source": [
    "# Task 12: Xây dựng mô hình hồi quy tuyến tính của riêng bạn\n",
    "\n",
    "Tùy ý chọn đặc trưng và điều chỉnh siêu tham số\n",
    "\n",
    "Yêu cầu: R2 score >= 0.9\n"
   ]
  },
  {
   "cell_type": "code",
   "execution_count": null,
   "metadata": {
    "executionInfo": {
     "elapsed": 16,
     "status": "aborted",
     "timestamp": 1657967179713,
     "user": {
      "displayName": "Thanh Bạch Phạm",
      "userId": "13498167898249894494"
     },
     "user_tz": -420
    },
    "id": "j4dCKe94ou_r"
   },
   "outputs": [],
   "source": [
    "# Nhập code của bạn ở đây\n",
    "your_model = ... "
   ]
  },
  {
   "cell_type": "markdown",
   "metadata": {
    "id": "Ockon9vJp0Kl"
   },
   "source": [
    "**Câu hỏi: Hãy giải thích quá trình lý do lựa chọn đặc trưng, các tham số điều chỉnh để đạt được R2 score >= 0.9**"
   ]
  },
  {
   "cell_type": "markdown",
   "metadata": {
    "id": "07N7BhSQqIAX"
   },
   "source": [
    "Trả lời (nhấn vào đây để trả lời):"
   ]
  },
  {
   "cell_type": "markdown",
   "metadata": {
    "id": "gH1caXuV7vn1"
   },
   "source": [
    "# Task 13: Sử dụng hồi quy Lasso để chọn ra đặc trưng tốt nhất để dự đoán số lượng sinh viên được chấp nhận.\n",
    "\n",
    "Hồi quy Lasso là hồi quy tuyến tính đặc biệt được tinh chỉnh để có thể đưa các tham số của các đặc trưng không quan trọng tiến về 0 và còn lại các đặc trưng quan trọng.\n",
    "\n",
    "Alpha càng lớn, tham số của các đặc trưng không quan trọng càng nhỏ và tiến về 0 nhanh.\n",
    "\n",
    "Yêu cầu: Tìm giá trị alpha sao cho mô hình đạt R2 score >= 0.92"
   ]
  },
  {
   "cell_type": "markdown",
   "metadata": {
    "id": "3aG5kuOK8Um1"
   },
   "source": [
    "![image.png](data:image/png;base64,iVBORw0KGgoAAAANSUhEUgAAAqgAAAH0CAIAAAB+fkgaAAAgAElEQVR4nOzdeYxc13Uu+m+tvc+pqp5H9sBmk81RzZmaKMma7FjXjiM5tvOcvHdz8/KQAc94gWEnCGAHCewEAQLExrt5GZEEiQMH10nuzU3sGyWKrTjWYEukJs5jcx6aU7PJZo9Vdc7e6/2xT1U3ZUUSJQ5N1vqhQTWrq2ui4e/svddem0QEtwkRIaLVq1ffe++9X//6151z1tprfAwPJAAjiUBwFikgGLdgmzYASC0ckAsfCSUAAAPw9X0jSiml1LUSEe+9MebJJ58cHR3dsmVLiMVrfZzajDQCAQALCNkXqPozpZRS6o5VW8EvgANXpzgIMIABc/gLA+EPCXcmp5cBSiml7izXOlV+23MAAEOAAAJTTXaq/pHx2V00/JVSSt05amvE7wEBCSphHoI9TPYTJMz/V34qgL9VL1QppZS6MWpuxA/Ag2dH8R4gC/IgeIDhs/QnX7kqqq1rI6WUUne22gp+ri7lh/+E1X5vQAxTvZevTvsbTX2llFJ3ltoKfoBDvgtAXJ3Nzz6EN4W8pr5SSqk7T21lWyjjh3MAHOAInuE8RMJyvwCQatm/FziP26bNgVJKKfXOamzEHyr52TigJJ7ATEhjmNkPgrykRGSFyBOoti6MlFJK3fFqL9gSgbBAmFgI08DpEi4DRSCU9xNZAmUNDXW4r5RS6s5Se8FvDFKXpimAGWDb8TP/9PrOF46MjAnSUOMPIhgiqjb4U0oppe4YNTbVj7DOzxFTAlyenD509vyLx44NuHTFwvbGPEdAJDAEIqrBiyKllFJ3vNoLNxJwNpCvq69r6esdryvsHb04Ui66ysdBgHiftfTRQb9SSqk7SI0FPwFEAMR5ADGho68raWk4PHn5xKVLUwAAS4BARITC2X1KKaXUnaPGgr/SoteysUAEtBK6m1vbOxbsP3vhVMnNhGb+BJABYHWVXyml1J2l5oKfQtMekqQ4XkDaATzau6jDRXsvjO2ZLBaBMpIiysJMHlTWIb9SSqk7So0Fv8D77JtCLo6QNAHr25u7c4Vz08Wj09PFrGEvp+IAXeBXSil1p6mx4Ac4vGPvQeRhGVgSo6e+kLI/fvHCqEBgZzc71NzHo5RS6g5XY8k2W6gvAHsIAY3AwIKOlvaWkxcvHj53sQwAiMlAS/qVUkrdcWos+AEQUg9YA5CFzQN1wLolXV2tzSOXx4bOX5oJR/jAhztr9iullLqT1Fbwh0I9EQ/ApT4c1hcJ+i266vLs3fGx8dPhxD4ByIP8LX29Siml1HVWW8E/B4c+PiQwDnlgdXt7b1Prqeny62cmywBEBE7gw2WAUkopdWeoyeAnD4DZeggRjEEErO1oG2htGS0lO4bPTQIpoLP8Siml7jw1GPzeGgsPJgjEIYFHAVjFWN3eOVksHbty5ZRDiU0KA6Ga/IiUUkrdsWot1TyqRf0CB+8AALFHM7Cspamro2U8Ke85c34UcCAic0tfrVJKKXWd1VrwV3hgzgI+eRSApW1NKxcsKE9PvnHi+DmgDKRO+/YppZS6o9RW8M8etVvZpycgECCwHp0Wq9qbo6R8ZOzyKY8SkHryGv1KKaXuILUV/ACyt0wAeQYbMBhgQHwdcFdrU09dNJb43ecvXgEoAkKBv1JKKXVHqLngzyr1OQV8BLZgAWC8ADGwtN4M9nWXbbz9xPDwROoAHyYGNPuVUkrdEWou+LMmPiQgIQ8jcPBleDBbYAGwfsmiuNBw7MLYqZFRp4fzKaWUurPUXvADqMa5A9zsX41HAVje1tqeyxWLxZPF4hmgBAhd9Yvha853V9+ilFJKzWO1FfwCCMHBAwYShag2YAMm8gZSANqB+xd2LmiMXxo+t2XcTQMeHuLCDgAPlKo9fStJ78N9wpdmv1JKqXmstoIf8D7bwcfVhK4exON8YoBWYENXV7O4k2Njx6amSoCHIWYA4lMGKEwTVKcBJKsOBGl/X6WUUvNdbQV/6MMXwrv6l+zknnAujyAGVtdHS5vby9MTp8+dHXFIgTJYAEkdwRMggCMIV7YICEgYYNHT/JRSSs1vtRX8mHvQLgEG4OwCwMOzNSCQQxtwd//Agtbm4QvnDpy6WARSwANkCZWPzGG28V91jt+FPQJKKaXUfFVzwZ8RAHAERwBCCx94iIjEgkZgXVfLkgXtFy6P7D5zYQxwAEGISeBM2PYP7+AFHuTDdIEH60S/Ukqpea7Ggl94bim+q1bjAwBSeA/JGdSn6I2xtKMdzh8dHz9URgI4Jw5IxJEgmr1W0M5+Simlbic1FvxVdHUZnszeDgAedcCaru7+rs7TxdIPjl4oARBOQUwGDvAw8ASR2WN/wICp2c9TKaXUbaJGg6q65b56Up8Xx2AA3gMeOY9VjbmVPb0XS9OvHj96BUgsC5hASD0cDGAq4/5QOEDVskGllFJqvqrJ4Kds031WlS+AICJDEA8RA8dgRgewtruXDI2Rf/382CUAYCSAYSA0AJh9QADwIJ33V0opNb/VWPDPHspX+VsW1UzgMG4XwFkQ0AT019VvWD4wVZp69eTx80ARMGwhgIQJfuLqnIFSSil1O6ix4AeQFeUB1eE+AIJ4b2AobM1jCFAAFhd48+LFmJl8/ezxA0m5FFYIGOBsFz+BuXrcH3SiXyml1HxXi8FfRXP/I1xt7wOIAMajHVjdmF/c2Djh3BunTo8JygAMYATECL1+q8N91pG/Ukqp+a4Wg39OwM+O1IkZYBJmiAUZiHiJgaUWj61YlovyO4+dPDKNcYsiQSBCc4/q8SAfJhI0+5VSSs1nNRb8b3mAHs3t5wf2sIAFCXkLdAEPLh5ojxvOXhzfce78WNbFr3JoTzb570FeU18ppdT8V2PBn/Ghrr+6Ey/Ed9jIB0dIhQTeCIAGYCDG4ILFOc5vOzu8y6GMbF+AYO4YX0SP6FFKKTXv1Wbwc3XD/dwpAJFKS78068EvcMa7JuDevoXdhYZTY1dePzU8AzjY9E1n9GG2jb9SSik1b9VYVGXpnFXj05xpfgKMITAQATkLwMJaEFgMsKE9GmxtHh0vHR8rDZdQAlKIgxcDkRRiIZa8FvUrpZSa72os+DE7Rn/rkJ5zIRD+6+EN0EVYvaCzt6N9+MKl14+cLGaz+t7DkzHA7LyBZr9SSqn5rPaC/1oIIGAPVwDWL1mworv94si5nWfPnQE8iOEJAsoO+CM9klcppdS8p8H/9pjBFmSA3giDna1Nls47/4PhsSJgYCQrBoD4MEeg5X1KKaXmNQ3+t0MAgS3ICvLA+vbmNX09J2eKLx4/eRnwMMwGIgCEoKmvlFJq/tPgfycCcmIIJLIqx/cMLB6fmTpxZWLfyOQVwF/dqZd0J79SSqn5TYP/bQkgodOfz5FrAQY7Wtf0LSmm7sXDR4+kSFBpB0CC6oZApZRSar7S4H8nAkDSJMmDI0h3xB9eu8aWk9dPDh8quQnAzWY96+eplFJqntOgeic+AVEURQQQfAdhQwMGm5rHrX3p9Jmj00kScTjNt5iUtbJfKaXUPKfB/7bIgxnkIcKAgRSAZRYfGFjS2tT68p79+69cmgDGp0sARVFc1jV+pZRS85sG/zthAti77LsIaAceWNbRm68vzpS2jZzf50uUz0HgAQJpZb9SSqn5TIP/7XGlus8QYEDskxywkHF3V/eyzu5dp0+/fHK4xHBAItq2Tyml1Hynwf+uhO58DGISh3IEPLG8dUWh/uylyb2XrhxNMMFggtEPVCml1PymOfVOyABMFPr0gIkIYuEXMzYt7GltWXDo/JXnDg7NEAhgPadHKaXU/KbB/86kspvfw6WAADF8PXD/0taNy9ZcHk+2nT97BHAAO6/lfUoppeYzDf53IEDqsoo9kWw8T/Cx+C7CmrbOBfm6kRTPHjg4AcCGzzPEvxd4CX18JTu+TwDRzr5KKaVunRsb/Ld7JzsBPMCWQR6UGliLCDACcTSdBx7rwkdXrDo/NvP8gZND05gkCMEVZyAe8GWUEzifAg4QiMDDeziBx+yXUkopdfNcc/DLf+At70xEb/PTt3zMa309N1rlA6oM3D0MmIEIZJD0AhsWdCxsaS9S9N39Q8cFJYDYgmY/WDZwPlsswOyj+aseXimllLoprjl4qOIt//ofecfrg3f5ODcZAQQY+Kwdb1jsF1gYQkwOdcDKDjy8rDcnM88dO7h1bOIS4KJcSkhhrbAFUvJpJCDAwQgbGIKEygH3zi9BKaWUup7e+4jzP8rpN80E0NXex0u9VSpDc6ms33tALCTKm8gC7cCjyxf2NcaXkb54/OSxMqYJRUAAg9in4uCJJLuIEFQeBx4MaC2gUkqpm+o9TvW/zS23f9LP5Wcn+YHZvnwCpCAP4xHBLwceWrG0qbl12/HTr50bOxfukyQArI0Z5JAI+ezDluwhdZZfKaXUzfcep/p/+JZrWp6fh2v57woDxodufuGLGQbFRvjH+gdWtHe6kv/BwaP7p1AETGQBQGBhIlgPL5SCULmSIBIwdN+/Ukqpm+o9DjvfTTmeiHjvnXPe+9s16cESvkK5PrwLe/pCYns4+AgmRqkbeKJ/xfr2hUdHLr9w5NSwRxnkvEMq5GFhHCSBAyUgDyLAQrSzv1JKqZvNXusv+IqQ5UTEzMw8dxpARKp5H370pjsAKJVKc1cEmDk82vt+R9cdV9M5TNI7+IiYUN2SzzG4ADzWEZ/r6T5+eXTb0UNrOmxHb0+nMcZnJXzM4c4exEA0u7YvOupXSil181zDiD+M77331lpjTC6Xy+VycRwzs/eeiMIFAYCQ+lEU5XK5KIqstd77JElQmeT33jNzHMfhp9Xlg7lzA9VHqwpPMffprten8K7efvaHB8TDh3J/BgORQdQoqC/jQysWbOzvuTw59szQgV3ADAAGHEAwIJM9DqWAo9nFfqWUUuqmueYRv7V2amrqzJkzMzMzU1NThUKhq6urp6cnTdMQ8OHKIEmSoaGh0dHRxsbGlpaWRYsWASiXy8wcrhvGxsYOHTqUpml3d/eCBQsaGhrCrEA1+MMcQJVzjueo3miMed8fwtshAVM2WCeQAQvA2cAdBFAlv1stiowPrFh49MKxE1PFf94/tGRwZWxQYEA8EQwMAA8OuwOzOn+llFLqJrrm4B8fH/+jP/qjZ5555ujRo1euXGlqanrkkUd+5Vd+5YEHHgCQJEkul5uYmPjyl7/8rW9969SpU01NTT/xEz/xa7/2a4sXL47jGIBzbufOnV/4whdeffVV731/f/9nPvOZz372s0mSMHM1yMOAPswEiEj19mphQRRFN3xpoNKlH1QZ4cNXbk1AxnjmMJlvAIMG4O72xmMrBv5u/7FXTlwYbOl8qqd1IcGKgxiAr0p6BuCru/uUUkqpm+CaU6dYLD7//PPr1q376le/+vzzz//O7/zOnj17PvOZz+zatQtAFEWXLl36zd/8zb/+67/+xCc+8dxzz33xi1985plnfumXfuns2bMA0jTdvn37z//8z4+MjPzX//pfn3766VWrVv3u7/7un/7pn6ZpaoypzvZXSweqFQCBcy5JEu99uVy+GbP9oXo/fFLC8AwhCDySUJtXvfZw8AZJD+TRlcvv6umfKbrv7T94ELgID64c2BuO+Js71NdBv1JKqZvomkf8zc3Nv/3bv718+fL29nYRGRwcbGxs/PSnP/3d73531apVxpjh4eG/+Iu/+OQnP/m5z31u8eLFa9euJaJf//Vff+mll37yJ3/SWvutb31rx44dTz/99Ic//OF8Pl9fX/+rv/qrf/AHf/DpT386l8uF2fvqUH7uSn+4PZQOMHMURW9aDrghKBvuSxivC8MxOCVmgWQvkwCCgwCuAbTS2KcGB//6wkvHxi9/+9DRtqVLGw3yBFNJfRcWCAi6mV8ppdRNds3BY4zZvHlzoVAAMD09XVdX99RTTwGYmpoKSbxly5bx8fFf+IVfWLx48dTUVEtLyyc+8YlCofDaa69NTEycOXNm9+7dGzZs+NjHPpbL5ZIkue+++z71qU/t37//5MmT1TivFhKGSX5rbbVCME1T55yIhGrBG4sA9tVddw5zu+8ZB59S4uFhAIaFycPmnG8HHmnhB5f0MtsXdu9/5ezIJaBcfcDwBwm8aN8+pZRSN9k1B7+1dmZmJp/PJ0lSV1fHzH/5l3+Zz+eXL18OwHs/NDTU2NjY19dXLpettaVSKY7jwcHB4eHhNE3Pnz8/Pj6+cOHCkOLlchnAkiVLAOzevds5h0ptf5jhD5P/aZqisiPAWnszVvcBAALv4B08AA+kQBqeVhiAA1K4hFMxHgLjYVKLJM57LAA+umbZ6t6+YmqfPXhiyyRmAPjwGIkg9fAAZQUDSiml1M1yzVP9AMIWvhC9L7744h/+4R8+/vjjmzdvZuaxsbE0TUUkbNWbmppqaGgA0NzcfOHChWKxyMzT09P9/f3hPtPT0wCMMVEUlUqlYrFYV1eHSkm/9/7SpUvhWiEs9jc3N4+NjYXrg5vTFKj6HJVO/XMX68PVRyjrp+yiwMAnyEXpSms/tHLZ5bGJw+cvPLtn/4YHBmPmAsBwNLfMj6o7+SuFfnMvaaTaJ5izrsE36o0qpZSqCdcQ/HNP5Asr8du3b//CF74QRdFXv/rVpUuXhp+maZrP52dmZogolOKHEXzYxYdKR79w5xDwYc5/7rp+mOEnohdeeOG3fuu3du/ebYxxztXX109NTfX39wMwxoSJgevzSbzlWwab2e9hQ+gzADBMXNmHTwCYEAGAeEgEC64HPtAUXx7o/R9Tlw9cPvd3u3OfWrd0KbiQkjGEpAwbiaGwXBFnvwkQZ9ca1cY+4sPFgQMDMJr9Siml3of3MuJP0zSKoq1bt37uc58rl8t//ud/vnbt2vCjpqam7u7usbGxcHGQJEnYwjc+Pr58+fIoirz3TU1Nly9fNsaEx3HOTUxMAGhoaKivr0eliC+E+gc/+MG+vr6wiT9cMfzMz/zM8PBwdTng+n0Ub43mrIaYyk0AAKbqLZXbBfAGIjCQOnI9MI8v7Ts5Pfm9vXu3MLd3L2jsbOixlEsBa8FSdKkxkcGcQ4Ao7CEASfVGDosEXksBlVJKvW/vNvir8+phHP/SSy/98i//cqlU+v3f//0HHnggLNjHcWyt7evrA3Dw4MG+vr6GhgYimpmZ2bNnz2OPPdbU1LR06dLGxsY9e/Y456IoClv4hoaG8vn8mjVr0jQloiRJ8vk8EaVp2tbWtnnz5vACQszX1dWlaVpdC7gZhf3vWnYpIIAzFqg3WMJ4cvmqyyMXX758/h8ObO+tf+SBOrQKCsQOaWSMReUIQGKYUFIABluqLjNwCvaAgeerL0SUUkqpa/WuUiSkfqi0LxaL+/fv/+pXv9rU1PS1r33tkUceCZEcx3Eos7/nnns6Ojp+7/d+78iRI2HV/0/+5E+mp6c/8pGPAGhubn7kkUdOnTr1x3/8x9PT0/l8/oUXXvjGN76xYcOGVatWhauKub16AKRpOjU1lSTJ1NTU5ORkmqZhaSD0+r1RH8x75AUJKM3W/aelAKwv0I/ds6m3pXl49PI/btt+AChGmCymlZaAHtWCQbECFngfDv2d8+YYMPBUPSZYKaWUek+ueap/Zmbm537u51577bWf/umfPnjw4PPPP9/Y2Oicu//++/v7+1tbW1etWvXFL37xK1/5ym/8xm88/vjjb7zxxve+971f/MVfvO+++8Lo/OMf//jTTz/9Z3/2Z+fOnevs7PzHf/zHUqn0pS99KUzvh9a/4bmiKAIQ9vIBiOM4zBOEK4x5NdYPBN4hNUSUWjA4R6aMQowNzfWfXH33/9y6defF8988eKpp2aLBgi0lSS6SMhwTW45CplvDHh5wDmLIh0P8Kv9IPHuVoJRSSr0n7yr4qyvuAMbHx8+ePdvd3f0v//Ivf//3f9/Y2Dg5OUlEn//85z//+c+HNfvPfvazRPT1r3/9y1/+cnt7+8/+7M9+/vOfr6+vD4v0y5cv/8Y3vvGlL33pa1/7mvd+w4YNX/nKVz7xiU+USqVqlV/16cJevjiOi8ViLpcLy/+hOGAeDvorR/GRZQ9mECwj9ehgPNHTNrp05bdPnXhu185eh/bVi1qjKIL3KAmQTewLABjDDk6QOrAhBrg655+V/s2jd6yUUuo2Q9e6KS600iuXy6HwfmpqKpfLWWvDaXsAkiQJ9fblcjlNU+99c3Mz5izSl8vlsC4Q+gGEvXlhd/7cvMcPjenDiv7q1as3bdr0jW98o1gs5vP56/Q5XB8OPkGZQTEilAHLwiimQpYS4Czw/35/x45z59pbmzYvXvRzKxa1AhYlC1jJwVXq9wwcJQ5lAAbWwMBXrs/0XB+llKpVYfBsjHnyySdHR0e3bNny3orcr3mqP5yKWygUiKhcLofGvSLCzKFSL8zPh/uEX3HOhW48IuKci+M4nODX1NQURvPhbiHXw4OEyA/F/NXdg9XrgLC1r/qL8wcDBOPDrD0LiEnARBbIC4TwU/dtTLduf+XcCbLUX1f3xML2VuQipNk4/qoO/gx4gXeAYYZwNiWgwa+UUup9uObgDykeRuRhS171R3N77Id7hmuTamATUVitDwE/9wEDANUF/vCAc7+Ze2nDzOGy4Fpf/w1F4BgADMTDUJiizzEEcAQDDObxv9296cpOt/3Y4X8RFBrueaI5rvNWUhAjtP51HkLhnUtoGujgmdgQSNv8KaWUen+uOfirYfwmb5pwCN+/TTDPfZx5tU7/PhHmdOARH8bxHj6R1FK+GVjZiB/bsD5JSocvjDyza2/nmvX3tplCDCQSM3m4snN5jkksAJB38AJ4eKMb+ZRSSr1v1y1L3hTeYW6/2tn3Le8/d6B/R8mO3eNwxo+DcwiXRZ6ADsKHm+Knlq/qKDTuPn3mfx448OIMRoFSRKkvMXw+sgTAAQ7GcQxrwJW9fNrbXyml1PvyXjr3vXuhPh/vbkz/7u85/wmFI/gAiMAL2CACEMEZGAM83N8xzvd+e+fuV08dL3LZbly3KW+ZY0bKYJdUGgERAFhmkIeETfw39p9MKaXUne36p8h77qR7Z0Q+AAESAFnzfiKwAQEsqbfGAHCp74n4ib7G8vTSZ44d3HLiWE7S3IP3DoISbxsBY7Jzf7KCPgcQg7V1j1JKqffrOgd/tcff3BN9ru9TzHdzCu8ru/MMwBIO4PEAkGdmoA/4kZXd4xG9PHRg6+FDIu6T99y3IWcKgPFzjgEITQClsnaglFJKvQ/XHPxz9/3/cKjXXMy/iQACEsTsAS9ggg0b9LOZ/3Car0EkyJMMgD7R27VACv/g3IunzyI/JOsG74/ADhylAucAQ2wpgsARHBDphj6llFLvw3sZ8b/LdL+T1uyvmXgA2VvPDtkDUDlV14MZMVIBD+YMLWwa4bXP7duzZd/BOOXmdavuKsDCElyYIrDkAXazj145qG/utv65RX/05qdVSimlgmsO/ncf5LUY+dV3TGG7BAOAuTqEKbuZYQpAMS2uzOU/vmRBg1/9vb2HXz4wVC6X/9Pda9fWURtyOaRAKQaDnKnWCwbCV4W9VL7Ig1koNA/OrjSUUkqpQEvEr7dKh6GrbqG3uA+BAV+wZOCXgc3SbvHme7t27ho+eSWdLt67cWNDrgc2D1ssTRZyuUrOV44unPOwVG38l3UO8AQ2c1+OUkopBUCD/1ZjkVi81BksAZ5a1tlu1v3r0UM7T55I2J7tWfjTK7obgELcgDQRI0wMzyCkhBQ+lADGACir/ffkOfyjepDnbHZBw18ppVSFBv8tRqCcIQcwsJiQG+hCPm88Hzx63KbIlfyTa3sXEDixBRsOLYRkrXwQsj409fNggATswAYg8qDQFJmvY5smpZRStzsN/ltKst16bDwDEbgL+E8dzQP3PvjX9Nr+kXOnihPnGuKP93YMFsh6SCKSIwCRgAkCDySoNgiSnKHK0cDE1iSAByINfqWUUlUaCbda2PcnZIAIvh5YFOHeVvrJB+5f1d055ZNvvrrl6UOntpUxwkhzLNXJey8kIBBlNzAAcjA+7BtAGUi1w69SSqmrafDfagwYIiIvANjDJ/Ak8lADfvWx+++pb+ioz//joW3/37ZXtk7jPAAgkgRwQoBEcAUgDxQcIglr+R7GwwAeURk5r5M6Siml5tDgv9UEALwHAA8v8EBaR9ToMQB87oMPPrJsaVNd7uD5M1//wYtPHx6+CExSVCLjiEEMMLwlqZ58nJXyGYDArP++SimlrqbDwVtNAIANPHwCAWBhDWAIDPQD/+WuZX2Ndf+6e+fRqdFLJ/zRibFPb1qzEqhzsMaDBN6gsqMvJbDJ2v7EML6yqU8ppZQKNPhvNQqb8bJ2/FRpyutSENAYwQI/urCnranxm4cPbjty/I0yX/n+jk9uWLOxKSqD6hlWwAKUgRwsAzAQJ3AEMSCQ0XkdpZRSVRr8t1Rln72HJ1AuO8iXIeAIHpAU8GiP8XBjQ+Pg4EC+4QcHz28dPTOC5KEVSx7p7LjLUKNBlMDkAABFgL3PGQEZlDGn7k8ppZSCBv+tFk7v8QwmhGl/BgCC92AGGdQJnEO7wf35usWDqxrith3nR7cdGzp78eLIsuWPLx24t8G2RKgToXICE8OyAA6OPDFDU18ppdRcGvy3nANA1cb7s/15PDxDYBiG4B3a2TWQ+b+Wdb7QkGtMy0enZ545Orxt5NL/sXHw4famAaJ8jhxSD2KYCDFJDCdg0s59SimlqnQ4eMtli/zVHfcOEHgmEKF6OxPIIe9dK9yHu5r+n0fXf6B/cbOJLk5O/sOW1/5q62uvFadOIRqDnYFJpNK9XzTzlVJKXUVH/LcWV+f2s7N0KazJs0iZiCr/PgZgYeMcCkgN3AqY/3N19329Hd/Zte8Hh4emwAe27vrAiqUfXtjVD+QJLoX54cOBlFJK1TwN/lut2lqPsm9DPR6RDa34w128QIjJgMA5JJyWFtu61hbbthlVKeYAACAASURBVHl93+K+Z3ftOXpu7MrkwQtnLz26dMmmtkKbRQEwaTjLz181tTPnjOA531ba/4OvbvbnAabwCHN/QFcdNayUUup2ocF/q9FbfotKVJtwu6Esj72wUEQWHtMNiNbmotZFbSvqH9py4txLBw4/O3b6ZIn29nU+0Nu+IUKLhYGXcglRDDIQVEoIAYFw6BfsSZzh7NnD0QECj+x6wQMw8NkvhvJDRvipZJ2ClFJK3TY0+OezqyowqPIfAnsYI2VDaQxf4Fxbh+1s6lvQ0vLy8WNHhk+fOX3sRF/XyMrlGzqbesH1cSH8avjH9s4zcyggIBJLDALBA+KdJxMuNRihMdAsDwq9BgCZHfErpZS6vWjw32bIAQJD1qAekgKpNWkn2TjG4mUNqztWfX+/7D5zatfpk0emJld1df7UusHFjFYgB0ioGYgAeAgTQD6sK3CY4ScDhEkGj9niA3CIeSKAZ69FDOB1uK+UUrcbDf7bDQNpiFwGYgggibVJK9k6RIXmeNkD67dfWvr09h07Lo5eSZJLFy9vXrzoviWLBiwagBhCkhaIQZV5ewG8TwVsWKia+hUS7skUhviEyh+gcImglFLqtqLBfzsRwBM4AoUDdxng2JEXJImbrDP5OthGRIW2hr7HH/7BqcsvDB38wbnTR31p5/joQ/39j3e0dYFMCrKSpkVLBhxBGGBL2Z5/OAAAz+4EpMqWQqLskiOUH5o5ZYlKKaVuFxr8txfvkABsTOjoCyGkYMBEJpeUZ2KTbyATMTcZNCxp7Wq5742xJa/t3/P6wSOjF0ZPdvU8tHTJpuY6APkoAlKIhwjIhP2E3sNUhvM+W8qfvUUqBX0e1c0C0FYQSil1e9Hgv714jzKDQQAbgEUgBCeWyEZxHuLhvBSTlrrcXcCiFnN/S/faUrJzZPTIlfG/3TO05dKVj65ft7axblOeO2EjSoXSMqeEnEGY+PeA92BkI3l2uCr1AXAW/JxdGiillLp9aPDfZiJYwDufGMoa8UeAIRCQeLKe2Jh8wcJ5Ep9j2wz0rVq0auGi544eb2ztOHL+zH/77ovre7sm1w6uaqrrj2yOLeBstl9fAO+zlA8Pf1UPgOrqfpb4mvpKKXW70eC/nRCYEQHIBuQCAEYqRXZEYrOVdzLhn9bDc+zwcAM2rF/yxqXk371su3j5wJXi/i2vr1zQ9tTqFQ825Dph4FI2TBAIDEEgLjstgBmOPYOyur5wUeCR7fnT6FdKqduLBv/tRMAAVwfjc5v5V5v+hq472Yhc4L0zxtQ5yTM90hYtf3jNc+emnjt6fNe5M4cvXfm7Ldv3tbU8sWJgTVMuD8Rg6x0TgTkU7XNoHAAJLXxAIAJTVgLotIGPUkrdbjT4bycecPACDnvoTTXys+N4fLXkHgC8BSOxECAyBPENQD/4x7vrN3Ws3Hqq7cWDx/eduXx2wh0vYWNfxwPdrStj02AiAxhBRICHL5eJCcZkk/8Suv2gWv6vO/qUUur2osF/m8lO7A2ddCrNd8NA3AGV7OewAC+AAxw8QXLkgTSfljuNabR1XQM9fe0dr4xc2XHizGuHDh4/c3Jk+eKV7U33LOrpApoJroi8gG0MhviUokrPPgAe5urO/UoppW4XGvy3F0+V5XWq1tlLVn7HzGFhPovkyhR8DmyQZn1/rDWIGa4RfH9TNNDUsbpFXmt0u0+P/MvQyRcb6vYl5bsXdDzUUN+bB8pAGYiRRjYBAB+Tt0Do8m+1qF8ppW5DGvy3E678g5mwlM+V4K801KPqETqV/XihTT+BvbA4GGNBJg828IykgKizvXNFe+fLvaMvHTt//PLod17fcbijdWTRyof7u5fnkDdgM/vsCM9G2WF9WtivlFK3HQ3+2wkJGx9G93AERwBg4Kvr+tn2elQuCLKZeec9Uy4nFikgHvA+NmydJcsloAD0L2x/aEH7i0NH/u1ocmYy/ds927cONz56112PdHf0AHUe9ZRNLTh4odC5b/bAHqWUUreL2gv+SkHc1YfLV39S3ac2L8+bl9mDcQQQeKk01q901OGr7gwAHkxsSARO4AkRwxDDg8kgRSywEeqBpgg9a5atGlz2nb2Hdh4aOjY6OrZr544TTY8tWfZYVxuAOmICGHBhQ1+2nb/6jH72E5M5JQBU/bRnP1ullFK3So0Ff3UQDHiarUsPI2YP7+ABxEDWsW6+bVerHoxD4YVlPXwq+KrXylf9hwhR9ac0+2tcqdK3gAUeZKxYt2JPd/dzew+9cubMySvJSWdfHb3y8ZUDayxaPArC1kCQCsSJN5QTgQiYvYcDYMTASXaoL2V9/jy8hJ9q9iul1C1VY8E/B+OqQWmoVHe38AW9GzR7GUJzJ/b/ozu/zQ101bfhcsLC18E3wjR1NvY+enf/8MCLQ0Mnh88Pnz575crEg/2LPrSwtRPIeS5w7HzJcORTGBNW/EXEmXDI7+zpf1V89al/Simlbo0aC36CkA9z0SRz3nzY9+Y5tpW0Eth5NNK/WYSRoGCpnZFn9CxqXdcwuOXo8K4Lo1tPD+8aG9tXXP7oot57Y/QAnObIwlC2uYCILUWAB3lnPEzEYeuBoNIN0GJeTZ8opVRNqq3glzmnymZ/x5yBqQApE/u5a/5AjYWVYQYilOO02GcLHa1Ny+5pemNk8psHhk4Xi9/ZtvPYydPnlyx9bKCjP0ZaQiGqfqYGQpI6byBswqKJJTaUfe5UbfSvlFLq1qmt4KerZ8aFs0l+SGWy2wGOs4X9+Vjdd4MRhEGEGDY2BQAx0nrYzs6Gwea7/33oxL9OTp26MvE3B/a/fq7tU4Nr7m+BASx8iRgEQ2w4z+KcTw0bB3aAVP9HJh5hH6Cu8Sul1K1TW8FfbYADgoCTsDOeAIIjGODqRf6aO29egLKHASyHeE6MTwzSBRy3xNwyuHjZwOJn9u97/ciR7ROTxYnpg73dP3LXol7L+UrNBAMg4xMXxRaV43zC9j9d41dKqfmg1oK/sh2O4IA03EAe2bCfLVc2plf63YNQU9lvDRDm5p0YsmGCXpJyHMV9zB31WLxu8JXWlpdPnN47MnqkPHUIkw/19z3a1NgBSNml4k0uiqMYHpbgCILUAUQwUnv/Y1NKqfmnxv6/WK6awDdAdvBNdSccMwAXDpwl/6bC9DseAewhAmGwoUpZHlHEcGmB2Zb8+lzcu6y3va2t7tSpncOnX9h74NyFS5NLljzcv7A/NnUwiYOtXCsZSsMJvwISAtXWx6mUUvNRjQU/AS6FtRA2ECse7Csjf05dWjb5FLDZyrRApLbW+AUkWRWeA7LABghsTGyBKIIk0hrRB1vzvU0rVhTiN06eP3z23NcuXByanHhq5V2r8+gwYA9QCgjEkxCz8TBh3M81VjWhlFLzTY0FP4Aoe8vkBCIoe4xeRGsTImujuFRtfp9VqtfYEJXCMrwHLGfBD1R2Q4Q1kNiQFRjCBoPFKxavXLj42zv37x4588rh42dOnf/Y+nVPLGqrZ9SJxCTkACIWQ6Qr/EopNS/UXvBDyuXURszEuDx+6N//ffSVN1asuav94x/CgnYPa0BGwDWW+BVhZO4BJnBUqccTeAKcFyOGCJyCnWuKTY6xqQ79Dw7++9CC7+zcuX+meH7v3oPjPU+uWb6KokbAGlgBEkfGGJMmaWJsrqZqJpRSar6pteBnEOKcCafNgGR4/9Cl779SN3Kp/cG1aG9mn5gottk4lwSeamtiOozzuZL9IaKzaQAvUu0WGJOBICrLgphywKdWti9f/KG/fW3X7lPHX/Lp+SvjP7Js6UNdLa2ATV2jNRDvSuUoF9/C96aUUgo1OPZKXCqACFy5hJgHB1c0FpML23fh7Fkk5RzISiXpqMZK+wCAgRwQAQASh9QhdWCAyZNhIk5AiVAKAwgiSww0A13AQzl87p71P7V6XTnlF05f+MbhE39z8uJxD0TGMZyUyUYQW4P/k1NKqXmltkb8ArCxAmKCyeVg067NGwvNuUunRy4fOtq6ejU6m8XNHjPPVJspFd51WOKnbG8jGXgHEjCcT8WJQUQeOYIQJE1j0MaCad0wkO9sf/HI8ZMXLlw6dyEZXfyRtSv7IzTbfB1QminmCvlb+96UUqrG1WCwsXNOyh5pOfFFNMft96ys72s7suVVHDoFL4lADEAQj5r8fMLBBewQMSILayp7IMueSxKliMjkbUQclcgmLGJSWGPzlmJxi4H/3Nv0mfUr7mtuaMzn/9ehY7//6q6XizgDzAhy+bgGZ1GUUmpeqa1gI0B8Yo2liAU2yjWgrm7goXuTxsLQjh3+2DGkHqkHIATv/U3ZeuYBP/e84Cp5q693fqg3f73DY75LQjARGQMAzrsUziH1SEAC7+EF4iOkkcz0AI82F37pQw/c27ugvr5w4OLFv3rhpX87c+UiYYw4rX6ikv3h5vZLlOxdCLxeISil1I1QW8EPeEsg+ESAmOFzkPr8Yx9Ge8vE+MiFwwdRLMfMJCBxJhw3e2M/Ig/x8JXg91kaV//mAQ8/56tyh+wvmTQtA17gBK7SksgBiSAV56vpL5WfpZAEPoVUWxR5X3l2pIS0upPRAUKQsPABb+EN0oiFwQ5xiliIEXF40ULMZAlpPbDS4//etOp/33RXTx1Ozoz9tx07/2zvpaPABFAsJdXrDg8UIWl4ZgHEQ7zAOfiaa5+klFI3Ra0Ff1izBjOyEEWEuvquVSvbWlrPHjmEA0NIU5TLldXtG/z5CAOV0+vfFle+shhmCJC6LBmtjQEmRIRwsRJOGTIkhigrzPce4j0kBRxDDMAQBiAiAq50KZYQ8nO2M3hAINUuxgQmsIGJYKLZz4crpx4SQ2KkzUAv8JHeBf9l8wPrunqmpqa+f/TIn758eHsZ47losvJ6vEstaM7UBEOYQKGpotfN/0opdb3VVnFfCHLxnrlyVLwxiHOr7rlPtu8+vGtvw2tbVmxcCxsB5L0w+xua/UJIwOFlmTkn2cx2DwYohDyyBjplccRMIDAIlLosMy3PvkEA+KGyRJ69tvAA4BzCSTxSyVkgTWEiU5l49wyf/SC02Q+nGVYG6yQeqFxjMAA2YM6uMdh7HzMvE3Q31S2+a/2/mv3fO3fyhfOnL+6a+uiKVU8153NA5NKIKUkStpGEc5IkPC0Tw3BSeSW1d3mqlFI3TK0FPwCICMNDCERgAsV1q9e29/Zvf3Xb6NGhFZdH0dXtQDdtN1822Q4w0kp/vIAJc5biBQAiNimcBxkwAGMA8+YGgyKQyi3eg1gMhbn7MHoXeAGbkOKpKwNsrCUyJppdQSDOehjOffbZj0TCdYAPd3Hh7AMBAQYsBGcZgCmiyWBzq23YuE5O8UunT79+5Ag5zi3qfaS3faGJI1eKIgP4cBkyW3pQPSQpOy9ZKaXU9VF7wS+hR40HVUe6ERb01Pf0trZ3+HNnsWMbPvSEt7mIWHxKfAOHmwTElUODBN6DBbNzDFSZPZ+9N0CCCKY6O+4hIuIJIkJEEAYRUbYhUQCYxCEVsEAojPGJYVAql+I4JoKJrAccUkEigpjzlYY9pnKMkQccyFTn+jG7BsLhAEMXrkJQ6e9vYBhFlxRyFqCojFUxfnrZ6oWF+u+YC/uOnxgdPjd23z1P9LUtNLl6lAzKBnl4zh5yNvh1rK+UUtdZ7QU/QESAgDiU0TmCtVHHAw/2vrHtwtChk1u29j/0aFSXyy4ObqjqAJdBFObJQ/bPSf1q3IZLhFRgKBttwwl5IRGIkE8hjuDhJKuME4/0QvlsyZWTUikpO+/BbCOOjbEtTc0FFPLIc2VVgABD7OGZmD3gycAQGxiunmEIeCEAka90+LOz5ff8pnfmDaXwFkQkdWKWE9X3LmmuX/gPxW3HLl/65vbtVy73P7l+xQBy9UhizL3GCVdC5od3JSillHqfai74RVJiACQioEolOxE23d23aePp114Z3bOn/8J5NDfAhEuEG81nyZvNkwOoTKHDZwV3xA7wBAMYphDB3qViwZYTlMtIUySjGB2+cvrM6PDZsTMXLl+4NDE6UZwqs0vJJd4574XgwcxMZCJExts6yrcWWjobOrvbe/oW9HS1dC3O91qykTGxsQYQ+MBYW4lhzlbxQ40EADiTfYycTcwTPGBhE7gErhBF8MgXZUmeGpujvkc2f33X3tdOnfj740dPefeza+5aHUX18JZSJou5hX464ldKqeut1oLfw6VgK2BHFI7gy7I9n+9avba5uXnq7PDM/v2Frk60NKQi9kZO9YNwVbYJZqvnqDrYZT/n56mHsQD5NKIU5UlMHBs5euzcsdMXT16euXzhyvnR8YtXpq5MFCemilPFcskUciaOoji2cQQD732Seu9caSpJy2mEuDFX35hrbCw0tDa2tzY0NdU3tLe0DvQMLOnq7y301aMQsWUmj5RnS/ez116t8+fq8X2UvU4GEiQMA0RJ6iNmWKIyOiw25PDpe9bEdblXTp3ecvgYX5769P2b1tZzPThGaq/Oe7l6IkAppdT7VGvBD4oMIB7ZcnJILEQx2EcDA4P33nds1843/umfHr7/fjTWl73nWN55s917JYAniAAenNXxp6DqccCUpAmbiIldmpIQRWYmKnvIDKZPjB8/OjJ08tLJI2cOHTt79Ojxw1EUNTe29LT2LF002F7f1lTX3JhvqsvlLUeRsbGxDBYReJeKnylNl1x5ojQxNj12ZWZsbHJ85PLpoZOjk9MThaaGru7eJf3LlnQO9LcuXNU2sKShrxkt5BkUOQ9iiQgQR0RwAEcgkIAq6xEEWPIGJlyyGMOo7AxwKRoMNjM61ixfmG94ds/el0Yvjryx4yc3rN7cnG+DLSAxPjGIHVPqEXOlfCF8YnO+V0op9R7UXPBjTvUcZ396EIMZS5f23X/va1u3RIeP4OBBtD9QyEc3esjpHIwBm+prA0S88wL2XmxUALxDAusJfhqli5g8cuXYgSMHDhzfd+DY3gtj5wqNdV09Cz7wgUdb61p72noXti7sbe7rbOpqM211KABiweEZKjV5kiIVSAqfojyOiZFk9Oylc8Pnz5wfO3/+0sXJ8tTI+OWtr7/y3cnnOppa71l+96aBtat7V/e2LOzKLWBjxbscWYiDAziXLVbQ7CG+KJeRt0Q+mwkgrnbjMRHEpY2wdxnklnXnmL5z+Njes+f+ZnqmeN/Gh9vrFyBq5FSSBBzbt5pt0exXSqn3owaDH5iz/Y2A0B02SSgu1GHTBunqlMsTpW07cyuX08IuVFfeb8TrAKLwaggCn4SJboqYsyV/EjjCpB8nlklcGZo6/M87vr3/5KGRcyN5yjUWGte2rV+xaMXqgTVrlq1tQVM9GgyMyXrssEAMDIErHf1CVovAOqQWsUXOor4t6r6rax11kYMkkFMTx/ce2bX/xL7jV06MFC+9dn7bS2debYga7lm68aPrHl/btbKLOwEBR4DN+gsSSCAlkAAWsDG8hwkdBH3Y42cFQkjhxMDA14PvAtoGulrI/PO+/QenJv5q245LAwM/vrw3BxublAHnhAzJnLAnIhHR7FdKqfesBoN/dgmZBCBPWSMfQilFT/eqDz129unnDm7Zum7zJupqA8c3dCc5GQ94L14AQwYIQYe0CJtHWaRMJc/YN7732a3f2XF0+4SdHJ+arLP1awbWPLbxsfV96zuxIEYuQhQhDi10pNIaQEQMGXgIWREv5IkYIFM5eZfAMQCBCXscCCVfXtm4YuXGJR/Z+CPn5Pzu4f3P739597G9U+WZLQdePXp4aKC57wOrNn9g7UPtuU7LOcM5OITefxRnOyWzrj6zsqpAEnh4IgKcS4p5sb1x/LElHQ0N9/3dvn3Dl8ee3bUvEvqxFT2dbCn1hbca8mvkK6XU+1GDwW/mtLfLutER2IQ19gWda5748IlvP39w987+Q0daNm1AbIT5hoVNKkg8UoI1FEGyMTIYNg9hP4Px0zNnnn3j2ZcPbB11YxfOnxvsWvbUvR/fvPGB7vqeBjQ0oDFCbMQY4ay+jkHsPVIhz8SAgInARABsdaojNO67qp2f917SvA1tePI55BupZVHf4gcXbB55cHT38P5nX31u36kDF0rjp0ojLx7feu+yNY9tfKwNvTlTx6l3JVcoNMAgzR6ZATbwBt4DJhxEBI45SsU7KtvIeBEDdAEf7sg3rlv7zzu27RgZ+V+HDo6Wih9bO7DCMsrl+jjWpFdKqeuo1oKfw5q9/+EbPRBbcD2Wr2jp7524ePHi0FDLyWEMLM1GxzeAAB6ewUQW3obuN4jg2E/gyjQmXzr40pbdr+w7cfDc5QtLli/70R//0fsWbljSvKgt7iAQeVPHBRJGGdmm92yDHTEZgAW+cuKPQLLOOKHTrq1sHxCpbOQ3MNmjkEsFnnI2n0O+OW7qjjs6lnWsWLh838UjW/ds3bVvx+GTQ6cvHjs6cnzjis2bltyzwLbkbJSiDBhvDCo1/wSWysEIYY8iebbCZKxAPJFDGjnbavCB1jh37z3p/r1bhw49XypTZKf7e9YW4gjIVT8uneFXSqn3rcaCv9r+9urDYSGAKyKyqSNb17TuQ4/PjI4eeeP1hYOrC4uX3OBXZAHARygBACIUORnFxaHkwPO7v/fCG8+dOX126YKln/zgj92z9L77B+5rQgvDhJN6iA3AQpAIzNnugMpBeiwCIS+VQkamyu67cIuDEIhDHyOETYMeXgSG2FgA7JwTERbJm8Ji293b0LmhYdWD3WteX7Zz29Ed24/s/O8vfXvnmWN7zw39yNqHBxuW16OeJTYeHJYOqm0SwASYML9SdmQNUksEz14IzjiA60CrG6P/fO/GzvrC9/bufnrXttFkQ7J2yQagU6v6lVLq+qmx4K/sN8tOrMOcnXo2BrwYi1y+8eGHzHPfO/zCK5uOHS+kKXkPUw2erCGuAICv/DZLpWKg8nBcuc/sM2PuTZV7ehFDcTZStyizP+lOHhjb9z9+8N/fOPBaa2vr5o2bH7vrkY8OfqQJLfVohBh4IiIO8xTiiUiYPISIyFTin0EEAqeVs/Wq3ftDLSEYVD2RD2EWgAnMxJWPBmyIkB0FyMJRUmRrV+QHegd7B5evWbhr8c4ju0+fP/XNf/vm0IE9Tz780XuWbOy1C2NTL9XDAa7KaAYBkQkTHWJAxAKfIo1g4LjDcMzwA/3ep1uPnfj+oSPT5bT17uUgagOshAckVJoGzt2gMfvx6lWBUkq9rfcS/EmSRFHkvWdmAM45Y0yotWbmMCZzzhERM1fvFn6r+iBzh27e+zRN4zh+y6f7/9l7zyg5rutc9Nv7nKoO0z0ZgzTIAJGIHAmSAgFmMYiUGGQFp+uwxGtf2ddeS8/+47Bs/fB6Xs9c9vLz1ZMti7aoQDEITJIYxIhAIuecM2YGEztVnbPfj1PV0wOAAZBowUJ9q1ajp0NV9alG7/Ttb4s4bb1YNybWoseVxX8MANoF+bAgVlHQzwAzWWjBmNG58ePG7TlyetvO1i1beMlCsLawRGxENDwjELYEo8QCyrWrKViIiVV2WWq62wiWhag68IYQNelBe5R2hflAmRJKHTjz9Ibvvbrptf6gOLZ53I2Tlt23+J7puakeUpUwhCZ2Wfx4N4o4PkR1fYZ0Iaj4eIPrdNEdHiJNzBe8yv0hFpxKM6wxlZxKzfGun7xg0olpJ7/3+nd3Ht92qnDqH5/7pwUzFty15O4lLcs8MllkKYBigGEtjDXKU2ItMYMQAiZyP9hDigRaWcD6VpZlM22zZvpWvXjw6JoTx0qV8pcXzVymkA9c16AN2FqlCRawkXvjdIWsDE5WinWELsCF7teFnzNBggQJfvVx2YbfGON5njGGY0k7pZSz7iISBIHW2j3onmVmZ/Kd1S+Xy8zseZ5zDqrv9X2/VCpprd3bLwln5p2HcSWf1e3E/dRLVWPOCsVD8KJUuCDtz1l+85at+4/s3avfeXfG/LlgCsl6mkVIGEw1weaQ90YfOtLfJcRTc+N59xG93QDCpJ05Dq2EKiiidFgOfPuFb20/sX2g0Ddh+MR7lt17+4Q7mtBIFVHaz2hlxEZyg0PxIcbrA5+iD/nrUi93IjxCPqUZDCCLTDrr/eF9/3PNydWvrv3p1j1bNu/e1nW+58D0I/fOv0/QSsQ5lUHo5vUqE4TKY0Ta/pYAhq4hFxJgtEVe7ATF98yaFtTlX9u5e09353+u3Vg3e9bCvJcOAMUmGuNnPTCLtdadG108WIEuZfsTJEiQ4BrHZRv+qkUfGBiw1iqlMpkMMzsrXg3uwzAEQETO5FtrRUQp5fs+EZVKJWut7/suMVAqldLpdDqdxkXxffX+z2PsaxHZ+CgutK62rRBp0QqxsVCKvQULmqe+tWHrlvy2bTOOn8Ck8UIeoKP+MhEVda8rQJNARb34FEAruLnyAIeKxUAJOCD4zs5LNWetAYQVsb4poG9d19rvv/n9/ScPlHtLK+be8ujND4+uG9OIZoIyvg0QeoC6Csrb7hI7JyxDacCsGHXLzLtmbJq0+Zk3nt178MDJvtMH+w7eMffTCxoWekghkLRSECiPrQmYFVW/dhQ1MRBBCUVyvYQ0MIXxyOTRzTZ4avvGbZXub2ws9y5csriOM0acZEDGzf2VUFkL8GADYZW0Qe4IQ2x/dNlrX5kgQYIE1xiuJNVfqVS01rlcrvqn7/tKqSAInO3XWrs7lUpFKeXsunuxC/Tdn9UMfyqVqr73gw56yVT/zwWBm3cjgNBgwZtZo1xErm7knFlt6zdKV2f3q682jvttP+2Xi2E6rS0MiXGlAVGx3yBulA5Xd44onw0GGTABoYUnrggAACIoG8M+9aL73WNvPfPO0ztO7sxn85+5/eE7Zt8x1Z+aQiawYsSQihvzKyH7v7T59LW+l7UWgFKKDedVXV120ug5Y4e3jfzJlp+8suWnr6x7rau798iUI/fMuLc50zwQVOq8DGAHr6+NSYa1uZPYWkuIe6AzfgAAIABJREFUvMY0IH/d+GK68saeA5tPn7UbNldmzVjSlM4CHkiqxpvJrb4FhByFcMjeEiRIkCBBLa7E8A8MDOzdu/fIkSPd3d2jR49eunRpY2MjgGpkf/DgwU2bNp09e7axsXHRokVTpkxx+QD3dmPMO++8c+TIkY6Ojrlz5y5YsKC+vt4VApwP8UHH/UXSuWNJeTdtHrGiLQALZuUR28yCBdN37dnz/Kp9P/vZogc+QyPaSVxqQEDiTJcZ3Fs0sC4K99nGWjasYrtm3ewaYogIjGVrdNCDnrcPvvX02z/ccWj7dZOmrFy0YuV1t43hcWFFpXxWDAUhWAZDNOtPrLPwo3BBJia6moI6qUeIUlhIpVMLRi6sr29samheu2fNe9vWHjt7pL/ce+vc2yZ6EyoIgkq5zs9Gu4tyLINqSgI4jqMVKIYHEIJ20K+PvS5j9cu7T7x/srMoe8sLZ6+oQwYIGAGsZ1z/gIURo5TgEmJLF4f3Q+L+BAkSJLjGcNmGv1wub968+fHHH9+zZ8/u3bvz+fxzzz23fPnyasS/d+/ev/iLv3jnnXfOnz+fyWRWrFjxx3/8x8uWLQvDUCnV19f38ssv/93f/d3hw4eJKJPJ/O7v/u4f/uEfNjU1iciHWH38olq5LpXgdUPo46o/wfdhDMa2j5gxbfsPv188ddJu3cFNbamUHxroePJsTUBpQVbAQDyXZnAaAJOwIljXz+aiUyGruIRyN7pf3P78a+teOXzq0IyJM25fdOt90+7zkfEk5fmeMbBS9jQTCPYCWsF/NaorX6VtAoBzb4B0KmtgEWBq3XUjbxg1unXUa9teOXb26Hde/PbpjpMP3fTQxMykOj9fhtFQ0Xwkt9toL7BgF/2HAt/x/4JyTvNI0g+Pnyi6+ac79m4/dS58d2PdwusXN/se4APKU8oCIrDWqQcmSJAgQYIPx2VbEpernzt37te//vXf//3fr3L0RMTzvGPHjv35n//5yy+//Ld/+7dHjhx5/PHH169f/0d/9Ed9fX1aayJ68cUXv/a1r+VyuVWrVu3YsePee+/9h3/4h8cffxyAMcYxA6pwPD43D97dqT54xR9YLiS1icAijv/ieFGDNTJ1jdOnT5k/1wSlXa++ihMnYV2zHEEYit3YPgWArMs9u5w/BAJrwAIP8FyCgBAQB1GmQXEAORQe/fGBnzz3/nOHzh+eMW7al1d+8eFpj6RMLo9mj7wgDJSyXsQpIEBBYMq//Mp0lV8ZXQYNeAjCIAzCBi+fRaYVTQ9Muf+xOx6bM2z2sMbW93au/ZdV//xe1/v9KFZgQ1gDjjmPiH2HgDmAGGOgGAYIQaIVoDIDlbHAr7c3PjRlwoTWEYf7St98f/vrA6YLAhgDCZnADK09R5q4ILT/4OX60CcTJEiQ4FcWl234tdbLli37gz/4g/vvv3/YsGHVMN3Z7Lfffnv16tVf/epXH3jggebm5kceeeSxxx7btWvX888/PzAwAOCFF14oFAqPP/74jTfeOHz48L/6q79auHDhE0880dvb65gB7ihyEWyMWsN/hQkAGhKvR0GnGDGWAA0SkIChPEyfNuvWlZ2F/j3vvI3Dh1EoeQoQBfJCcACwI+o5NVq3mhTVrcVpA8uQY4JMaMMyTB8Gthzd/Nzrz54+d2bSuMkP3/7oje03p5Bt4AZlQYCvXZrAffbIxVCpiz/MfxHcygNgZqWUY1qQQkhGGFrrlOeTgAKkxc8jd31u1h9+7qu3Lbg9jdS+o/ueWPXvq3Y+34u+MsoGIQ2R83dzfkKC+AyKkgiKSMOAPd8vog34zMRhd0yd1OLpk8Xid95Zt6O//zRQAQdA6FgaGPQmEiRIkCDBB+FKcsfZbLa1tRVAJpNxRL8wDD3PE5E9e/YUi8UHHnigoaHBdfHdcMMNY8aMWbt2rbW2o6Nj9+7d06ZNmz17tmP2tbW1LV26tK+vb/369QBEJAzDakrfGAPHIGMG4HkeM6dSKSKqRv+XdeYSy9rWtrA7gx1p4lhAwCCBEqXgebxksTd6lC4MdL35BrrPoRICMAZhNJRuMGyMRv6xtVRRYA0mG1PMCFYEQCCVQJcK6Htr78+eefWpM2dPzRkz+0srvrR4xI0aWYW009CFWIgTuPUZPhMLQdiC7S+LsMaXGlggsGBrEFTnHSrNTpe3DtnRGPPo0i/8jzt/b0zD+D379/1o7TP/9t43O9FRQUEhgAGMNe4aA1F5X+BGBRgAVgMasEhBjM0Bj45J//r8qQ2+OtpX+ta7294+M1AGFBAaqe7jAlgTHYEu9PcSJEiQ4BrFZdf4mdk142Wz2YGBAaWUS/U7M3/ixAkiGjlyJADP8yqVSiaTGTVq1LFjx4jo+PHjhUJhwoQJzpB3d3c3NzcPGzaMmU+fPl2r/1OpVFwf4Hvvvffss88ePXpUa+1ecODAgaVLlzp5gA9p+v8Q2FjP3v1FQ54ZjNEFIOVheNvcu+7Y/91nt7/zzuIbl6RHjEA5pGx8XEKkeheXEAwMiETYafk4sR0xViltYApcDhGuO/neMz976nxP57T2aV9Y+YXrW2dnkCehOK1vI3dB4pOheM9RoPzLK/VfGja2pzUnZqCsN9wbtXzaCk+nXn7/pV1nd7yx/lW/wrfNunVWw1RfWbFKsWcQBtZ60HHYDkQeFQEMZYREs6oD0sDK9oaiN+v5TdsP9/Sv2rw7N2fakhGNLZpKofiamGAtSCxR1NbPSoFQyy1NkCBBgmscVyjZ69L7VS6eU/Vx7fv5fL6hoSEMw3K5XFdXl81m0+l0X1+fK+GnUqmmpqZKpUJE9fX1AFKpFDN3dHQYY7TW7jfaEQIAnDt3bteuXQcOHGDmMAyz2WwQBPl8/udl+UVNX0xRA/9FzzudW+2hrW3crbcdfvm1E/sPntqyacL8ecg1U2R7rQDkxHclak4zCN3QOxFQtLqWCLBcllJZ2TVd677/1nf3nNkzvW3KF5c/cuPwZT4yFiwSjdSNdPJI1w4UILIWEFjCVWTBXGUEYIEILBFXm+gqEPZIQzWi5dbJtzU1NDz1zpMb92x6/t2XA4FeqMZnxqe5TsMytGJdpS5K1a9RELGWUApLnq4DrJVCK6UfHF6Xn3Hdd/Ye3tbV9W/bd5VyC2/OeSM0Be58GE5fqCol6VI4tS5U0safIEGCaxlXotyXTqfDMAyCwCnyAlBKhWFIRFrrYrEYBEE2m3UvLpVKRJTNZp3hL5fLQRD4vu/K9uVyWUQymUw+n9daW2urQbxT9Lvnnnvuuusul9t3bsG8efOOHz/unq3qAV8uYtF3IGKCx8XhasQZNYcTeWmMnzDq+tn93X2HN26aMGcTbllJgVGek/q1oDjcJ1fcN85ysXYPW5IQsVzv3vKBH73z0qYDW2dMnPrgovtvHn9TSjJUZihoXa0LkBsWXHOu1bNTV1uwD7CjO0Z/UVRPYaJiuZhNZRRYxMwbNrvhM9mnX316zc4tz7/zUrlQ/txtD45Wo3LI+vBhSNUw8ikSVAaIBORr3yBk2BRAKA+Dvm1s0zk/RQcOHTh54puvvplbceP8hoxLCSjAOl0GIjdkSLGiS31JEl2/BAkSXJu4bDviUqbWWs/zyuVyqVQCICJObdcF8adOnQrD0NnpQqHQ1dXV0NCQyWRGjx6ttT5x4gQAIurv7/d9f2BgoKurq7GxMarFErlAjZnL5TLiGr/W2rULlstl3/evzOqTm1tXywGLhtZG8TrISlwKdoaoFAqyuSl3310/fvyhrdtPrt+AoIjygBKrBrvQdbVw4MNjsBAMwQAVGxpjQGEJ/edx/rsvfXfH/h3j2ictvX7ZbVPv5ICZmD1oV9a2ItYKwXDUWQiy4FDIGsCD50FffXl+QBjWg9UADKyBFVgF1PkZwBpUiMSDvo6n/tbK3108c3FDU+OqNT/+5otPHLXHiigN2F5S1hAMIYybFgk2hA3BMOzB82BgSprSChkLkwEeHJG9e0zr5NbWgpf++1fffLmrrx+wQAAJjDEQAVzeSOzFlzv6K6n3J0iQ4BrElViR/v5+x+Gvr69Pp9PZbLZSqTie3eTJk4vF4vr1652d9n3//Pnzu3fvnj9/fhAEY8aMGTly5OHDh4vFYqVSaWhoIKLNmzdnMplFixY5rnhts34qlbLWBjGcyI/v+1WHwNrLpnHTxZneyBKwRGJ7VmpfrDTYw4JFjZOnqNCc2rYV69c6RhnEzbzjmDYWtfCLsRKLxzH50LqEoBNd//byN/Yf38OhvXHaDQ/PfUgs0l6OEBcbyIJDKOcA1J4y2+rJXHUhKkM44iIQBFainIclAVk3cZBS8Ag6i7rRevTnb/vc8jlLGpvq12xb842n/r8NZ9eDbYCKjccHOquvnBRSPOVQgX2VcodjkJJgGHDP2OGPLJ4/LOUXiZ5Zu/6nR850AxaklSaQs/2ONXKJE7/qVjJBggQJ/otwJYY/l8tls9lSqVQoFLLZbE9PTzqdJqJCobBs2bLZs2f//d///ZYtWzzP27Zt2+OPP26tvfvuux0hYOHChV1dXX/zN3/jMv9PPvnkG2+8sWjRohEjRgCw1jqr7zr3EDePOaKfiBSLRUfsB1A7KOjj4oLe7aHxn+svN25qH6JcsE8ES8jmJi+5cc71s07v3b319VdRLsZ2SokMvkvcCFwDJigBh9CEMnAC51btWPXe4dXlwvl7l9x+/8y7W9Ca4QYDtqERCa0KQmUqZA2MQqghse4sO+0/VcM6vIpQbZNgGLIGBjDOYCMMCEDIKCJlsxlkg1A0eCq1P7r47oduuXNEc+PGve8//fYz75/eUELJosww2nEbLWChLbSAGWEIGA+SMmIrpswiOXh+2Y4CbqzDr82aPKOpobev8NTmvc8c6zlro3W6QBPi0id/FS5pggQJEnzCuOwav+vZ+/rXv55KpV555ZWurq4/+7M/Gzt27MSJE7/61a9Onjz5K1/5yl//9V9/5StfmTp16oEDB7q7u//0T/902rRpIlIqlR577LEzZ8585zvf2blzZ319/erVq6dOnfq1r33tgpl+1cE8TiTOqf45NkBV56faCHbZqFbQLxTzqX3YulBeBKQVrMosXDh+04bNG9aktm/H3r2YtYCUH5HGavdDLG5ED7GEsB560bu/68DLa398rq9z4bgFn15055TsBBhRSpvA+JpAYoAQwoi6+TjiFrqzverL0QQhCKxrkYhaHJVCEEJp5XkoAx487RlUUMEYf8ydc24n0a+sfWXjjg2+gV6BBcMWuljf6SIDVWVdaO1a9cGaWUOMJVKeZk8whpAZ3pzyZj+3YdvOs32vbN/bbCfcPK61BfDIczsRmHgU41DmxAV3ai9i7WrTkMeS6kCCBAn+u0P95V/+5WW9gYiOHDny4osvbt26tbW1dcqUKZVK5dSpU/l8fsqUKZMnT546derYsWP37du3ZcuW5ubmr3zlK4899pgrySul8vn8DTfcUKlUtm3bdurUqRtvvPFP/uRPbrjhBgBuok/1KLXDeKpN5ET0T//0T+3t7Q888MCgcOxlnD1c9X6wn7tq6slp5JCCawWL+HohCYhMCJWu84q9544dyfYPVM6ea166FJksDBGBIUzGGCusQ6BoKi7bDIWAinuKO7/70ycOnT08tnXcb6z4ndkt8wnwWSvDOjoaCMxgDcVgdtSBCxrPr84m9Cofghx/QhEUgUHur/hTeHCPEZSIYs42oHniiInk8+nOEwdP7znReXzUqNEN2UaNlCINWDAhKiAQohkHIBKCEAMkIJYw1LBp5uaMV5dv7KmE+8907u3pL2XyYxrSeYYy4moDoQ2YyRAsKGo9tCBrP3BBL/AGIsailXicU4IECRL8UuA4cE8++WSxWPyd3/kdXJGQHV2uBo5j7RWLxUwmgwuU24FKpWKMcU/VVusvaKSuSvA64t7Fo3gvCbfDGTNmLFy48Nvf/rZr/7usk79cCBDCAEoLKADOHD/yn0+8+//+y9jrptz09b/F7NlQ2Uinl8VCQmf+AA8AwgDmtJx6cvUTz/7sucbG1l+784v3Trk/hzqB9aGU1Rjig1wTEKBctqkUVxCewalV6555e9cbx04cXXDdos+ufGhBy0IP6TTS1gi7IcQXfD3JOgqEOLfC2kolCNOpTuCNzsqPd+/ZePJkW33+gfHj75k6qh1IGYEESrMRCDlxIOgqW8JYVH3HqoNVHe6HCw0/AE4GAiRIkOCXhKrdvPfeezs7O9esWXNlI2wu23A6W+uq7CLizLk7trW2dsoOEYVh6Mj5mUzG1e+dOI97WdUVcJn8C5h9VwMI8AZTvYLWlnHLl+9Y9fJAb2n7Sy9dP7INI8eEVmlhGLAHzxX7K1ZEKCUl9L+y5cevvP96Xb7xtll33zJlpQ8SlDOoQ0CiiK4+hv4nCwEJ0j4P2EAxtaHti0u+7Kvscz3PvbX3nUK6YJaH8+oXsngpx3KssibjLL2ALViAAOIBmpl0SgP1wLIWPzdvitG924+d+NGeAuXz94zKj1SUEl/FXZsECzHWMDlhH2VVfA0Gg/xLfQEJkTzAVfTtTJAgQYIrwpVYnkqlUu3gd8F6pVKp3gfg+qcRd+K5BIDLClS1/V3JPwgCxFq8P8/onU8WArEAGTBj4pSbH3woIL3xxz/F9m0wJcWhG8IXhhYi2iLFzJ4awMCa0+++tfOtzt7umRNm3bPsnha0WhgVdRQSGKWq2Oy1AwMAHlMpKHpIZVF/6/y7Hrjtoda2EZsObH3ipW/vLm2vUKkUBhBI0dE4GGRlaK+DArnxPlpDAdqgDbI4m35owexF49o7ij3PrV/3zI6j+wwKhP4AJqLyWRBAocCI42HEJD8bb8Y9clFt5RpLzSRIkOBXFldi+F1bnbPuQRCISCqVqkb/iHuoqmkAxBRrp6ni/iSidDpdu6vaov7VgthaEBn4bFM+Gpvyy29V9Y35/vLht97G8f1EoXuZIiZhhAAgHJ4onXxh00v7uw5OHDnxljkr270xPrws0goaQbTwrK8eFb7/KiggDHxI3ksHQEWojUfeMfPuhz71aHOmddup3d965d93FreYVAkEIoXBPotopJ8SaIEv8AF2ComCrEIepTaUVur8I9NmLZ3cfrbU+dS+nT882nUACDwEBCNGhOD2ShYirgHTIm4kgHMvrIW11RwA1XR/XHNuWoIECX4FcdmGvxrNO40d3/ertDsAruG+turv7ri2/mpV3on0Vbvwq47ClRP1PzlYCzGutByAoDyMGbf4rrsb6nJbX3/91KZNCEoIDAIQRwS2MCz3YeDNPe9sPrKtVCmvXHj7TeNu0oAGK6QgyvWnG4Nrz+wDAJiDSoUBgfFIkVUtaLtj6t13L7yvJT9sw67N//7Cvx6W/QPcjwxMJAoYxeRR1V+i2NyV6oVACAHjhZVmwZJ87sHZc2+aPrUg4ctbNj6/6+RhoAKAlRUVmEgc2EKqin4X/Ddw9n2I7b/guQQJEiT4b4srUe5zdtoR9Kqm2llx13CPGv8AcSHA8zyXEnDyO84hqKr1Od7+VTdJhRCN2SEbmgCAIaAh33L/fXUjR3Sf6zz57locPAQO4QOANQAgabOltGXVxhe7C4UF02+4debKemQ1YBGyaLLaGf4wKKkhI4KuEViQ9fzUQLnEsITQZ+KQ29H+hQW/vmLiiskjJr63f/23X3/iQPlAHxVCRN0WQxoxLGAEpgIJmazAlmEsCDpjyrYeWOqlHhk/bfmkCZWw76W9O5/ceuRgAaEbe2RAxiN4ASGAtVHdJVJhrCb4XXeirTX0ScSfIEGCXwlcSR+/S8s7RZ2q3k61296l96ukP1fUlxioIQZWswJV8d2rcYoaE6AAo5UmQDkxuZaWGbev6B3oOLZ2Q/vYnw7/7THINYn1SMNI5Vh4/IdvP3O2dG5UY/v9y+4f7Y9MiWOos9PpCw2URjqtISFIX1nB5b8rjIFWIpJJZUKEBAWLrAICDPOafm/l7/3jiwMDxf53N6/Vgf/bd/3ucIxWSAFwOn7RkAXlUvwMQGworAgeQQGsUgxBY4h5+TRmz2Sxaw4efffA7sbQ2ukTpmSQ9f1q3t61TtZqOqg4m0CxgEIkIXyVSykkSJAgwcfGZZucanRevY+afL57vGrRqy9wd5RSF0j0RCcRv/6qs/qxgXB2QblCsAdk0vkH7stNvW7g+NmejVuxaxtMgQgVSA/1rT2ybs3eNcXiwANLP7uoYUkaKbYg0STaECxVB+8ZkBmcD3SNQMVN/YCGUoDnuv0ZKKMJTf/znv81f+RS36Tf3vfuN17/516cqqAHEIg2li0QwhoKoa2bhUSsCYrBgBZwSAgJpJADFgC/OWvWXTMnlyu9Lxzf/60d+/cUUAQGgJCQhtaWyRKEEd26voNIQqga9/9S1ytBggQJfsG4lmLNy0eV7C3RyNhInhYe0NQ8dcXKyTNm7N64aevzL6BSQn9viHBLz7YfrXleMc+dOOemKTfkkNFgIa5dajfSN7EoiFyASCBZe5AyGtH86MpfW7HgtmJQ2Xho0/fe+Y9enC8hKBkDRmhhYAQSOwvs8ijVzbouf4YPNAmuYywfM+bTixcUbGXt8YNPrt+xphNdhGI8UjEW9SMYC2GEbgeDV6uqSnyVaiglSJAgwWUiMfwfgVjHxf3eh9FPvwJSmeZlN7UvW9pZLnZs3ILV78PnHnS8vfetHUd3tkjzw0s+N9Frz8I3RoijkkpcSLZRWxv4mrsETs5Y2EXVNjKsITgEW0tWQU/KTbxr0V2fmntLx5mO1za/+vz2VWfRU9JcFih2w3vs4NIJGJGKEsT6lrQYOANOSAPzM9n7Jky8Z/Z0xebF00f+/cDuTb22CBQJAcMQJKrwuwmNKor7f3krlCBBggSfKD5Z5btfHYgGQpCAQkMaAAlxU+uoG5dM2LOzsHvfpu98f97c2YdP7l6/eU1DvnHB2HnLR96sQLDWU77A9e3HOvZRhl87Pvo1h5pieWS6XeXDBr6fskBowin1kx655ZGBnu7t+9Y9+7NVTfkpS8fdkhJPk68Bqh1ZNGikrRuRQLAMAMaEVrNuYgB4cOJEIvXK/kPr9u/MDPTS/PlTGnQrkAJSAAO6Sh2Mhw1yLbE/QYIECX5VcI2Fm5cPiifDQqJuPRPl+wkgmj936l139PUHp3fvO/Tij/a+80bXoeOTWyfct+j+HOrS0KENIAjDKLCFBaSa5FfANcbsc+BohKGK8uwkIGtJsUewgkArTfCm8dTfuOU3xo+Y2lsq/OCVp94/tkY4DFARWAjBMgbHFQ9uQtZAyDJZpZUQrBbUAxOBL0wY99DECTNa6jeePvUv769dXSidAvqBMlAhlCXeCQ9J6NO1eIUSJEjwq4zkN+3D4JL6ka47sdNsF1jrngOjoWnk4iUzb1gWhuGmn7xwcvXa63IjF42fN2v4DA4EYE97xorWzn5YkBsTw4CKIstrChT3zEUKuAwocXl21gBDhEQUWIOzSM1qmvPQbY9MaJ+899DOVW/9cEf3hjIKAguRoUOMLGDdCOPoQK5MT4qZIUgZNAMjBI9MGnfvzJkjmurP9vd/54233+7p7QHKQAhYRhDZ/sFBPFxz4omGT4IECX41kKT6PxQyWOQHOaF4S05CjjVYwRJGjr/+Cw/v/7/3lk8eVR2VTy1+aNG0mxRAmk1ZlO9ZhIxYoo9cp783uFu5hvhiAmsoIEDBg42GEFIk0QNjRLEiw1okpTRYBOHyUct7ZvcE5dL+E5uffZP923B93Zw69jUAhIIAsAQdLakwEVhsxKQQdmMCxQAGjQpacFf7yLyXfvr9jYcD/t6bG/Lzpy9oa27zfQKYYSUZwpMgQYJfcSQR/0chtv0COAKYAilAyIoSsEIqjdnjwynDBGFjX3kmNcxsHMelEoiU55sQnuLQlGJF2CERY8QVH9SJt58E218+9u0nj2gRLkZ1UAMrUswAwcCH78O7a+Zdy+fclM9k39u+7sXVL5yTjhLKFYQhJIAxqFF7FMAKWQGRACIwAgNYBVZAKWwQjASWD2/6/LIbRtdlC6Xys+9vevPoqZNAEagAIWI/TJjAFLX6A6ih9A+5ioNXrVbYV6rnkyBBggRXGRLD/1Go+ZUnAQkrYQW2sE7txaaxI929pbFcrvcygS2u3YSNuxgagYXzFKx4SrnhLxZkoQzBMIxTjIsY/ibWoh9i/uUXsdkPu7U2Vqd3MvWDn/rjHD56ZXzCl9C0H/KJXKyv4MUciciUuvy6UvGQYlcOYCZwKsg0o/mOmffcPu/eTF3ujY1vPvvmDzpxrohCGUEZNnD1gtAdogJlXXqFBIpAUX4GAiiPYcQP0Qrc1Jz9rYXTZ45o3BGqb2w//P2t+49YBIAhG4iFSLXbgGK3z1IACiB2yEeu2SxsABtUhwokpYEECRJclUgM/8fAkNwvu9o8AwPlgVDbDvS/sG/twXTBjGrL5ptOr916+KmX0dEHUQhA7OxhtCMlWg1OgK9CxRt/zAY/+ti3iHf3Abcuoq2Jay84wMfpXBeOtkvgggeZoMk9+CF7HhTOZU+lij2l0X77LXNWLJm+NJeqe2X9q8+se7oXvSFsCFFIiRBphg3AHFEyhlrciFnpivfWqgD1wJzG+nsXzJ49ebLK1L29e+9T72/aUQ76wBXissStAgwRBIGxYgUkIEf1GPK5Bo9lh/yDj7F0CRIkSPBfjsTwfygoMsdCFrBSNYcu9Pd0AcH2rr2vbXy9S1XG337LhBuX58LMiXe3n331PYQaQBEoMRdBgIdQIwAqIAMlkZ0ftJq12xDzX40pQxc0k7gTiDvZPuRWQLCDm3vkAzcmYSAEgpotBMKIk0j2Agr9h63bIHjodnnrb63UNzSUbGlSfsKXPvX5qc1TC1x6fv2Lr+19tVM66tCgA49IQAbKA7SJJP2iPsGqSwVYgQFZKGYFBTQCi+qy/2P6xJXDciUlrxw7/u2j6Oi1AAAgAElEQVQt298qlHuAUHGRpCyhsAVbrQ2JZWgDHRIq5EYHXXCxWEVbNHvp4sG+CRIkSHA1IDH8HwYBDMHEZXjrhvREz7FifQInVu9d09HbkWpqnLLy9gWfe3jKgoVnT5za/OJL2LkTFCoxBCjoi5LkFhJSbUb9ggMP4gOuEX2MkH+wlOB63GMTftmwNXc+4O0fxyG4fLAmA8lwWmAmZ6b81gO/PXnsdcWw9KM3frR+33sWAbme/dAAXB33WHvmCtZ19jumPxjMUEAKqAPmpfGF+dPumj835fkbj538wfubXzh25jRQBFmlAgkIhomZuZr+R1yYkUH1wMiBq/pz7gySNH+CBAmuQiSG/yNgIt69IOKGD2rDhgi3n9y6Ztfb9fnc7DmLdcsYzJkz9t6Vpi1jD+7Y8x//B6f2+VzkgYJv48EvGvBcSOgsURAJxjCEhm41ZsOxzAjaTakRcgQ2t4UXbUHtbU1Nv1rx/4DwPbLZ7hSrm463S0ftQlYoFBo8gShJUOsiXKL2/3EhAIEUKIM0w5tcP+3Lt35pbH7M4Y6jr+549Z2DbwSqaIwolbbm4iKKhViCVS7TzywggYiIB6SBPGwDMA74tQmjf2vBvIZMev3pk08fO/7EibMngApIk64USgAL2AAM+IAHAAiBMlB2viBx7TLXZlku+wMnSJAgwSeMxPB/TBDFvdwAALZsu9G96/iWvQe3t9U13rXsbosMdCZ14w1LH7pPbGHPW68eeOE59PSkWKMYQgC2UKFhGyWBIyHgj03j/0Ad2YsvYjWT4LL4HqLaQtQ0H98OeengWy/PSH9QDv8XY/MEwoCC8uBbq3yk5zTNeejmz40ZPnrD7vXPrvvhlu7NgYIQrETy+9EHI4CqHg8EYsGWyEJEBAIlNg2rbbkOdiywsr3tyzctnzV63MFjp3+8cdsPtu/bEaAHirN5AUNQHTMd138uld2IzH+s+fQLWYIECRIk+IUiMfwfARWJt7io11Kc/y9weeuRzTv3b2rIegvaZ0+jiS1oLJeB1lHtn/nMqEWzhcMDL/wUb65DCHgaANg1jNk4UawFngHspSjiQ4LwGgp9tRgfbdDR7eDm1WyaRJMwLA+9vTRLALgg+q89pfCirRrQu1J3lBsQaBlMEvzcMCEBAq4INGsN3YiWu6fcc+/8u5tz+Q0d65/c/L09hb0FVMgDACVDHLRBVLsIiZkZYmBCWNHMplzwxY4B7qnXvzdl+t0TJttSuGrfkW/uOPBmP04DFQAWigSwBtbAKlhfkBL4AiU1SzfoNrGN00UJEiRIcFUhEfD5MDi5PYoNmBOJJWFD6EP/6l2r9x3cNW/G3Ftmf4orlPE9aA8EjB435zd+89TpE107D+1+9sVpIydg+gykUwZso1pBqKCrBWOGxDN7KD4uD42Yh3LIqeYWF9mWC5694ClcHKV+8OO/KFCNabxMMCsAYQDleQBsYHxWaUrdM++e8+Vz31//1Oo9a0alxzYtbW5Fq7bad9P+Bg9EbjWYtQCBjcsBpGBDMEEkk0pBwKVwuNK3DM/o9FSt9ZozZ1bv2lfs6gvmz13QiGEKPtjVZJRTCRSL2vYEiqs5Eq9/4lUnSJDgqkTy2/ThsARrwgrgJPaNhjUBQoSbOzcf6NwngvGtE2e0zmj0mhxzDgbQWcxeMO3Bz4+fMGPTT1479NwP0X0GKBelbAFGqFCGKZIFGaioEmwItqa+X6PkYwUigwI3FNHFXXLbyJBHnJkbvKWInBgy3KD6MH6kuoUxd8HEEWrNxgJ2dAAXx1soI2zFhfU8mPsmCERsaG0ZCKimzC8O+LkcC89TzrZ6ngJBs2pByz3zP3PL3NvDMHz6/e+/dPBHnegASxgCBAmdrC9bKyCGRA6uxxHlHgC0B4qNtmXlaTA8wcIG/N78SZ8ZP3FSvmF3x7lvrFv7vQOndgM9gAEp4Wjggg0EIdiaeHzDkGSJfEAtIEGCBAl+2Ugi/o+GUspZYyVKrGUfZRRf3/DqwdMH5kxfsHTWzR4yEYuOASAsVXRd4/iHvyQ7jvSd79r22k8lqyf+7z/J6UzZGmYNU0YYgsEEiI5q/bF9BABIPCBAQBTlA0RAIjAAgYgAUgAgMASSqJKN+NYKOK5NxNLzYIkEaJgiloGi6C0iELIM9oCo/OCm1TBcjtuQYgYJEcX0ASOABKTA7hAsF7uSRFca7Mfn7CoRKlb2jfQHQn+cP/nBxQ92d3ftPrnziVXfGvHZkcvH3pL3ssViJZPJRCx+5VlrjTGeVrVZgDgiZ4hEZAuCEBjICxTh0ekjRrU0fvf99073dv1sd+lU57n7rp89K4smggpFsyKlKTb5oQ091qqaa4kPkrjVCRIkuAqRGP4PBwMQYgMQga0SGwYcHOjdu/fojr6B/pkTFkxumh2APT0YSuo6HwSQP+H3f7tgBrY8+9zZ1e/VjXhq+MOPpDL50EA8jwiRr2AA1s7wOFMMIG66k4iB70J/EqBMKF9UFwCi+b4X0PUYbgweEPeWV6NQriGo1cr5eBAWKJd4sCYUgIlApJRrQxA3Ete5Eord8UWssdaKgIiIiFkPOhsRLAARIVK4AsTOgwWAEGDWng9vrj/nyzd86Z9//E8nCie++8p/8p28vP0mlVEhAgFgSCvfCnu1X/P4vKKRyIbAqDDC2GprQg7wgLvb0m23LH1h69YNx8+sPV7uDrBs/Lg7RzfUe146pveLgSXRrN2VrLpRiPM2nAT9CRIkuMqQGP6PgAi5XDwDLuHdja43N79ZCcuT2idOGTEti4aSBD6nGJBQWABFJoQihfaRMx+8Lzh9cu+GTT2rXrhz3CQsvkH7qkTkKVI2BCw8gXK22RHoJJLQMaWKKYWVYmhKxgRWjLWh2HIY9oopG2OMMUBENRcRa51lrQlriSxZZnaPERSzVspTrJm11j5BEbFSnla+56U8zyP2lK4n+CBmuJDfMfZ13IyoovvGjdiJcwKklPYADOr3WQhBxBJJHPQ7Z8BecSTsKBdOlMCE4mnKIre4ZWHXpx79wWs/OHzy8PNrVvk3ektGLXKrkFY55zFUV4VkiA/B0SlFWgeIvSENi6DMnr+gzs8umtfaemzN/qMbDx7p7Os719Ny64yp40G+Rd4irSAUVXhiLyhyrszP81ETJEiQ4BNDYvg/CkTGikQjeU1A5nDlyJrdqwe6CytX3Dpz1PUZpA0Zg9BAKyZXmmcGMhyWQr14/tz+R491nu0+uPetf/nHT2mLGxamtFdGoDJFVDqt7aqEfZVKIQjLoSmHYSkIC8aWS+W+wBaDSiEISqEpGVs2JiQTmtIAgjAMjTFGamAj8RqO6unVwbLMECYiIqWU0lorpZm056WISClPsed5nu+nPM+D9nQmD53SKqWU5+k6T+d8XadVHjbj6ZzSDeA6IAXyIB4sgdWgQAAiaoA4ZdtIMSd6WuI6+GWhqpZIAMQSwYIBaDLaNQ6E3l1j7um/vvhU4anth7c21Tc1DWuc7E304TlipuZBTp+K0icMYXetRAFxg75zLFzTv/JSAKtKYZafbZ0yfnSm7p2T59cd3HOsePpI2H/X+OsX1qfrGQhhLcQp9gFxbgYCdhyHqpBfggQJElwlSAz/R0OBjKt4U9iP3g3HN54cOJ2jzJz2OcOpOQUVOlVfxOV4DVK2WOnxMwQp4eY5t/Y98NZ//MfB42uzG9umDe+U9taesN8WOsNSZ9/A6WLQXy4MFMqlsFKumIoxgZXA8xQpKEVKE7MLwKFBmXQDp4lJMTPHgjUiopQXn291Jj2DrAmFiBgwIiTGQGBsKBbGWoIxQTkso2gDayQ0gdiyDY1YscSsPZ3OpOszmbyv65qbRno65+v6lJ9L+Tnfq/P9LKkMJAPOgFwywAM0RFH8vaKoeuGstx1yeh8DMvRtrsqgCAKrFYeVQCkvy3UW9sGFn+0wnS+seWH19rVeKvXlWz4/BiPLQSmtciAwu4jcipNeFIuodaJ6iUECkKNYEsBWoAjNfjqE+KB8+7DWEcO0Dvec7/jZ5j1dh8/3z1s0r7VxVAb1GKLWF7s2lsGXr1GcIEGCBJ84EsP/EXBD3sSAGZYqh88ffG3rm5UsLb5u2ZSWyRlRKqywxwRSLpj0AA4MBny/BPQi6IFXyS5oau+d6HfwWW91z9bN/ql8AcW+QncmnWfUw6YYCiCPU57KKfaZ/bpsvfLqUn7W97Kel9bKV8pj5afS9aR8rbXWmklTDKU8IqcyVPUGILASBiALKxbGmiAwgQkqoZSDcsUitCYITKVSLpWDSlAuhaYQlHqsKQVh2ZgAZCBhqdhdoo6O87tFjLUhyCql0ul0XV2d7zfW5cZms231+ZZsXYtH9YQ6UA7IhkYpThNSEU/CshBfWPf/GBhCZwAAqKhuYFhFpYbQgJX/8JKHC6Xij95/6e1tb49vHH3/3E8P94a7XgXSjuxgCWEc4QPCqlZAiVw53hs8StHCZ00wQLPCYhVOnz/j6V0dG9F0rPPkv21YM7W97dZZM5akMk1Ao5MLYjjFAAL7xgKcFPkTJEhwteHaM/xRideFkbUxKMulfqKNgVJuuqsNUDrYeXDzri1tbSOXzV42Kj1Sg6CFMKBcHzeF4BJQ6Og90td3ptBzNhzoLp4741MQtAZ1bU3ZcCCX0dTdU8cmm82lG0cpPTqVaq3L57OZet/L+F59OpVnzsEqsB+L5jKsAjQ4JeIJqVhGkFxanUBW4tpy1fCTwIry3Ge2blBNCiFgBQEBblS9IAAgsALDCBglhCWxldCUypX+QvF8/0BXsdRdqvQFYX+x1Fss9ZXLA8FAT6nSz7pHzp0hyjArprTn5XN1TY31I7O5lpbGscx5Qh5IASliTcKAdxHb/SND4hAAQ8PR8apFeiZWDEEYgjV78BvRdN+ye7vCnnVb1z3z02ea0g13Tvt0GuRpnwgKoUUgsAZQpOG68uD6JizAVbstVdEknxECDN+DthjNKACfnd46dVzrT3akNh/ZveHEsRO95w6MGv/padPGA3UMBXYaDKr6TfswXCBuGB19CCXwg8QYEiRIkOBKcY0Z/uhn1EIsqDo2PcrIVsVdXFddDdndDdXrP2EObj+6JUupiQ0TZ7RPYxAQgALGgJWe8vkTvecPDpSP9pXO9pR6K2G5UioGA0VdFmbdPHJUQ3pE1+5TpzadoYO9oyZcN/83P4+x48XmjF8nSgHM8BkewYuLxjaEsbAANBMbhZBJabogqQygyicfPOWqhIyzLir64PBc3VyiWDpiyjuKW7QPbQnwYL2MyTWErbYsCENTMLZibNHYShAUC8W+/v7eUqlroP94sdjZ39dTKp9gJam0Otfle14q7Td4OpfRzXWZtnzdyPrc8ExdG3QjJA+kQdV6hAAAUcQKlJrKAECAAgQWCKo6uEQQEQILmAiuxGFAGWQmepMeXHD/wNneLUe3Prn6aetnbpt4ewaSgYItKqYQFvCsKG04Kvf7CqTibwKqXwlSgETL5poJITpFGAc0ZjFmwXXrR7W9umfHnlMnegqHDg+UFw0fubK9rRXwAuQ0u6ZLEMSCeKj9jlQWbCzuj5hiCAEH8WFVLRWxVrXpAiR+QIIECS4T15jhh/v1vFgXj0KBiLFETMzxj6kJoRTKFqysIFy39713N70ztqVpxawZbRSwPdLbd65v4FyxeL5Y7Cx2nyz0n+48f0w4SNXV5eqbh7eNrU831acaUukGk61PITsy3bdl3xuHd64LT3WNaD/Z/NlF1DhciTZCQiqwpEh7Vek3hoUVWNfCH8fKl/tL/wHhtVzi0gsgQlQ1ROTssiUKUx4JAjetEDCmsVwJS2HYK8EZK91BZaAc9BZL3X39HQP9HcVS38lzh5i0p1Iprz6bacrVNefSDdpryDWM9zPNuboGz6sDfJCCaIgnRoE1uX5CEREhIhBZcURFhag3geFsf/ViAgA0lAhSlJrbOGvglgf6Xh/Yc3Tvjzf9OFefvaF1kYSU1SmAK9YIkyYmBVQs/Ii0Ga/M4BBCR0Qc5AEIAChB1sJXSDMaRjc21S9dc+jQpiOH3t62u6unuO90x61Tp87OKwukXXunhYqpfcaACMxR/2ONb4NahoD7R9U2a1adoQuu/CX9gAQJEiT4KFxjhr/a6x59cFUN97WLz2CslATCxAArTQa6bEuszAAGTnWe7eg8taR96qyxaqD8s/NnTp07e6ij8+RAb19gJZPNZvNtY667WXuNddmmXHZYLtuazbR4uhEqG7W+5828ntHclTm8et3b//ofKwYq9b/xRWpu0daHgef6zcMQYqEZAp9YoKNuOI4dgF/ISnxAvV3EKf9Etp8IRAxoKyGgKJpCywoqo9PQjUiPjpc1hC1XSt39hY5Subuv70wl7CmUzhVKnaXyue5z+yvBQBiGjfnWfK6luWlkff3wbGp4OtOWzYwAt5DOABlHhDfWghQTCxQo0jZ2XQsqOqXqMgw6cATlwQj0kpELz83vKvYWN+x7y8tWRt3aeJ0/wyBDATIMBI6MF1Z0wdcpwKth+V1g/mvXq1piCBVsFmo0VHNeXTd98vT6pvUnT2/t6lh7dOfuQmXF9Knz6zNTU8gBqSiDFFoCaUgk8ytEgDAsR3mO2K4ToId4NBZk3YQgE70OBFZO5RlXLoScIEGCaxnXmOFHVSEH1d9YABAYC80gUm6CjUhIYoUso5z3AoP+jYd/dvb4htnj6+eNzp3bue7wiVNpK75HmUzdsJFNqVRDvmV4Q+O4xsZpmocp1AEZIA1kBGwEliAGqbCSX3TzTSpnS2Fp0443v/PDOanU2HvvwfCxEBUFekTQBHJqfRGVPTrnK2DHXSb4otG27mGIJhLAWiGABYZIAGbJQAjWggTEfmZkczYAysAA0BOYc/2F0/0DJ3v7T/f1d5RKPcqUK6WOQ4fOVMogztbXt7U2j83Xjxo2bJzieu01eF6DVhk3vdiKDkMfTEpB8aB9HlwF4aFnqWE5y7n7pt83MDDw3MaebXs3/1vhX//35/6vEchpE/M4LMDCvhfAaHgfd02j1gQhEh+GYTLwMx6axrdMbm/Jbj90uLn1ROe5b73y062jRtw6c9qM1oYRhAZAkeZ4Sq+Rcop8goIMpfxTzGBArPmPaG6yDHoi1adtvARJ30CCBAkuG9ec4ZeYw1W1pgSArGIRS4jG3oPIA4WEEmQA1NFT2Hz66Kppwzqy7XUNtpN6Cr7f4KVGDGuY0NY2oWHY6EyqRSFN8KxohayBEmgSBeKIShAgrQFfh93n9fw5n6r/o3V/9f/07Tuw+ZtPDguRefBzGD4CgVhNrBS4KtfvzlmjykfEJx3hVQ8z1KZGDoGKRXjiW7KgKD1PYgks1gMRUQrIe2p4U35qUz4AAmOLJuw/d/ZgYeDc+e7TfQNnK2FvKTh7/OxJnLW7DqZz2ZbW5vGtTeMb8mNT/jBwA1Ojr1OIS90CcVREEFHUQ1ezJgIIpyVnQ9FaHl34xb5i//dfe3J/w+FvvPF//tctfzLcH2ZLYAVJoQQr8BjMrgN/aA3+wyAeBESWYQNUPHA79HCNeXMnvNdZeXrnwF5V3l7u2f7uu/Na22+bPmN+i24AfLAHToN9UhBIaEmzM/a25uDKiUUpgNw3gCUWUSKpWXYSgbUE5/hQYvsTJEhwObi2DL+jiVkwx11bFOdUyRn9wIIBNuAB2G6pdJw9uutU566T4a4gON6U9VWFsuWGCe2zW8bPg2rzMcJTjazzAh1CMViLAZGAjUspUKSM7+voB143NEMqmDBhyR/98bZ/+cbR99/92RNPTu0tTPrCFzG6ncUDUKmE2lcUcfMivv4FUvCfDKoWnQd15xznzUY5dgCIxvMwIBaGSAiul9DVCJSItlaANKFK4xPFUH55dPskoFdsXxB2FcpnO88fPnPm0Pnu06X+vkqx1He+6yjv9nVDU35ES9OoXP3o5mHTwXUgHWdCGKIAFXE1YlJcVJJ31tISM2lLn7nhAVH231/7VlgJfly/6jPzP9OYbQwC1wehQghfrsmMEwahWKuECRrC1qaE0yFuavHbbl78fn//qzt37e48tvPUuXMda9Y1pZZOnzi3rTUHlMBZcMal/SWSU47HG1ga7CqEgGsdgqjLoDoMENaCHTkzsfkJEiS4XFxbhr82jAbFMbQA0DAGZOEZ0ADs2Z6ePWc7t/b2HCl0dnWXzplWsewdOUlzJi2/ZcodWlqRbRHkCRnXGGatWEVCgChYK2wAKKYhXYIWMAZalcDpbApzZ876yu9kW7Lv/eTl93/4TFYw8s47MHUKcnlfp0TIkBuoYxkWYEPxaJ1fBi6oAFDExydmXWuiqh0FEUUAgETleREQmLUnSAm1+v5Y3w8b6oqjW7srle5C4WyhcKar68T5rqM9vft6+7af6/Eymbq606NymRFNjeOaGsbp1ChQM6guZswH0QggYifnxwRSUSdAFv4YPXLl3BX7zu3ZeWjrc+8/Vdfo3zrxrpzXaCEAMrBARcG/sGUuqrvXNnwCcUMBLECsWQ9m5oFQQqSYYMeBh+dy8xYu+v/Ze/MvOa7rTPC7970XW26VtVcBKIAEQICgSILgKlO7aFstS/I23td2t89sP8yZ7n9jfpgzp9tuT885HnXbPTO2LKktyyNZkimRkiiS4g6CIHYCKFQVaq/cI+K9Oz9ERGZWAdwk2YYHdQ9OViIyMjLixYt3t+9+9/W5Y89dvPL8hXOXnHr55e5do6P3T8+emB69U0MAAxgCweq8M1L/rjIkp1i+odlR/w3boi/irtbflV3ZlR9Bbi/FT2CBLhysofUWCUwHaLpkZXPr8vXV00srb25sXGq118fq02OHDj755g/Oz2/cN/fTd+z7mC59ALYKKAvmBJwv087028+IAKIGSDEhANaBFFghTbXvx2BB2z9+7GD6C6Za+v5XvvL//l9//uDq0v2/9Eu4736Uq6Q0FEkeiMh0P26qEX6iMuToDxEBoUAXDL/Pt2z/vsuD0hAZ9LzNSuMyzlxAEUyObgOI0iCcDaJedaQl6fXJyWudzkKre63RvLaxudBqb1xbfDbwK5XSZKWyt1rZV6nuqZT3+H7dC0YBH1AEH1Cc9xFgYWfTVDmtPS+FujM6/Ouf+I0//XLz7LVTX/z+l+rh5CMzjzOUEa0zxp53r7bfMUI2L5TMCPoJYGitY0lKpKrCsaDO2DddGq/etW//+EvzCxfmr3134Y1rS2tvLe85VB+9a6J+sIQI8KE82METKDqvXBAMtVzIKy2H7zsPtu/KruzKrrxvub0UfwaGss4yHHHmh6bgFNhMexdbvQtLayfnr56en5+vVSdGqnPTM4+Mzh2aT5vPLr68sOT9zIMP3zF2opsY36gEVsGyIoiAYrAQCKLBJu9aV0hWJC5a5WlapZUIKFElg1Tw8Im5StT26exTT59+8hud+SuP/ebv4PEPYWwq818zghqSJI/6k8ENDe7SNNX6J3Urb3A1hzPpN9E2rvi8+DtkFlA/3DH4otv5hjJinzJpv1ydLFfvmUDSSzfWN1bbzYXN9dNJutJorlxdfLl39ZnAD0fH947U9kyO3eWZqcCfDcNJQjlL+YuQkHFaO7ADHFSA6j2V+37nk7//J3/3R2/Mn/2rZ/+r/4nKQ9WHfTHSthQoEBwcM4vk7frSJNHGbPf7c0mBlIgKYv9+ogEWHkxmQ3hFn8Sfivj+aPy+Wvn1kdqpxevzW+2/PX+B6OLR/XsfuXP/PSPhQcYUlO8kYJ01OBDJSXxEQAXDUJ+rOP+t4mfVLifgruzKrvxIcrspfgDQmeK0MVQMatn42lb74vziDxcWTm02rpUqtZnZQ6O1Q3um7pucunsevVde/FbXTM/sObB/5l5GSErn3DdwIC6StAQwiLPYvioUXgHJznu3gPMGuzmniyZyGncfOzo7WS5Hp77y1fkLF776H//kg6vro5/7ea6PoQsVcp4KVgCydnxSvMkxdz85rf9exG1/zzd7X8iN+n4Yh98HWoKcKBEj4jMzE3w9OzluMd7kAw/2ehevr1xcWbu81VzoJluN5urG1vqZN09VKtMTY3eO1+dq1elSNKK9MlFEKBlEMdiBncAjnsD48dn7P37fx/mNp59+5SmjvDs+e3BCxvxQF/1znYCdc0TExO88mG7Yvum73jJExgMYJ8QuhC1BPV4K7j08d/7Q3PfOXnlhfmEljs8uLJ6+cG429D985K5H79g/Z/QIEBAUoAk6hVL9YIuzIsKssppKGTI1gO0QgF3ZlV3Zlfcqt53iFweiIq/v1lfXX740/63ra68Rt1vt1DcH7pj98IG9jwalOaS6hWQJl5985fnuVvqhE4/cOXMnQxkw5X68SklDQcGgWPmpz7wKWHICl7Ww7UO3pAh7k+ischBKIazu/YM/HJ078MU/+iO7vPqD//LnRxeu3vm7v42JKaQB2IBNmva08Qa0fUQAcqKbfyTZmfbGTkh5H0IxXGDOg9I12hbEHjIUeAg5CAcLOMpIDOF7/sS+PQ/v2xMntrm+cXlx8fTa+sWt9HISL1xbfGtxUYWmWq9NT47trZbmyvVjhBrrAKj4VFYCgMdp7HdO/M7a9dX1xsor8y/+r1/6X/6nX/yfJzFmoAXk4ADHipy1GVRgcIL9OnsgSw95gytPs5JLAUCKWA/pftKOhZ0CjCAijBPuv2vfwl37fnhl/vsXr5xzyaoO/+LM5S+evnxwvP5Td+x7YKa2H6gD5QIECgfFzOQcbE/SjFpJgQmkSQ1iALuyK7uyK+9TbjvFT2RBCg5g7nV7V668dfHKeSvNkZHq8ftP7J36qG+OIhlDEkLBofna4vkLS1eqPPLA4QdKpgIwFQ3uFdjmgV5gqKH7DU3fmeAKFZJVZrGAsm72MIRUEFXQbUc//enfnt739L/7dwsnX3/jW9+8du7ND/3rP8CDD4MMiHUUWnGKdlwO/WPp/h1af2DkDEA8e0UAACAASURBVNUa9GENO87S9R19t90o6Iu1GY8CSLK6gGy4tMBHEeLQKpkYm54YPSyyvNW8uNW4srp8aXnlamNrvbm1uXJ9PjRv1oLXgspkODNdm5jzaR+oBMtacQT7Lz/1m+nT3b/93jdf51N/8dz/84uP/MIspgVEAiLnAFIsGXPh2+jUISIBJznzsUMeBnCcUT4Wup+gCPAEngBWIuWqrKb37fnAvj2Xenj6/JU3l5avLq+fXbrebjZOndP7K9FctXL8zrkqIQQ8ghaQWM2u8PeRlVZYsO7fil2A367syq68T7ndFL8DpYJExDBEqVIUHtg7/cn6iLdndl8QTirMQkahjQMc2evxwhsXXy2VvTtrB+amDjhwFzHDYzgtDMdZSF8UEkCQAkLIq9oKN7dQBimAvIFrXqRPUAQlGWsgYCJY4L4HP/xv/+3Lf/b5C9/+9vJLLz/7x//x4MfeHP/5z2BiKmm3TKkkIs45AMyc6ft/eN2/g964v3GIDkGGdqAduigLdaTIk9cZxp8ZGW4xd7FZ5cV4BTtxXsCQWpAGwTFZwAIGNMZUH6keHim1pmtrrT3LndbC+taVtdUrjebC8tIr5ZrnN0e8a+Plyly1NDdROhRU9vjwphD81od+vbuFr5988u9O/v1Yeeznjv2LEiIincLqIlKjUETvdwr3i+6KVLsiKACZCWh3IkYZgHWJpw2YSIhsWle6DMz5OH73vsV9U+fX1l+/uvDKW299t9F4fmRsfHr8a93eaGiO1sfuGancSaiRUQAjSZFmw8NQcFBZr4kCPrkru7Iru/Le5XZT/EBO9JKClPaiubl7ppO9USnQqgSUIGUBHCEFYmleWb740snnA988fvfDUzyuESaSegQLqwdtZvLWvUWmtw+Md1yUXQGD1TnbmQYnYyEEYdKABhKDgweP/w//4/6Zmbeef+6VF354Zf7qgYVrD/38L5i770WckmalFIBM/f8jxvn7sg3zn8PfhjP3O3PPPDQsoKJfEHJk/PZkARWgOcmMBDFaOYHAOXIkIPIJDNEQAHUvmvbK7fpEcypdXN+42mpe6nUutVoLy2vL8wunE5wdrc3uqZ+vRtNhddQfmZgpj//aT3903b31yhuvf/XpvxgthR/e/4kIZQekcBoq6wIgzvFO82X4WoYGobhYJueKAEBu7QEAjFaJ7RIpzUYpTnpxxFzSepqwr+LdVZk6Ojl27ODcxa32ubWN88vLZxaueJpfL1VPTU0ertX2lKKZcmm8HFRgdNGrUWcmpezS9e/KruzKjyK3m+JnyYn5Mu0jQTjih6GIJAkbEwihZzPV1BPqXlu7dOX65bmp/R888OCkHUmVEfIo44shzjWYICNbU2yEnMvasVPGtusyXzAmKF002BFHrlB+DEuqZ21kAEHac9pjeFX4uv7f/6F/6EDPD1bOXTr/V19VlxYf+OxncPw4ZqdQKgFgzvFo+Aln+m9kqn+baPIwQQG9456FmiTBNpq8nATQAbA2JSJmzpUmFXuIYzCg4XTfERcIsThJUxeTkKIK63J9/M7R8ccEWxvrV2tji43GYqN5NY1Xrq+cutB4mljXp6YmDx/0w8ovHT+I5UvXmuf/+uk/L6WVEwceiVTpvWbMJZs//Yj+4FJ4aOwKrj2AYJQWyRgAYHwNYeusFUdaV0FHQ31HONqdHp3v7Tl19dqp5dXVxK60ms+ff+tbnTiKyofn7jg6u/fIeDBKmNKYUKhmP2G6DKsQ7ob7d2VXduV9ye2m+EFQGS5eIAJh8ghMBNYGogXQChboIr4SXzp1+WS9NDIVTt8xfoCdgYVWxCCV06vBwTFxzuviQMxZXl8V6Gsq6sEyNIAGtmlWYUvwPJWlvrXPAsQM9gPDLvrUzz565Ni5/+NPr7108q0fvnThzLl7fvqJo7/9G5gYQ7kEJs7i6ts0fuGPvg3k+6ab+xsHIPvsIO8gO/Wku8Eb3r5zP3i+067grEGt0rpgAbBOiEgIiuDgMkDmQOuDQEQCISKlfBS4AQetQISxam1mrG6BZrd1YW399PrGhY2NyzbtdbrNUy8+ExP55fFPnzj6/QsnL1988fvf+y+zoTo8ezfDYwSAAiyxGrQJ7o/Y9iHrWyY3k0EexDnLSmWthEWEmUFOKcVQcNawMoAnKBPGfbrr4J4nDu4528HJq/NvLq9e7fY2E3tmcfnNS/NeN5kpRUcm63fN1OcmquM1P4QJ4VXBuoijqKKtX2FiDs7w7SoA3tXceS/m5NsdhG7cY+hwxbbhNktvO+XkXXfbDX7syq68Z6GsKuyfhWR+7bFjxx566KHPf/7z1tofpYwtXw3TDE+fhWcJrHoOSiPP1qNFnb++8mf/91f/kxdX/5uP//rn7v2ssZ7hyKAIsTJAsEgBKOjhpU0w4HTbwRBTkLH0hbPU/wCrRUhzSGCqkjZZh0YH33zqO3/5petnLgaR70/WT/zMJ8c/9xlMjIMIXgBtrIOTVCsGXJomRnmAQgowoOAEIjn1ngXEgYskBGFAF++KDPdOzdEfuR2IvRuu5X2M/w6hbSmSba/b2/DssHK2Hyz7li12SYEe0AVaQHt1+eLq+qXFlfON9rXENS03rela6M4WIa5+8L6fufvOx6AmIBEoBDyID5h8DJ2FFhBsmioVbKvfGBRtZig/K8gpgSnHdQ6P0o4+CP36j0EthAUSoAs0gEXgzHLz5NVrF5fXlhvNrnNg0r4mksAzUxPjBydHDwfRgVp5WlEA+IAHhIAGlCtAlgwhpIKUJKOAIDgpmJgcIGCBWAiB1HaDsICrFESNriBl2r5T/+T7TwbghoZnBwSkP2LZ5hQFKSL32bAGj48bGt780eWifLY4g5sXkd4UQ7oru/LPWjKMl1LqM5/5zOrq6jPPPPOjhXtvO4+/8AyylUcJ2GVtWnS23DhNnAIddM8unbt8/drHDtxzz9y9BM1K5erZDY7DORzNEQ1WqwG1S/+/22SwTsmOlVEAZH4uYoCNH3CCUohPfvSjhw6vf+PJ57/xjZU3z5y2qf/66/c98YT/8U9CDFKnPF8p3Utiz2ijfQCwKZSGtWDFNLA/MgLh4dWbBExZSYKjXFPcRIXv5JKTIrv/fuPMN5+i/Lav7zSl+SYfZpSBogADhBCBJEA8NjE7Wj+yd8+1Tnex1bqytnl5fX1+q7Omgq4u9S5cfmpz7QJLbWr6sB+Mjo3PGT0OhDA+xGS63ylRWkPSDFMP5CPgIM45sKZCJxUXKuLy4lHK7zVJDsvgfhQkywrljRgEWpwPiYiqzKPAvony8Ym7NoD5tlzd2jx3feWt5eXFzY2lRnO+2Tk7v/CK4RpxNQimapU99bG9IyPTFW8U8BmK8xvt5cNOPUBbp0gyxgI3OFXSBUVAzg9BnJWgWGcZKi9BKdAZ+WUhi5wBAuFtkyqjeB6UZxbXP2z29Y274hyKzdusuTyMxEU+KeuCQduOvyu7sivvT24/xV+EaKXwG1SfgIcgDk7BAavthatXryoysxOzB2r7BTIIMBZ+cQFQ/7HORaEAx/XtBoGhTBewKCYjqJdROlSfqH7s2J0Xv/X3J598unPyTXprZc9zJ2c+8jg+8lNwQOALmSQhpeCsNQZAT8iRKDgFzpMPVMQV8lfKygukyEHsWE6L4vsd45cdxPKw13uLiBAIhV6STF95gAcXkipHpamo1BsbbUzWV1vja227/Mqlby+sna1UVrea10LtL1z6wdTIvsXVehRMhMFkOdoflff4ZgrKJDb2VJCKU5wpO5fhNwmsWIkTCJEUZIWZumcCuSIt0GflySeT5FgBR2QFjijjg8qZH7WgRAiBccACxyNqRiPLYyMLc3sWu53lTvPq5vpiozW/2T7f6cbxiu+benW5Xi7XwrBqvMlyaTz0p4NoIvSmPBoBfACAUpnihJVMywsLCkskU6fUv8c2TbXyQFkxhgUAFiICuzz1QX3G6izSMXQnCkNAilkEAJT3FMz+p5ARP2YTb8jIo6HXIgygiohItrctPt+GCcnFDW3ZBUDsyq7slNtP8Q+E0Pdhsqo854QgSBPEZy6/sXBt8eDcoQN7D2oYB6tAzoqiwgAo1hXZseb8CLnGG75CgAY5EUusTEDOwUuxd9abmjxy+OjY3jvmXz55/rVXT77+8p2nTx568+Ts4z+FOw4FI6NQBAullSBJXaqZJcuH71iVRUCS8c/kajzX7Q40hFEbMOvdEG+XW3RFzVRqdsVEg7G1iSJmJgWKQNWgPBVU7BiaNqo2Xvvbs4s/VH63WuruHZ9a2LrcWDoVqKhSmhwdPxCG42E4Xa6MeyYMopHIjBM8gCVrSAwPMM5Csdl2HllkKLXwWIrIdD7GDHF9CIED3NAr56y9DAbYiZOUUidCrL2qxrjBHSNhG2ELo8uYu9rqnt9qrXTjjWZro93caLaurVw/1+pYaz2i8XJldqQ+XSqNh+F4WBorRZHhkq8iz5QNhwSfSCOvJslaHTgLsY4lJ5pSWSEhE4gUMTirtUSfBKsI82c+PecxoyG1nUXph6PunGUYBLmxMUTutPNBuNlzMRR3yI/W3xfv/8nblV25PeW2VPyEwt3nPC0JgJ0lq9ikSJvYevXcS0sLix9+7CP3HDymoTR8Ag8zzwsyAP9PAlOUJTIJ/dADciIgZoKFEoZlX+CIU//w3eN/OFc/d7L7N18uv3aytXTluf/9P8x+85uP/PzP48SDOHQQgQfySCuIiUUJKUc57Evn8fkUzmGYCUgYLneWofojkknuPBWpaM5Ptfi2urVWW+6z3Wd+apH8cspDllYWsVRoHUfh7Ojjx0+MXfhu8IOT365U1KPBxMHqxP37aqvzV5Pu5vrGa9cWt7rtTiUcmZzYVypNj0zM+d6YH4x6esRTE8Q1wFOs4DInVJCZhuIyFZchQTKVRYRMwTP37SwAhLxJNAPgbEpmZ85EMFCOCk/XOihBlVElTAJ3lYKPl4IUaANL3fTK+tq1jc2FRmu119tK01aCK1utU0vr7V5PhIKoXI38yVowWgmm6vWpSm00CEcUahoVQllQIpQVPFWcXTYRVAoSIgEYjrJ4QJbRcOLghEiYBeg3ClZFZ2FXYEcGSrnv3ff7O2etFHfOoRumVP8Qyr3NnrmdsTMGdytNzl3ZlVtFbj/F319xMIRHIgiQkiUYB7sQX72y8hYLz47MzEVzIqJIKXC+hN3omvx40m++3g+1KwAWTIADEzqpI8MpmNgjA1Py1Injj37gCJ57/qUvfGHjlVONpetf+eP/4M9OHX3ik3Of+hT2H4DnGVYg1SsCoQoA0pxWcNBPgLb79JnrORTOyC/V9Z38TPf38W07+wXdGpJ7nYO0hHP98C+pQu04iBbInsoD/+KJykZsTp599mvfO/3pD40fP37i4B2PbG3MryyejdsrreZyt9Vqri+tXl86c+4145WCsF4tT1Wr07XaTDma9L2KF9ShGMiwBZkXqwEFCXmQPbeAoyFkQpEsuUnwJMujOxLJ8jFwBNYMBlSxCYBLHHssCrOBvntmsjsz2QU2gauCxUbn6kZzaau9vNVYabSavaSdplfWN6+sLsu5S5ykHlALvPFyeSwMp2qV0ag8O1IfrwQVDQ8wBA340P5Q7oKK9xogYmJAUnFCGefitgvJrFinhlo1oWjvnCFkcmBpESO4Id8/fENzMMHAUt+RVtiVXdmV9yy3neIfLBo3g5cLXA/xD8+/sNJdObD3ziN7jxj4Kiu/EpCjXDMXSPifxJKTh9az+gKbd5NnYiB1GcoqUgzJ0f7Gdsgweg5UwqOffOC+D7oXf/jCV/5685nvm+tL577whbeefHLixPGjn/4Mjt0PxCY0xtMsAnFwDkxgFlIWum9nMIE4Dzm4gQWAoV7Ag0vtkxcMb7x1JG8KfJPTynPXApFc4yompZyNmI6YuX/12d/+T1/rPXvqmb9+4fsb4N/80G/MjnxgrPJR42Kixvrq1XZjeW312vWNy910s9W81OmcXdkUWhDPizyv7Pv1cjRVq+2vVfYE/qRGFQiASNIecQhWIJAQhGE59+uL0RueiQJHJFzg66nIx2DQKNCxOHIWAsCwYQjIwgc8RpmQAmPAHKFXDbvVMAF6QFOw1Yw34vTSysZKu7e0urK0ubbVbS+1kutpzG2Tri2RYs3KGFPygkq5XCtX6sa/IypPheFEmevIWgnntQOpwAMUgUlDxElBbjF0FxSGIPfD04hy9e2KMlcCihqNfjlAZpoPiiqHzaWhuzoYm6E5eUtmoXZlV24Zub0Uf9+r7tfODecjmShBsonNF8+8uBU3H9z/wKHpQx6Ur/xsUckKJzJKuf5ClIObfuQTAgjMO6GCbrBH5hYRdBZVV4wkgReClDiQKfNjH3z44J0PP/HE/HefeunJJ7fOnl3Z2Lx6+tzs0bv3P/Bg6bGHUYrgaTBlDYEcm4xHpw/Ly9R7tm6q3LvacUXbcQDbsx63llAOu5D+hYgIKbi8orGvawkQEU1aXBqx3sv7f+1nf7cn9J3XvvfUyZOGvv2bj//GmNrrKSakoyP7Rkfbs3uWE1lrtheb7ZV2d22jNb+6dm1ldSG1NghKxlR8c8aomuZK4NdLUT30R0Yq44FfCaMqqRCUBQM8iAFl8QAN9GEjDDgii4wXIk+osCqwCgNDLcPjiYNLwV4+iwgk4NRqpoDZSUqsbQE2sARX8Rrw7h2LmkAXd3QcNhIst5qLW1tr7fb1VmOz3VltNK6vb8apVcaEYalqvFdYV5QJPVNWXNW6HvqT5XI9CibLpWrgVTR8QBFlTFKm4BbMUkacNaXAECJkaLa4weYCKJDfmexKLQa8lENQfx4O5NzUet+VXdmVd5HbS/Gj30pHBuD8TATCQAq3sLlwZf3q8vry0Y/ePevvYTDS3ERgj4CMPQb4Sam8LM1L0MSg3OnJj64ZeRPegd8jZJynBERwTAQH+B727MHMzJ4jR+sf+fjKyVNvfufJt37wg81XXug8972DP3jA7NlbeuQhfOAYwsiSBpRk/r4qLqNIQyvJXbC8XJtzoLVzLuv/O6z7BwVat5buz4FmBXkigOyG0Q4tkbVVgANiTRolMzqn7vvFx39fRyNfefpLX3v1q13d/N1Hf3cKU2ESkJqTdIPDSR8dP0rGkHZ7rV7c6LbXO72NNN3YbCzE8UajtbK5eaHX64Bc4Pmep0vVUHteFNYCv+Z7Vd+MeLpuVC0Mx4yqsq6BIsDAKZDO0/vZ2RJDFInAkcqK8TOdqBgKIBJSwsJ5EwjO74hW2WUyNAQ6xzXAIG93WOk72Qzxkfjl3mi547DZwWZiNzrdzTRu9OL1Tmut2dzodpe6rSudVrPZjBOrtY6iKAxDz5h6WC6HQb0UlsOgok059GqlaFzjgMIY4Be9Fk0BG0RuaSFNEyGQUkTknPNIFbWALHCxi4nApGx+iywAlRtDEEiCnU8fQQSiwJzN3B22wK01OXdlV24Jub0U/8CnKBSY9BlFrHMq7aJ78fqFdtobH5+crk6VESmn0C/QQl998BBGe3s1+Y+80AgA7jP9Achh40OfgmDBFkxwDJfVJAqzEHd6SenQgWjfvrkP3Dt3+NDCD5+7/sZrq9eufulP/8/6vgNzp96Ye/jh2pEjZv9+jE6CAKOQOBBgGEIiICgQkBSp+6HqRWZdeGLbz03euc7+H1+2g8wz6WuCt7HXyAOAtIfABPeO3N893un22s+++dTXn/laiYNffPiXZ8xckHrsj4iFcEwEAgWeBF5aq6RAB3az21vuxcud9lKnt5IkjV6y1W01O0mz012PG9359sUkEcVBGFTL0Vjg10qVMU9XorAW+FXPhFoHTIbJM/C1CcnzwX4eFcjomBxDFNDvgSQWDJDAZhZZVnFKUtg3Ns93cBE6V4CB8wFI9kkOz3AO1kFKSKDikVKCUgw0gc0Eq7G70mlvpmmj093qdrd6vVa3t9WLe3F8dX21t9jrdboQW/K9erlSrVRGPLU/NHVP1SvVWikqeUGodKhVwFThLDYAZUz/tzUrcSAHKw4AKfgcFAC9DDmb39Ts+Sueh77JWYRAMvDGNsxKntShWxOEsiu78k8qt5fi3ymZO5u9JUphV2XlxTdfbnd79x/6wP6JOwx8uoGaJBMuXn6shGLGNDOMORhSTpmHn0G4mECZmQJWQNFKzjlyDgmAkk+QBGwxXsXPfmLmiY/OnDx1+pln1etv9K4tXvj+i+e++dTExPiRB4/PfuRDOHYUE2Oo1OD7WTs8zQLEAqIgyE4t87asdQqkmYplNltfnQVSgMiZm7Lo/JPL8GD2ZZAPzoPfIIZiASVgp0gJhdCP1E/UH496W51zK2e+/PTfdNLe733wd8f1NLX90DcErziqhXNQBlBQYRBNBmFaq3bBAsRwnW57o9NtNDZXOt2tdmer091Kbdu6tpVuq7O80XgrSVtx0rG2pw2HYVAulwNvJDCzxhuNSqUwLHt+yejAM2VNkbPKcAkUQTw4LfC08kEmhjgoDSa4IvmkAKCAMAqsJQhcCkcigdNwmdkqwiSZolRILCyEmUJCCFSBaYPE8COlrIMRekBLsN6JV5vNrV5vcWNrs9dZbXWavaTjXOKoub65CHmOqZn0kNpAq2rgjZcrM7XqZKkyWx+pGT0e+HUPpQIoEAEBI2AwOO9n7UCOpWfJ1zRsanMeq9OwBIEU3RKyGEl2c4f4ywR5iGRX7+/Krtwot5fiH/B+5GnCnHtOBIq1A66sXzl18TVJ3QNHTsyW9yjRuTuxXffTjmXmRxUBEgAZy/rAh+mLcyCBEKRfUJ97NAUiHxAFIcDGPaV9eArGILHwQpx45Og9x49urMc/+MEb3/rWyuk33cb669956rUfPi9jI3sfefjI44+bhx6C70MsjIIC2dRqpGCQUlnDWcUKEFsUbudDx1IUZ7tba20t6sXoBq0/EDf0mQNcLA6kGFqTSmNb1tE9lXv+28/+d3/85X9/du303z3/9U6n83uf+Fd7ojtyFZMDPJRYEmtZKbisii8jcsxocNOgbINyWh/P0HUxpCd2q9Ve2WoutTorzfZynGx14/Ve3Ehtx0nSaDe2mh1CW+CLdSJCQkoprQKt/VJUNzrwg6pvqp4p+V4pCErGlPzSCHEGwKcCvzhMu6wJrAEB5z0mlC6YeTkLi2cf+Xl5Jzs4zisfGIDY/MCWYAku8uJotAvYfTMxkFUQrFksbTZXNxrXk+R0o7maJJ1228a9WGSh0VhrtM7womt1tLgSeDSKxqLSaKUyPlKrl4Lp0dKIb8qZKUDwCR5DacVF2QkAK/mzSoKAFEkWhFOQwjBGAQ3kgZneT+/ciobpruzKP6ncXooffb3Krq8AqMCCJUgvrl5aaa1UK6OHZw6XUZG4wGMNdIUbVNsPqxZ61w51NxFX/Msy+bqv+wu4FgMObrjMSeWZ/pxxj3LYMyuTZYg1QFAmN2mMxnjJ+9Tj93/oBBauL7782ptPfW/ptdfx5qWtzdazTz5lZsb33H/f3scfx933IixBB4qEyaawPZsIacM+QSk1lCZxAEPfUIJ1y8jQGd18ydcY2DAOgCeOMhOLUs8YCDznHwuP/ptf/jf//uv/2/fOfO/b577bNfL7H/rXB+mgJ4YSqKw7kuI83jMoRmcnsJKKMGtPwRHivEyfQHqqXD1UriQisdhY0BPE1nXTpNPpNFvtzW7SbPSWe8lW3GzG7abttmy31ZP1DuJe2zgWKGJmZqWJFbMSI04r9rXWxvjKeJ4XaM/XyvdM2ejI0xWjS1qVPBMqU4IOIQZsilyOAMzQgLIQguF+jscBjgQCBQGcEISUsGKliSOgJ7lLPQk4hXi0nI6WU6ABdIEOsNmN1xrtpc2t+fWN1a3mmk0bnXi+F1+NU9Xq6PUttbCkPeVUajSP+MFYWJ4KSlOl8tzI6FQJE4yQ8qZJKo/gp0zcA+sM0eCGHxYZ7lblcnNgV+Pvyq7cXG4vxU8Z4xplXlvmvzkWdoKU3VqycXb+jPJxx8z+yWBSw2Rp7yGVPzjOjZH5oR3eqzbkocL9m6xSwpSTpWwrq9v5Ky534EQcqSJ7kReHa3AIMqjWMD4+feDA9MOP4vSZ7oULr377ySsXzm6eP7N4Zf7C66eDiZnpA4dmjt5l7jtM1dAY3ygGxLoEJI4UMw1KGQRZxgHDiIRbRmQQ1NlhnO3cIGBx4KzPgk1zDUMgBx/enLf39z/9B1G59ORLT33/he97sferH/nVo+bu0Pedg0thNICCbKeISxOxhldgDRRECCxCWVSdmUFEBCKXhbY1Ut9zpSgeq6eWWjGWnW24uCNpTK4rtpvaTmrbze5mbNuduNWL271eJ+622+22jZOkkwAs5IiIlVGeMcZnZUhIse9xyOxp8ZXyPWVIB6IMtK+Nb4yvlTHGV9pjNp6JtPY8ExrjK+WBzYDmOQcWqDwrAAUYTaqoj6FMCyPn6lEO2gLtwOsFXntipIW5TWAjwWZiN2O7Fadb3e7q5ub1tfXNTmuj0ejEvcvWlZRX8cOK54/4Qc33x8Kg4pmx0B+rBPVyNBJ5JdIlQAMeQRMYMAABRsAZaKGfGsj6DRBuNQTKruzKLSK3l+JHtkRx1sHN5Xl6l0Uy+crSwusX3wgq4fGj94+gpvJMOvp19vkR+seSYUx7bkm8r5WGBF6Rbrj5HhkuvegCTEV6IkMeSOb1KwAQARPnRfY6rwy0YjkBQzMrsEJVo1rFXQeCtfUTH3zwjotvLZ8+s3T2zNWXTraWn1weG2scvmvy6LFgdqZy5DDuOojJibzPn6YEKqNZy2q0BjSsfGt5VoOKTQDot0XecfcG/WkKRDnAGoI0sVYnpChFYoGj6uhvHf+dWmvkOyf//runv9VwK7//8L88NnKPZpN6iYWvoZyIIZObGQVXvxI4ByuWjBF4/UliAXFWxHKm/YkJPkhAATG0K2sehbLwUJy2A1In8ZhN0rRrU9/sOwAAIABJREFUk65Nu6ntpbabJL3U9li61vbipJumSWzjJO0kadfanthYXNem3V6yYeNuartik1QskJJipZQxvtaeVkYpw+QZPxDSTFoZj7XRxjfGMHuaIsWe0aEynqKAtU8cEfuaS0w+68iogBEWoQKG6wkpIhUKCZQjlYIsYA0So5JIteA1bdQaL3f2jjWTeLObNpJ0o9PZ6MVrne5yq315c73ZSxudduiF5VI4Wq6OlqPRarVeLo0Y3hP5Va2qoV9TqAAhEBI0gRxMFjMDiIQls8eYbqnZuSu7cmvIbab4ZfgtA5RBn4UAuIW1xctX35qZmzo6d6SCMjAodR9ybLdraBre/iO5v674Q+/in1D/Tz/YQLmeQxEOzQ4lsC6zGUhpjyWnjGUbp8KiAx8TY3piYuLhRyeWlo++9MrqG6+3r11dv3r56vzlF158RUXlyTsPHH74gdl77/H27cH0pJ6a1J4G67x7ap5Ev+npugwBsGOgbtz1Bld85ybZ8RFtKx18j0VbhbWEophjcGJcwMUdcoJdJmijHFkHx1AKOu3ZY/W7q5+ogt3Xz3/9mRee0RvmFz78i/dP32eg9YDNiLYhPZ0AxAoMJUMJHYAZTrEa1kYuT0qziChEiFPAgdkSC1hyAwFKQ+sUvgUlkEyZpkAPsgV0ixhUAtdBt4G4mfQ2XdKMe5tJ3EjTtk1aca+dpG0nXYdUnHOu7WxLEpGYBJw0BSKpQ09cCoiIFRIhgqdVqI2vjEc61F6kTMQ6ZFNROjQ6UjpS7GkVGB0Y5Xk6YmGttdE+RLGF0QYmcIlwEAJGoGNFiNhGJkWYwFigC6wAi7FdbLWuNTurnc5Ku9NLpdVJWq3Whfml0+cvwzkt8VikRqJwamx0amx0olYfKYVV44WMMc0hUAI8QEFxQVOtAM5hj9uf3G1zafjJHex200n1fqsFZeiRfYedhw67bRnZ/pUfKbE2/Ozc+Pp+v5WfIeOGZ/ztDjMsu1bYLSK3meInB3YgMDgVEHGaWK2RIF53W29duxCyGfdGjpYPAxLDaqWyqMCOCS47oH0E5Irj/cvg0NuL0Hb+3nApHQCXtTjTw2tKjlgEQw3KDaVPpwblBflxjMld9plxnn5i4mc/jkajcvI1evVV/5VXsLbeXlt98UtffOEv/3JkauLIwyf2PvAB3H8vxmoYGYUXAMaJZqUw9KPFr1nkeHc4ODhHRJpMZkFJ0dFIBtSHQN6YYKfizw2am5lTMkDo5XiLftxh+P2O8c1PFoyhDEt+8iqPqQBQ8LLtAmFPObixaPKXn/iN+ujUN374jafP/GDZrf/aY7/yof2PG4QKJiczkqzyPIF1YAJ5QuwclIiCE4YURkAOMch2YwDOZel2YoElnUchGGI5o/LJL1lBZ8384CxsF2kPrgO3BenACZBCEqQ9xB2kHdPpIun5PYHTcCGcQhrCRbAdK7FL0sRZESsiDiJiLUTEps5acSJiISLOElLVsbJpU7IdpKCUuUecMltSVinHygmS/BLA5Je45qlSGIahH3pe4HslzwuVivygonsV7VeVKSvyUhgmrRFpqgr8MvQY1EGPE6+a1qsxkAArwFKjs9poLW1uXV9bX2+02tY2SRacXFxcjeeX2lbANFYdmarXp6u1mWr54EhtJsQIUAbKQAkZSsAWJQ4FEVA22TLLP2+6keUpKOPzIKj+RJLtStsBRcsrlye8hiN/O9kiBkoSWS/Hm+SeBgHFLPnYn/EKyGkZtvXYGprSw2bF4LDFAYZ4D9/29e3k7fbvk0W/k5/D/WO47UbVjtXtJhb/+5V3MPkH+9zcsLud5TZT/ED2gBNpA6QJtFZx21FZn104c+H6uWqpeveBeyKUfISEjEXk7WfKj2++Zpp+R+3+e/2ue+ezIGw3I4axhwRhIaUgBjaBMMLx0Y9/YvSxx7C1hTdPrzz34vkXX1q/fKm9tnby7588+cz34iicOHr40GOPTRw/gT372Ssh4zAkC6P7aGqCsuLiNFFaMynmrIzcQQTb+gLlMvAa3nYweVC/fbN9Bpq+WKDfFgyxY3C2Sz92klXHO2HFEEIXiQLPeLMf+8Ang6j8xZf/4tz1C//5b/9z68Ptn/vAZ2NnIy6zAGByaZ4Eh7IuteIpBTgCZRUbVsBF7TwDBGcBImYAqUuZSBPBJdnAEqAtgBTOAhZIYBP0Gug10W2iseWaW2lnM968brvNVqvVaTXiuOtsQs4ygUlYHMExhMSpDMAvVhgOVvLiOCdMmW/vXOrIgfJWDEKOACELI04JmBSz0Uo0RLHVYKUsO2Fy7ESsIwEThAyvuR67Fm3l91yTCkR51ppUNBCBfWOqYVQLoor2a140arxy6AdhGJW8QLOXAfy7wAzCuythr1KJZ8cToA2soHd+s73Y6l1bXZ9fX19utVuxa7a7rc7S4sr6yTT9dhKXiMZDb2ZkZHpsZDwK7pqdrJKJCh4hTQXTcFGNYgHJKDkBQFRhjkk/dUcAkCRghlL585NF1EiGAnVvM4F5MImHiCVo8CaD8GZQniwspLb1y+jDF3joeNvn8c6ffvt9bnzFdp/+Xb+Vy7Duf6cF8uaa/h2+cFNTZld+0nLbKX4hndpUpcKatEKvh6tvrZXvLL1w9aWT11/fOz3zwN2PKEQGPjJf7IZZfZO5K9s+e1+TlgaP9D+A3BBkLM6NJaN6IUAZOMk7rARlmDIenRq/58HxX1jG4sLa6VNnn3nuyquv2YXFtfnNUy+cC8e+Fs3MTh09MvHQCRw7iijMYN8QZ0mItSId6YK/PUMk5JQzMaxA+chB2s7Bqdw2ccgRWpnm2YajuDGUMrygDFT+9rvwY45bpv5A8Ikzbry95ZlP3vdR1OxfffMLZ69f/KsXv3hl7dpvfeT3FMqIEXhg1k60IBEyVOBDMjoEl0deLIMgVIyIEoGzwiQ+EZGDJCAHiZF2EG+hvYqtRazPo7mMtUV0tmxrK4nbYlPnXJqmcWoTR1bIWitWGGBS0D6xUp5PxtPGV9pAaSbN2pAySodESikCE5HYInpCLEJORFJJrbWJjW2Skk2o12GX2iRJ0zhNYpt2ne2RSzwPihyT1SxGCZFTJJZdalpWERlDgRHft5CeJL2UE9KJIHEiCbvE6/ZMvKGsoi2xMMpTWrPxyPdUEHplbSqlaMwLaiqoG1MJoxHf1Aj+AZj7a9W4NtqdrbeALcFqO1lcby1tdS4sXl9N3XKndzmJL3U9L3Gq2TJKmzcu1PxgolKeKpWmo3BPNdpX8aYADwgAH1BgTfndZgt2juBEcda9om+GG13EtgQQKAaIQGRdr1DSRKSoH1rYPoMxXPU6rNjyxzMLGxV2Yb+OiHZO5hvWlm3Od/bsDJ6DnYEvd9MnI4tf7ohivt0iRngv3vMQDloYcjOjYTi6OZRzIXJDZ/J2yKdt22+eTdj2i7te/k65vRS/gFOIVh5ZQNBsuL//1tOrV9pTx8fOb11c66w9UDt+cOSwgs6q5tT/vybMdoOeBCQu5QwCJQRrReDYKI8R1jFaw/79o/fc++jDH3r0ylV74dK1N8+8+crJ+ddOJa+fGnn15ennvl/et6d85x0Thw5HRw5jdEwpDbawDtYh8Dhr/pMFU7N+tbqPhHCUhzH7a4RD0dgVQ6p92KfYmV3B9gX0/UIrc+HhYRkEDwRwjhhESkmaktOgEdQ+uf+Jsc+N/9fvfuHFUz9sbrY6Se/nHvmVuypHWpKjzQFTJO2H2gEBCsxwBIFNxTlKHTxDsMrFQArpor2BjWV0mt3WRmf9um2uUm8DrXXbvJ62NtLWpkt7cE6IvKAURCU/KpW9si7XVVDmKEJUhhdA+2ANMggimADGhzIAgxWUARskCqyRF2gKxOZXmwWQslfnIClSC+eQOqQpXIo0QdpF0oGNYXtobSHpIG66XieJm0m3lXQ7adrutBqx9BKXkrEUWB2kVgME32PtXEhOeaoUhJ7ymDkhobLpuLTbTVqNuNtJGymBQlYB6RKr0PNrJqgoHRAbL4zCsKZVxQS1qFSrlcp7vGpairols4UgPnZsA3I9tkudeKHVvbbZnF9fX9/aWlpvXrXQkEjrehhNlEv10FSU2lOtjnjBeKU0WamOhChl3Qg1fLAuJpQTkAMTNCFJUkWseDudlyDjuRh24UUEkhK9zdLa9553TF0MvQ6bsAxL281coP8QydB/3jF21k8f7AwoqqEz6p/OzXfN9x+2ad7NK5Ltl5PvM5SAKL6SgW/c4GtAFim86YF3lfqPLbeX4geQrW0ZV7+TtNuIL7++eL23tjy2GQXR3pG5EYwqGBLYFEq/27z6sUNS/9AxrRtphopsopAIZ6tctnAZJmThS5AlEgL7qHq4ZxRHjymk+y5d8N84vXX5Yuuty2sXzl997ZXGt79ZrkV3feCeO++5P5rZy3MHcPhuzMxCe0iKLvNCIJWBrOK0l5XAFWq7yLODszCAyoBtGOxzE8zkTYfsHcOt7yDDpse2W+0cWOU5SodIGwtIiik19cTEx8d/Khx10bNXXvzSc19Yjpc//dhnH60/QoisVQbkMbKMO4mDhOxgXSJiRbFSTNoRLHQMu4GtFSy/hfVraK9gYwFbS82N5Wa70Wi0OkmqvDAo1/zyCI/dWT08rYIyhzUKKvAi7UcmLJEXIapCe/A8mEzlAyAQw2VWF+fJ6L4LRSqn9iMHEYgFAX0sQd5dtz86BKvy25L/y0CFFi5B2kPS4rjj91per530On7SKXXbttdM2s2005C4Id2tpL3heo20veGSpnNdreGXgnK1FISe0lrWUksqVYH1x9J62QZl65d6xus4acbddq/bSpa6W412u+EkNqwqYY2ZdeB5UWSikhdV/FLNBJVKNFEz1Tu8UedVOlV/q4729Egz9Tast96VlUZnudNb7iRL7fjUWnOr2wWrclSaqJQmKpWpUjRWDkejYFSrKY/HjB71qQr4BKPgIQWs5/VNUHaOJGu0CKiM+5D6AXnQ9uD/DSn/oh6muCNcdI3M995u3toCwDvAGcuQOiQAzAWpAWWYmP4O2z34LI8wrNdzzbpdB/dtEh6sFf3PeZs6vmnC7Ea56VNZgCGGrRYB98cHQyvAjvdFefMAl/Oup/DO53Ibym2n+Ckz5CVm8qpl72Mf/sjyq9+6vrSYOndw/OiRybtC+JnCUn1z9b1Plh/R6fxHEiogTQ6Dvjt5oM86EnHkRJFAmBRphkAsCYN9FSfiHb1r8vCdk0kP1xbw6msLr77auHIlWV9Zunrt1RdesSacvOPgwQdO7L3veDS3HzMzqNVQKgEAOSgNQGk/A/tsC2lmkuc7kaOlMBjJ91ow+P5N/xvXiMESzJyF+kFQrCBKESLWSADtPzT1SOVTteD5yguXXvzOy1+/tvZW62O/de/U/XP6DgXj4oR1plkdJCVymi2kB+mh20JnE50tNNbS9eXO4pX2wuX29au2teorW4o85alKORqbmlXRCEV1qo6jNoVoHLVJhCMo1aGCPGHNCtAiBDAN2XeCoqvdzTopyLb3AqAAXA57V2JhWdiBWQ+AWiwQOBELOGJhYynM2QgIzoN4ksKlcBaSwHbRamBrBRtLaK1j87qLG3FnI+luJr1Wu9FeW2km8ZZ0E02awzCs2/K4H46RMmyJXWjikt91pa6tOJoAS6fXbbbbVtCN4zjttRsrvY3FbhJbawnGWQr8ark0Fob1MBwrRyOT5TpFdR6bbYrZSNxy111rufmOXO9466nXFd2z0u00L60unbsSs7MB6bLW+8bGx6LydL02Wa2M+rpiuGI4YArZaCgvIzTgPCKVcSOrQmcX/RKGh3o4oDUsXCwVRTqRcpttx626YVJnxpwbAPeG+hMMGRA7wT07QmjIHyvu7zAs/fCFuvEZ6efg3+6Z3JGnHzY+bvaVYcs+y5L0swn8LvgfvvHXduU9Con8sxmxDIJz7Nixhx566POf/7y1Vuv3Z7gIkErGOpfAAamSFn/5T54/v3z5JP3g8EN7fuVnP3egvseASRRcn6z3fdXp3WKhJ0G+TJDbEdYG4MQ55zI6uGxPC+fgNIhEQTj38QgwgIjtdRUcmCAO3R46veS10+defPnCq6/Y9TXTbtqNTS2pV472H793zwP3BY88jH37EJahfJCfglTOYjdYO/oIyjyHmkleaFmg/d9B8xcukeSt3N9HbUXf59ieSnCZwSdJAjAZAwJSKeh9EoCaXcuBaWPjz57502+d+8b85nyoRz736Gd+9f5f3sd7WJRYOM2AMyDYNpJNxKvYuISlM/bK6cbKtfWlJUnFcGiCijNhrD1VG4nqk7XJOV2bwOgEKiNQEcgDe2AP5IGKWnkgLyIAC3k7ZmeOuQREbOY+Uf+2C2d1gyK5i9+3GJxz/fcK5AgK7EgcMtgBC4FBQqCi7w1JNlYiIuQEcAwLGwM2r/zMmzc7wEJSSALbRq+JxirWVxvry3Fzrbcyj+5W2t1E0tK2ydJ1acvapDJSD0dH/Yl9mNyL8b2oT8FUIMr2kraznV6n0W40241Wd6vbaaZJW3Mq0hPbta7jbCxIwOKYeqlWfhiEJa9U8ko1L6pzeQTBaDP113p6ccstrMfXt9xGB92Eu4gaKHVgEpta57ThchSNVqLRINg/OjoW+LPl0kRAI0AIGCAAykCwbfJkfoUznBWPuCKz3n/yihDXkGuLHNgvQ/u5DNqikCnMPHhjd+YB+sreFbzeN9fl26VABhCnRYC9/wgM7Owd0Jn+r77Nejh85v2nym0/YWz/rZsJ37j/u3nxN4/Z3fTbt7Bf9p5ERJxzSqnPfOYzq6urzzzzzACZ+n7k9vL4i8iyE4lJBLpMBlOH6tfj5cri6CH/ngO1Oz2kQCI2Jg5hBfp9UtEPW8Tv5fUfVvp4+EFmHTkBj2NiJmY10JTOOTDnulME4kCFg+McFHMYSh8i5AeosPnI9N0f/MjdzU1cOLf+3DMXnnt27cKZ5ubqmReeff21F5Mv/1W4b+/BE48eefiD2H9IeyFSBebMXRJiO7ROqOGFph863REC3ZGKHGj9d0MY30z6IRAML3a5v+PIy+maxYE0AbBpqkwCqFLg9wTsgt/+4O/P3DHxxe9+6ezVi1/93t+sXFr+7GOffmjmeKhZQSApkhbmL7YvvLZ1+ZSsX6ZkHbadOgeQX65XRvdVZ+7E7CFMTKM2grAOKYECEIM0hMEGIIHOr9GJypBgQmkaJ0mvl3R7qU17cZIkaZpam1hrxblM6zvnrLWpja21sM45JNY655xD3+J3zvXfq9wT4GyLiBWVCAkzg1izIcVKGSKCMDNrNsxMRMysMyYgFqO1Nj5pI0qrXIyvA63E1zWKgPJBzLiKJJAekgY6a/8fe28SLElyXAk+VTVz94j4S/7cszJr34tAFYoFFlAgOSCHHGkMhcRhbrwNLzzywjt5oAjPvPBEGcGNc+kWmSEbw5bmtAwx7BoSa6H2fc+qXH/m3yLC3c1UdQ7mET9+ZoJgYZqF7uk2SYn08Pjh4eFhbqr69OlT7F3HjU+w/dH8+of71y/qwc50H3sHe/rpBzlc6ehNbo6tnTi3dvqutbvOrx8/uX7y/tMD3Q7wHmk6n+90aW8+uz5vb7T97qy9cXCwM2/3o3U8773d1V3qGJ0wKCjXrdcW17aqrc3RiYfPHte42VO1R+FSp9c7vXFwcGPaHvS638WDXF+m8OZFqp0a9QnJepQTk7XjGxub49GZtePr9Whro14PGAEBCAQhDofEDpaj7RMWkfctU9UW0uFYGuZFdcHgtWNxpyzvicO7BodLyjKwplteOpzeyyz7oANGq/U1q8OPbhBA5jAC3/J4NHQfzn81kbC8oRk4Qtc9YtQZvpKdvN3n+JnG57TW/hc1fp6G/7DL+52e/gsNpvJBAQK4pUD5rtmNN6403drm7GyYAw1DQAGmPcfKC35327izk+V3codvKQT+nEeJBo5+Pg2ldUdPlcAU8h3eW97u7qrDQRhAKMx1djQB9SbWn9h65IFnvvk/6scfHVz8+O3vfv/iy6/dfPlDeu/69dc+3f83f3Ps3Olzjz8++dIzeOoLWB8jEqqmdROqCQh+JPY3VeIiwF4Y16ZmQQ6nKy3gyNLR4KcUXv6T12d5KLgPHXgIq5pvtEA8OYTD1YjQyNhR/cbZ/+Ghf/XAv37+3/yfL/79f/jou+/MPv7mY8/+zhNfkg8/CVcuTt99XaY3dX9f5/OkWSbr6/c9vnHPo3zXQzh+AeNToBrUwNXms4MbadbO225/Pp/P+0771Pd927Zd16WUUtKu65Kp6eD4qyVoxsJ4F4tuZmUPUKLxIsXj7u5Q9ex0OKWXJp+OELWW26aeARCRswjISZYzn4gEQuxFhZhBTsxUg4RBzMwCLg4CnMiFUdoCEXuMsWnqpuJKXEiZLFAluDesn5XJU2I95znlVufTfrqf5jNqr82mu/uX3qteqaUahbXN0dbpyakL49PnceI0xqdHGzQiHIMDPdAr5tk61ZTnXerb+Wx3Nt2eza638+3Z/Ka10769brjCgSWGpm6kapR4k/yuSqZqnYU8Huvm8Y7W93Sym5tdrXc63s24kQKnuu7nYX/XqNHqJkkTmUeCtRCONdWpyeR4XZ2ajDZj2GroWBxQgQAUylBcmP9lKp3AbjxUkToAYSIigtvQIMsBZBCVyoFlEmfp7xrxHRSKj8LsdLQ8puD8wRHwExYnum2boA4vv/WCW8ADZnDrzeeLbATDj7Yw5VtbZq9i/bej9ku7ffQkh1XVcWftk1uO8d+M/9Hx8zT8zOzuquruIvI5WP0ykmb2cu9pX+fXpy9eb66MmjM3L84+fW964bGJJjPJIUaH/UR27h0HlUB5+WSRQi/Db3v8GcYyNXOL5/GT9g+Df5JPv/p2X6wog9LOAgZ2Ag2JSCwjj+GbDclsAlcY1zixIXef39x/8stf/MUvX9nG2+9def3N9199+YM337TXX538+MWTP/jh1oP3H3/kwWMPPRQef3xt8xgoDTkFlsO8fmlYZApTBCECI+hh3ZJXpVOwD9/4zs0O/hnj0OovnpiqmsUYCy6i7kQSDhEIgpmJEVgN5NjCxrH1R85/439+4v67//fv/1+XPn3777Zv7L/20sOZj+3eHO1vH4u0MdloTt/Lk+O6dmK/2bqmG7Yznl7b35/tdG3u+35vujdrZw5KPfXZNfUpdTl1OXXaJ9XkpX4vaUopD+CGMHwyqpkhIiGEEIJI5NLGp4rlT4S54mEn2CWykQuVn/eQHFAC/eISLB4ZMBFxqBsNXgV81aVwd7NsZm651G/ud1MzmGVN2VU1ZTeFWkrJXYtkoLoBBiYiqppGAsWqqurQVFVTcRUokkflYEFSlL6SZJK7iFx5jj41YpUbXl8L61fq9Y9kbYubjTBa56YZjdea9VEzaerRZqyjCJFYPfbJmoqkwIloDszgU9X91O/N5ruz+e683W/bWZ+6Xmf7+1e3VHtjRaNys+e1KU+mvNY2m3t1vT8JB1naLH0mNZ6j2u1GHVVI6mZiVpOMQzOWOIr1iMMk1uOqHse6idUoVLXwibVqJNJUdV3X4yrWEaOiMsQQkAjRSgMlAhfOAC/QSiohPamrEpENqa1Dcp8jMeyoLWRyEBWlhZU7HiAH6VGberR+wAkOd3crM8QhvGgjClK4O9QVAPOqXaUFtorD7smHH8DAIoFIKxhIGeplbpRqycOTOZovwXI5W96/tPDdF/P5MDZb9HCGw3xIaf0M8Pj/n8bPGeonotU8fUopxvgv+okOVLEBQEDSfFNv/sdLf3ez759cP/XBxU9OvbZ+4ZEnJEyY8wCpmS4d6dUZc0fDXV7+6SZoaaQdgHwmk7XiVtDt++88mwmHzvdP+iwCSru/hbxpYW87uGCSh3Dl0Nto4auTw+GwTO7EgYRjxGaNySYeITz3lTOffLr+zjvn3//g+gcf7X780cdvvfHa888fP3bq/kcee+BLT689+iDuuQuPP4xRRByV+D6nrG4SgrAQwzz3pijN4YqkGq8sA4sQXW6LCf65l9Td1RgorWuZhaUU33sR08ciBwtXAYHEQBkqzHXR5Mn5+N70V/lUX5191Q5uXO9evvTJdHzXXfXZrfHWJSKRdeYTOW/sXLHt6cH+7MZs/9V+2vXTA1dDZAvM43qyfoxQRw5VVcVYj8drVZSqqqIEd48xxighBOZQbhwSllCBRQKLSCVBhAr2LoyCwA/9/JhZQEQSgi9iQ1qMxcy51fAzjFUJsAIwgNRNF2J/Jb2fPZuZmZoZyJzMLJvBEqnCkhUuYM7ZzFSTWQZlM1VLmn02782gqiVVkVJnmpJabzUsk26wGJO6mOakmhLazvqu13xguH4DvAsXeKhjHWNsRpPxeFyPR1VTSyUcuFkfMSPGOKrquqrqWNUhxrBV1acYmTg7evhMuGWaB5ofa+aO3qCZe6PeKDsncN+mj1XcBH3UuWqnlkGJ41ybzkKb0SbMNXQW51a1Pj7oR9fQdD6aW9WhMopOkUk2xuMmSFPVk7qZ1NW4imuhrkU2R5MaGImMREaRq4iKIIxIiISK0dAgRNiAIiSI3OLsFjc4QIBh0i7t3iF6dQjd+xCiLIvriuHMbgQiMuggY8BE5ARyIoCzawEdCKCh31RZMIajHllRqGBxvoDm5PCzwuHta4twiYAq0KExX+YqhrZLA1C1gKnMwEwBC8tOdBj2HF0eD6FNptuQCXd3/9zCzv9Mxs/N8KuqiBRKkZmZWYzxc7D62Y2IrXMi4ircPLh5ce/DnsQmuT/oLn5waX71idEZkAQHeu9HXP3T1sRXfAAH6M4K9kdN8p0wq3/uoFtv4dX9tx9qEAhaPP6TfANeQofGnoeyLWAgMBMOqUaL0yCGJzARhMEOLlxAZkYV4SqV4P57x/feN1a/+9o23njr8g/+4dobr82v3Lh28eJbr75iTX32yccffO7L57+WmDFnAAAgAElEQVTyDNYm2NrC1qnAEqRadE80BhoJClKQDhpnK9fObwPxPqP5JyKSBZPDXVUzLMSKQAYrAa4wQim8yuXrwXttp7uzbp6ne7Obl1754fP7+9f6rj1Lpzc26lkv1w5ot0tN6EjY25T3D5I70ARu6jA+duLE2l1SwRhGdZTxmEejqlmbNOMqxLqum6qKMTRVXTexCrFpmqqqqqYOgYGhJeCS33D7976t8nv5/Va++Op1u/MsLEmBZXnYiuN46HodasgYlNAbbBG1htK8pxgNc7grkTMDbqqqajlBlXLOfd/3fZ9SV1yErutytq7rUj+81HWp024/TdVztgSA1F2TdUn7RH2y1Huaz2/uzrfd3cyze3JOgAEhG+Us2YRQEQeJFUkMlVQ1V6NqNK5Go7qqZX10XIKFgFAlDl3kVmgu3K4pq89Sms/7ecxdLiI/ElhGxpXGmKvYEs0RpmZT5J08nxHNGVOyzrXzlFkcoWt3u8RtTzu7ZlktK5uzQ5NF4sBSh9jU9ahuRlUdJWyurwtxE2QUwyhKE8OIuSbanIwDccVcSYgsIhwZRPDkxGBQYGHCgmowxMelq2EY6kBoiSWs/N5Lw3mEcuPDVPCKhrIbW8lWlCe8XBUWTgUcxOGQabQycwxOi7QoL5m8hWTqSzrqYchOq88P10DGqlUvRzv6lG59/dax9H3/qxo/N8MvIgCKq1X4PwByzp+VqP9ZR/H4ohAJpmn+4ssv9m134cLDF+Lpary2e2Xn1Rc++vJv3oMAECoauqStOspl0DIQPLq0/qQpZH6HP7h9Sv5UJ2AVmV49Jb5NJHy5/9Y9gNHhWnCEg0sgKfgeCUCwMFDlnQux2+MSYIcDgp6jAmyIRd/c4ORDxFEUeoRhirrC+btw/MTZ5547u30lv/naWy/8oPvhD7qrV9I7b/z4he//6M/5nid+4bGvf71+9pdwz/1YW0eshkp6z2CICMtQ4aOah3z//+cbduAqDpeVQSQhCCGrQ4jBzEyeyU1zyl2fkl6+dP361Ru7uzu721e3r1+e7u62fS/VOOl6VW8gJOzujyqmk5MZtTdj6q0fV3zmxNmzm/du1ieOj46dWNuIgTfWx+O1OtYVV6MFk2JAQpcssIU3d1iZXUj0vsjauvpS/91XFj1bBEa2MuHYEVbXxZ/uLREKLA92wM2dBs+PD8njPNDEACEBRV6huTgcUBAMRZxWlgeWAGbccrvzUUM09NcdvsJwGsW57DWn1PXzWTvd0/n02sUP293tg6uX2p1t6/dFkyAF7yQfELJRzBxnKnOTnkbGo54rk1q5yqDZwXx3T0t3XwOxg4nElZDJs1uv6IhUKTtlSKzqUTOuR6NRjMSEEDjWlcQwEYyYjrEazxJMaSeTK2DQDFO17GHuQVEr0JNnRhsoESdIHsUM6V16kg5o+7iTg1NIO1CK2cVIFHVGdI8GMYNAglBFVEuoA0ehCF4fTwJxDFyH2MRYR4nCkXBsbRKJYuAqoI4xBo6MCtgsSsaDcz/4a3HA0YadYdgesp7htlWIGdkGw184N0tOwGLJWUyG0lRi4TwfduIo4sdg5UNW/6rzerjw+vKTBQQlLFW/lhrMK2dnC0B1KP1frWL7r9DeL8fPzfCnlMwshNB1HYAS6/9LW30A5iYLfOrG3vZ7b70zyZMLm+e+8sWnPvmH7e/96J33X//4F3/1Hq6RZqkZR7dFSLkS6ALI2YgGXHwBlgJlUq+M5cxaXQtXj0NHg7afOm43/AsP+shYTm9b2vuFD22L9zsNlcfusIVrwkvCL8Agd2YYOTEfLtnL72GL2zrwwkTRALKZGcxZBMyoF1Yi1OgM5y+EMyef+MozT1z9Jt55Z/eHP3rpP/zd/uXr2++8/51Pr6Rv/83mAw898uyzp595FnefR+BB498ygYLAAVpafV/JUP6z7+KVm39BXnPmJWpZ5IuZktrBwd72jWs716/tbm/fuL69v3tzPj3I7TwqR0LXzbqUlQTczClOjp9ZG1f3XDhzanPUbMQ8qb731g//7pW/7aSXrktr9X33PPzMY09uYGK5Ww9jAmUDsZQJoAphlLZyQ/51OB1bqMa7m4OI+ZDKDV51JW+pbCBfrIZLfofpna8T8U/AgqQckJfXmG6ZrLfMxeIoYuGzkAFwMjNnDAV+5fIPcDEvDrJEfhdHwnI2lXnmVn6pwThxoDqgnmD9GHL7wIW7kVvkDv0B9nfaKxevXvro4Pql+fZHlGdeklg1I0psmjhe3zp3D9XrNDpmcX2uctDpQZvahJ1Zm1LO865vO+1y6tqUUtJ8MJ8S1DwDlgNNb2IKEHIMHtiIW/dk3oOURbn0IqYeoiFSiGgCB4ZytLiuXEECheix9lhbDEnqHGJP0lHonXuzHpzVMnLPSGTJQu/UQnsPCVV27oe7zOfuXTbuXMjJcXk3sGOR7mFmCIiINGWCDftpCHMDPGgf4MwciIU4gIQ4MGqJgTkw1THWEmOMVeBItF6FQBxCqGNTVVUVYox1IK7rSgiBEYG40qx7dXYEEDEJlmEBaKnWRcOMu0UcaOkE+2oDcKLiADoG38Jv/ayS1DQG5RVcjN2EjoiyfW7V7P+5ORk/N8MfY8w5i8gy0dh1XVVV/6IXiIBAcE/uRkRnTmz9xq/8+n3bD57cOvPw3ffwB/wK19uXt995+8ZDXzpOamQ+qGivHGRYXMOQ+cYt8fdt23eIvFdmKt3297eMW8CGn5wxOLJzlVB4FCZbfIsCyK5odA8YhmP5vQYdg6WaPg0kPEcRIDMCrO0ZYkRKS/gQcI9R3K3vOmIPIRhUswLgasQgrsYYNVjbxKmzm48/+au/9Tvzd9//+OVXXv/u966+/e7OBx/666/v/+3f0umTp5/75bWnnsK5swgMBlLfA1UzXojrwAlOpVkQAAT4rZZpuCCEo/e5uwNeJFcJ5Ia+bXd39q/f3Nnb37+2fX139+bO7o12NtWu1a7r5zNLBwH7G9HXA1FKMeOuU+fPPPaFY3c/2Jw4tbZ5konGccQgiRyb5uyFu5/56tN//fd//fwr39258uPrL1/78bV/+MpjX37u1LMH6NewGSl6gjCIip6eDeuZOwg+ULQYWFxYKp6bEWCqZhZWs2PuJR0PLMmYw0IqPhA3iW/nlCzIesBSKd1RGPhkCoCdFAAt4nUimFpZWEG2sOhlygxOCTlKDggOcmHCrSt0mf2ai5ZmgVsOT0pXJy0Nvy2GNZxowQ5zABEUoQaeIDpqw5o1Z5+85/EW/RQHl3Hzim5fml6/1G5fSgc3eH4p7l6tdy5bGGtzgtdOj9bPndo8U504R6ONuL6p5ppSTqbqVggMBlVV1ZxzSinnPqWSmEhJe7WkmnJOWXvV5Na7W59as14t67zzmTsUZkw+1azEBjcCWB0z57kSg0mYGqERM5iWtf+hCSBysuIVGgNMykCQzDAhDaREIDEhJVajDFEnNc9KSbl3yhDjkBAypDfuzdSQjQ3uBvBQqUEOooETJ4GxgMGJvHgMRKQkKB4Fh8ASiJkDg9xJiAOJFJ42M0EYJsJMznAhr5gCUcUU4A1zJGoYVeAmSMWhCiLEa3UVwZWEKsY6xpoQgQDEJcNxgSiUicwrTRD48JGW8RoGIgOVeZNNyYevs1wHfrZS+M80/pvhH8Ybb7zx7W9/+5VXXmHmb3zjG9/85jfruv4cPjenFKMgkpqCqycffO6BB58TBAUe+MX7Hnvp2Y/eee9HL7x2zy/8Cq/XBwtc0QBV5Aw1ZIM7LMHLhufs2Uo/U0NScUIhNpvBXUt1VUoKFKjU3Mld3QmADQXTtxikwz2rTw+Lr26lZWG5sfoSACKmUha3eLX4wjHG8mdL2hczs1sQKhGDUGAOsmC3cRjAPo6gAF4UKI+agJWrRAuEcKaIwpDagQQAwRdk3gzUAJylquLJ03LiNO59YPTFLz3y9DMPf+1XDj744NOXXn7zRz94//9+ow9x84237nny6bvuu+fEPRfGX/wFnNiqmZATQYx5WWsI+NBQ1QtDTQ/VzUot/m1XuFQrXLl+fX9/f2f7xv7N/dne/t7ewY2bu3vTg2vXr7fz/VHQC6c27j4+Ho0TjdXdKYzag521Olw4/8CZ8w9Nzt5b3/VAtXU2IxgQEUwhEh2Y93pm7a6ttWPrv7X10KOPfOelv3vhjRdefuN77198860HX332gV9+4OQjJ+hsjIFzyVUmaA+OQyUhgdwcXEzoYfW2Q9y40PYWLJnh1y/spiHUWsGAFt8XYEDdAaMFjXMYNBAmSxu/hR13iPOtDukAIPEA8vutQheEBWVr+a8AGl6Q3qIRZV70A0zdHe6LGkW4k7sziZlBh3UZCwyJjGixWJtld4c5w2DuQ0FGQZLBQSJ5pdGma2l6EjOqUwhpzKkNbDb1BHSY5nDNJqg2c7WZZLzvfNWI2UFU0AtyIyBECazu2TwbqbNy9GAu2epspqoOdXfXnHNWS8xslBXJWF3NLKtqQt5ELqpZ7m6F+ebqUB08HQc7sRc6JpHnPSPKICMyFhCpszq7smWGCmXmRJRBSpRBiUiJHaLE5pJIjEIi6REUolwpBSNWEoMbsYYIDF2LdfjtydnVSreiogDlpgpASXriDM1mZn2pIL19gVo+OsGoEDuIYQEcGMIUnCJBGBWTEEViEQrEwqiFI7FwDCJBqtK9SZjrumanojjNIJbCFdTKNcCKdxKIS3Epk4cgQh6YQghVKXghMIdJtSZMkalacB14qHDB8vEWfswtT1d3rt5Bt+8BQEWMYeGCHy1r/HmOz8PwF65+zkNBsIi8+uqrf/zHf/z666+Xcr4XXnjhvffe+4M/+IPRaFT2FMy/OGKlvn+pWCQiqloO+zOkBkQiwAY3jm3Cxzvtx/vdlEbqlW77bH39hiFc6v/9337U371xNbddClmpVwPl2fxm188iSztPyGN3djW1Pts8e5/dzLlP7A4zqCZVHxjOlnMuWqdcXIFi+H3A2xf3yWLgaB32cucy5bk6yp7CSr3NITAu3XgWY/gz9mL4lwSL4qYLPAgJaHgqMbAM8GAMg5NfxRhDjJEDRcJYuGIKVQwhDOTxghkyiCiwCDkziSAEiIAJtaAWBEIAIqEOqInrUMeHH6b771/v2kcvXbrwztufvPnO9JOLu6++ffHf/tsPNd33yEMPP/Xk1hOP4uGHcO4cTp9l4iSDtwGzSMoIZf10UYKCWN3ZqyWVV3OezWaztpvNDrZvXr1+88a16zuffnJ1+8rVbjYltbXReO3YVhOrp7/05Mn1eLpJ6/naePpRPLhs/dXd+Uw3z1QP3711/sGT932BLzyKsNljMgXIPYDcTEBu2RBiJQDqfvLY6JF7v3DhsdMP/eO9z//4wxffvfz+C6+/8v3H3/i1Z37zsdNP3rd579lwcgRQz+CmMCwAwBVmFAjwVlOQeijZIjZiOBgMMhsQqRICg5cEPF/UUS/ciGWqh4ZSusPcfEnEo6RfrbA6HWZIOmy7Q49uGMEc2QdfWIvIOnmGmWl2G9j+pimrKjMXNSHVVO5xLYiFkjsV01jucQAOLcvFIC1ZrIszgJytCAUOqgWaiwPhi1aQZqVmcMi5sUOYK+JIo4rvY7lPSuWceSmZz63muR1cn7f+XjZ3iBDXIhUTmXp2pkBxpFy5VJAKUZiJWJkhRO6oJIoEoujuDCImEnJ3iHlE6YBMC0/KvF/i2cWrKRdpuOs9q1m5dO6u5sldB1qHuivc1Esf5CKe7Equ7pkczsam0AX7loxAkELKBxtgTpmISIITCZESVNiGLs5UWJhOUEJBHbw8ggeqP4XWXSm4qxMUqmQGOOcMN6iRZ9KSWAEhi3QsmQsFz718ASdlgGX4Co5UqmbdlXgON4rucCdzUSM3MTBRcPBwxUqa0QmwiIJFuBAYzgImZfcqDoY/SqhjCCFECcxx1GzEMGpiVcVYhVgHGcUqBq5FCFnMGM7khMwOeA5QgrGXO8vhKm7kFonJXdyECChdqZ2dpdyQ7AQQubgFQ3CKhs3x2oljJwrNJWeTwKqfWR/uP9X4PCR7l8o85a6+du3an//5n//pn/7pn/3Zn/3+7//+J5988od/+Id/9Vd/9fzzzz/77LOF7ufuKaWqqrDg/5dDdV331FNPPffcc9/61rfwM5EBi65lWd+u3Mj/27//+7/53ss3k0wt0oHe780Da5snRpP3b1z60fTqdCLZmSSYAoKqcQkmcFggHcFjoEBsCD2Jg8nAw01DtPDZD01yOYFVzKfY5qUCVpFKZYczLTWxltvLV8ujwle3yXx1f3lcfsRCopWL87GKOhRHxCyX7SXpcrng3la3XeKqsha7EJnn8lIghBDqqgohjKrIzFWIMca6GoYIr42rWriJcVTHUajqKtS1hCijUawrGQlvBDm7sXGirrubO90HH3/6ne/sv/3W/tVPfX7QHux6oPueePS+Z7504Zd/GceO4fgJrK1rrEgGtoTpwEWEt4HAkNR522ao3by5feXKlcvXrl66cvnylSt70z1121g/XsU4rpsooYpy+uTxe+4+d25r7eSY40ix+9HeS3//6Zs/4n5nc1x5s3ny8V8JD30JZx8Cjc0nKYydGwzq+UaeAYDYETIgVtZbaOgSp5u49sKlH/8/r//DG5+88+n1q7M2P3Dm4V//pf/+6bufvH/jwik+FiGEkHNmcmYqkRYzg4I6nAbW1CoBzheB/MCxOExorqRMfcW0D/G3Q214dIejn849qybLfZ+6nLpe+2RZc5tczbPmrLlPlsyyuiL3vat5dk3ZFgyRYmOKc7+c/GUj57zEjYeboqShbcglLYjcDphDKwlUWkUv/V2HE7swmBgkxEIkxICBKVu57Uo1oxCVd5ODrASKYIU4sdJwTBEXduHknk27lFtPrVhGe+Ddfujb2nNFVkmg2FA1TtzkUFuojMXgZjk5nGuHuDvBS+DsalCTQkwhU7iq9iUpoErm7uUOci2qBuXJwqdf8QbM4G5SUA13X6ZFDxWayiUbLL0YGdHQXhkAyAdZ5RIT85Br8QFpcCdjiUalI7E6scG1ROrF+lHhdg7YpEGUqzIPjUwJTq5sYDcyY3cmk1K558ycReYEFQaJMzmxMYFEiUxECUZsYBMq1QSZueeQWeCcQeZsCKBowl2fldiZnMnZwV48mxIEEhHgDCNa0Eo04zaGv4G7HkUawd2R4e5MTg7LCTCCCSkXzMqV3SIrLUr/C4uCCQyDqfjAay0/ddEai8Y09CQjZhJGo94YnaxHD5+78GvPfmWdI7mRo7jCn7WM0P9LkewthrwY73KK77777l/+5V/+3u/93u/+7u9WVXXu3Lk/+qM/evHFF7/1rW+dP3/+woUL5Y+rqur7PoSwfGPXdXVdj0YjM2vbtm3bY8eOfdbzIYICqVQqx5A953a/4tFkbezE6y6xpt7T+bPn237rcrt97HiUyplqJ4wnsarYtK+qug5rgiAUSEBh6HnG5GtVI8Aykl4ufE3TALdG3kweCcUjL6HCgLjSoDTFRGV/eVzmrIZu9+7L5MHqnpX9lJwdtDTwixSDtW2/NPmqrprMoO7TLhuGAstlWObufd+XHvAlzZlSUtVktN/mDBn8ALKyvBBRGmRbWmq7xReCwkERPujCAjCwkieGwj2wG3nqOVvDYcIyYTpenxrfNdo6/cjx6e7mlYvrN68cvPnx+2+/+8K3/pe1e+9ee/KLzaNf8Lsf1eMXrD6VYlVtYtJgq8GE667d37565aP3Pv3kk8sff/hRn5NZoiDZKTkmG+cmk8npzfW7zp+65/57Tp05PVrfrIDge9j/CJ98P//jf7z67mvzrre4RacfW/+FZ8ZPPgc5h3gCFIHIxLUBCiPl4KWlERbLTcCiXkpAFAh+HGe/fu7Xv3Dui29dfv3/+N63X/rk1Yvtq//rd9/59vc2f+nRr/2rL33jsbXHatSjUDtMPQuchbzPBBNpbqnbcyq0xCBLOH3V3pcUyxyY9Zj2mM5tljT5wZ5aQura1HXdvE1d76k3y0ILbBtWWFPFHrjEoWhq+NASzrhLZQFeKbgWIgiLEJFDMgcKy7TxwgmIMQ53hAALqAkSEGJJGYuUvyw5C3d3ZjCHwYdgBjGYLZATZEkfLxvEaOKCLnjoFrmDAoygDGNYIUs44GCGE3pHSvAE61G1kG6+98HL2J11N/Z870rXbse8J9oj+WzXW48zb+bezFG3yq1S57xvkhTWJUst50RqopnU1RJgVBgPJZ4uxs/Yh2r04vqQE9TJhm6Q8EJGIbiD1cccg7piqb0IgI3AzvAFtnckpUW+DPeJS37bgWRaYlIqdJKyzMA4gWFWKntYyg/tCx/OBqBomRbyJZQysJYGeSGEEGxYYNnpcKEbBS68YuchIvKhfjb6oDZQ/JkyexBjbQR46XDFLgRhYwp1pWzOBDYTdzIiN3aObKWpePFXQAZSAnhIdhhIHeakcIdahBHMzJyyQQElNmKXaEJORFL0TOBkgBc6Z7mx+nKFCQonYWDAQlbvS8lwQiecGcogt1p9LeVw7cZlv/ZFigLU8JoUnphKCcXPIeH+eRj+pZ0rQfynn3763nvv/cmf/MlkMgHQNM36+vrTTz/92muvtW0LoG3buq5DCCXixwIzqOtaVbuu67qulDX/TCcEBshhhI11/MZ/90sPPfYIVevO1Zjreydx+4PZ3/zrv2735r/za7/xzNePe4TJUHTkBGKoYtQABi4kIx9EKUtjrqhYhNqHj6tjWKkAlEJYGxzGw7cMp3m4vTwG/WQi4S17hhp4AAT1YY/74UtER/5y+HtCvwggVvevPjU7fFTABMmRM7IhJXQd2rZLKRlYLaVeu9SmpH3f9n1O2XanXZ8ttX3XpVnbz/t0kPrWbL/vZ32a9b1l82S7aR6J60o+mHdrgU44b2ac5ObuyZaa1zuXj1Wj6eXr1/b+ce/ld65tnL4xObXfnJhVI2+8qvKJ4MeiRWTLmhBMRgfWWJhwIImhHo+2No9vbJwdN6MzJ9fXGpkHuX7QHfdrbHuzj16YvveD/pOXZjev9h437/vFB576jebBp7F2qsdaRuUAKYTKVpkY0i2CaixNjw0myQBAaODHNycx3jx79u5vPvbS9Reff/35f3zpux/tfTqdf+flN18/v37hN5/59S/c/8RJPk7kI4QKgUKEEtKiScLhbAkwIAEtcDDPB9PZwWw+bdtp23Xp4GDqaugMWTmB1ESdNGSvTNktF5cOg+KehhA4cqxDbOpYSawqqYRjRc0IEihIjFEiS4wcmQShqkjAMUhkiXJIsgqLmrDlrF2tF1jiFavbKzGPLeatCKzcXDRowLgjE6z0jcrQHn2PlLTXrJ5vbu8kR8rWJcvZ+uQpZcu5725mbdusXer7Pvd9761qyu1sZmZ9zq4Kc3GjjNDvbuFm3W2H7kaV98a21/hMkAgGqXqPc4zmVqlXPSpDUJI2U6l9FTdKHWkuxHgwm5MjZo/ZxaxyIbegzqWuiIiYQnF6jBAkLvES4iDMzCG6xy5FJxImSLHEQ3in5dISObgY1eG+PoIvDveuu1RLTPmQ/CGO6C4+WPrFvKLyniUHZFkmSigFCwU2WPy9lwrb5UrBvpA5Z3gYCKd+i76J5tlqSVSZKOxLjg5K0yFluLgx9Z6UDQzl7GRG5gRlTaTK5gQDO0GJlViJzMlYTMRZnNjBRuxkHop/ABJhiRoCJBizBTYhYzIpaIcVd424XF14qSQgcocSw8nATmwAVtwsEBlxRZQZmZxNK7IJ2WjM1u0LGYGJfCDHEN2GSnxO43PyNYhoyUK6ceMGMx87dqxpmoLVTyaThx566OWXX97Z2em6bjKZLOHlf/fv/t1f/MVfvPXWWyW1v7Gx8c4773zjG99w967rRqPRZzuPBXFpxOg9Ofix88cePn/MFyjxGuG+jfH1dx9+6Qdv9B98ePyZ48fuQ2uD4beV8taSxVlFWMuIn02ID3dEetzv4DHckpP5KejO4lVbbv8zTssHtb5/4nh32O8YygKHgjHUQO1LUiRgCjVkhao5sSosqSvMoIZOLbn3gLH0Sdu2Zafg1M/m+wc7yaZd1+VE1pvNEs8PdLaHg535lUv9pY/7K1fy9qyeX1nbnKWtXZZJO02hCwbeM+ScDrLucrXPk1nYmkPMydmaqh1t74VITJVrFzzVeXYG156aXH3q2M4F/ajfu3ojja41j76FC59ePyWv1Kf2UlXvz+fX6xDX19YCk+VcQ8ajUc0hCkcJIXIVEAUiCIIYQRVUAGACVINeAhkqR3UMD3/95MO/+qv/04fPvP3Kxz98/rXnX/zox9fD1Q++/8bd79/10ImHnzj/xS+c/uJJnAjgimX4baY99ue2M2t352m/93nWvbmn3Kn1psk8madsSa3vMxEF4lBXcdRUo6Zqaqq4now4UKirOKrjqJEmcCW+EJEXGQQcDvUEwkoMveKBDgpCNPzEgwNUsAaCA7nwAQzJkB19hhq6hNQjKfqMpFDVbFA3Ve2Tdjn1STt1NRy0XVJ0Wdte+6x9tpwNarntYO6Wi4SxWjbL6tksO8xyUtXCaIcarBebifVRM2sftWdtWTvRHMyCqSQjBcyJJAOd9pf7nZpzZCVXVzKvgMoIszaFGGJTNbGqOUT2ivMa5/ubGN1D5DpGCREoBMSK45qFDZfNRBvJJ3Or2hSSYdplA9NC1oMGf9phtoyShQbOucAmIw5wJxqEF4VFKDDXMRAsAAKX0tDJMdAuXOEKNdIMVdJM2nvXk2ZPPXKnKcMUmhlmOfECQPaBfQlgENLBEb6egyx5ayXVMCCPXp42IgvTbkt9PTaIG8NLWGwEMDnBiQJBCU6m8MJzMrA7IRFDwKTuyshwF1eCsilDqSThS6BFWayjnMQKWuC0eAkFFsECExpI/ARUJAMgSuRMEHYmJ+PILm5kzqWay5jJRTqTwiJwKtmrUhhhszwAACAASURBVLTCpZ3CErYBE4GV2EJtXGQzPYACEJyDsc70zPEz52234rGZgKojsd3nPv7FDX9J2Jd5XAhlJazf2NjwhVAiM7dte3Bw0DRNXdeF+1Ne2traevTRRyeTSZH5izG+/vrrKaUlivCzDDOQVUTZMhEJWA1wBIJlxBq/+OXHr3546dNXX3/z3NbXzt43ElV1CaHkQ2OFlLsQSv6L4RFUDUnIBQn4Tp95pNJ+xb++w08weBN32Lmy13+q8QcAPvq5t58AFvc2ACc0i6t6i5+heofjkEOEARsQACq3mZQ7udycBHIBBBZRwhIG4CILX9chSui9NOIWoHIHGwKvMZ1yYJpxkNAzLABA2kV/5dr8zbfa997af/+97mBnHjBqKIykj92ZjQ1v+2rmG5P1M+fONqfPXOHq/ZbfP+DrmbrUu2dL8/ksHRwcQBG5q9LNTd/ZsEuy8+78xs3rNN0+6N+3cy/N9l/KN7djM33r7c4/GFXN+tooktbCxB5YxvW4ClGMmSgQRwmxkigcBSEiVoQqdCR1M26MfN5WLGvjCXFIKREJM9bWGzR85eB4Nz0vfvNgZ2c6v379zSsf0IdX77qyf8/u+ebcJI03aRQVlDS1SeeW5pammlrXpMHg7olcWSwEDcEqzgDWghdGVYDHyJUgBheP6InBrqyZu85M0LMxcQxGcPe8yC+XWdFZSQlZKWZbpH5KSsCWKaEFEM3mrOp9ztnUDMk0Zcvq2T2r5mxJCzV+OFrXdcXeZFNVTVrKY6jvcy5tALQQDc0UblYTBbgQR6HAzGKBQWQxQKAwJe3FTNyCE5Mi98H7KmexFHLH3ov3jBRU2T0kg3kIsa7HYTRiqdfWz9R1PW7quqmquq7Ho3q8FqrxZG2zUM3FDfN5nh/k+VS6Ge3u9tOD+XyqbiBSYnVxDvME6IRoXWRNeBKoGhGb0bp37KXFDUeRwFLYDnUIDGIYOaxc6j4hd95PSXNKqevmOfduasyZkSmXKJRoUHByN8Cy9iXCJldXJc1umS2TK1syzaadZ4UrmYIcUmB1JnamUAoKiEii4CiPGDBnIMCo8AQP+w0bmWohFZa2Qr7kDxUFI4Wblbh8qL9VNSNXgtPKYugIIyrCA4WjZHCjwSWwxRqFReKJCFXFkZbyV3CyEniHIEunZDg+EzmzLloEFU8hw5nArr0SuTOczF2JnZlIZJbYaYBbADbwICrB4mB3KiWRhbRoIENQCm5KDjNK5Vxd6mrtxInzValCNirlq+440uLgcxyfR8RfyAhEA5FwNBqpatu2ZX/xA5h5fX29iPnM5/NlRvyrX/3qV7/61SXzJaX0ox/9aHt7uxz2M/MaCCAYmJ1ALswKcgwl4gRQBBynLow2Tmxcemt7+9LVGx+fPf5gwwyQMbMqyBEQGLqwzwYvheDF1InedkbuYDlC3yxWlW8D3lffMpzy6kt0q/U/+sqt7wUA4Ttaflsp91oI7ZVc7iIWOXroID/BzUo9mMELVeDDdyyygjhUkSupsUVMUTRcBxb3KMZ5mmfVGGNgwI2dhSQn3Yh1HTAD9vbnad73128cXL12Y//TfZ5f3cA0BhnV462Nrbpq+i6/+zZ9enU0yxdO3/VEpK2tDdxzeu/E2fmZu28Abd933X6eHfQza3XC1s+2X0yfvHNy79VTem2tn68fO9sfe2Qvb85v8LqufcHqJOseNqYZe12ep+xQM3WHg/am/f5sN6vXo6ZLWd1M0WvvqqrZNCU3BJ51mawZhREnTvMZm4Y6uGBqqSOEmoPoifW188d/85zvn7XtE2ITrep3+MarH7hfOSEbM643Rptq1IJnJHOppxzmFA4o7KPtydQtZe36vgMSUSLq3RNRdkvIPtA53cnnaVqonQOzLHt2cy/LlheidRH7Myd3TTpzVxgtg0IvC2rOw4bZYg6XJdkHvUPm0jggMACrqsBEgTmEEGOshhoQVJECswjXCAHOpmRJVKu1SJqgJm5k6qaWVS05OsArJ4EHeDAVN7Gcpy17Ik2eeuvnUA1wkRhDUz5RYiCpJU5CJSEEZwoxch1iXY3WJpubm+vr6009WV87GaSpQwwidWiaZhTDhLjmCO0wn2K638/29tX3U787x6zHwYEf7KSDWadJNYNEYoyy1tRsvfQ95TnrJc5t0D7mdDxpMIV5YAosMXDNiyI3OLmRZsuacm8pI3d5foCcc9u33ayft6oJgIlTFVSQIzSyBu8ZJpRBLNXQuYddGRqRyZSNAilbFsswIxhbMf5zNxMHCTMoGAciERKWyEYoKtWQom8lYMpwL6q9vFAnJzLyxeRBMfxmquaZck99pgVV0dy91NxaCKNCBmJmBhWVAPE+0AGjDyDA2Y0dAS5wVhf3ACaHGLNjIAXknmCyKJso/DsCStWflIbRFEUkhuAUPE4o1FL8cwkiMUjDLLHsFAGH4aw4BOI61gCbk4IyoC4ZnEGdIoMV1Btl8+xQJ3eyZOqcHNmpN0/Onsmd1urJI48/YXwcDl70KTgqmv25js+PVlDMtohsbm4y8+XLlwutsWmay5cvX7x48fTp05PJRFWrqlpyAgqzzxc1fmZWdppZXdeflc1Y8GdiQB3ZKQgB2axQ6syyMxs4ruHRJx9tL3fvvvvu8ZfHv3zvFxAB7RErtSxSsQhQDQXqA4Y0VELrnX7JO9h1AA4lyE/o6fNPfLOf+qVX1Xt0wfsmOFYkepkOtzEw4rk4RYANLcDLo2GQWKGj+50BQ1yZQoVHsLwgdIgQDw7aollAIRgtmXBCMMujGBGDAQxDYDNt5x17vHrl0uUbVy9eufThh+9f+fRSOphRtrXRWJqK1kfN2eOnz5y5cPddm6NJMzu4UcU9o+l7H199561PX/hBJj73xScf+NrX7vnVr585exZb61hfg9cQghPmV6/3F6/Ym9S+ty5eHztz6he+hi998/za/U/zaAbkjOkc8xbzjKmiNewe7DvQtn3XJQdlw7xr26y9a8p5nkusC8257/ucc9f3Zt73rIlFpaZImlPqM2lo6mnfIxnPU5P8/GzzBNq7m+mJaBtr43o9hGw1hD237WyPdw487Vi+6XbT6Gb2XaWp80xNiQE29WysREqkLD1JXiCiRIJiul2XcicCYQSpEEp7o1IxSxhSxkxq7rDAx0o505KsV9hZS4a5UBi2HIAFUGSKpcRNJARUgYVdyIMggoURCMwchIQhQCnpJjc2Q+qtn3NO2s88sc5z6rqunc8O9rvpQdvPO22JPBJHQuUcCUwkKH2OSKJL5TIOMdRNFZs4Wts4WY/WRusbo83NemNjsnFssr4ZR+PNrS1qRmhGWDZ8skFlInWY7eWdnZ1rl/d2bm7v7Ozv781vbO93834+bT1bLTKKdRGiqcjYEWS0WYuqk9K4iuujqpYsRkF78l7zfupupHbX+znaee67ruu61GpOBidyIwNlJ1+2LcYiXwxPLCQVozKsA0wchAKFcWMBXgfUUepQR6EgTmIcnRe/IEHZMyOTJlJnI3IiV9PkKbslp7lbJrehZrAt7E4wreb4yx4M6fxBU9eHCtGBCVoQvsWCbE4AubKjhlOCUxggciKHEFWhF0iZP4saYCIyAYGZHDBjkLiLcySuSAI4IgiFiqKQBAoMqoXLAYmIy//OAoIzo9j2qoqxik2MkaVGM5FQV1UjsQ6hiaGKYRRCFUODWKNqIHHxTwCC2sBeIQERKAACZiBgRVZgseozLJTkQgb3K71O3FAV2Qst6VF1V6ZlRu3zHp8rn7AY9XPnzj300EPf+c53fuu3fmtra8vMrly58oMf/OC3f/u3i0+ARYC42rMnhODudV3bIhm2TAd8pjHYlWKFDEJwHtRRCn6Z3QPJF54+ffG1rTfffePd964+fQPjE0AVAOMwBPSMAARCxgJ9KuMznNAhVctWTfJ/wkeCLfph+QIN+3/Ze7MfyZLrfOw7EXG33LOysvbqfZmefTgkh5QoSpRIy/bPki1DMPwgQP+JngUIetSbBViAH+QXAwZkW/xJ/GkjORzO0rP2LN09vdVelVWV690i4vgh7s3K6pkmZywOKXP6oHE7K/PmzbtExNm+852fvS0vgma2Aqeo/E5vrcnFCTpRsHWgAiIuS8yslVNGP0JeThFrwQay4A4RQggGNBhAbEyv19u8/2BvZ3/z3s7xYT9O+p4vmLI8S4J62Gy2zp49v9BdOr9+rtvthoEPZ0eRxVdegNb69eu3/uXHG6+/O7q/mX7w4Ucf3vjob//XhStXl57/xsKLL+KpixDHuPH3u2//U9q7UzGM+pnFp3/bf+7baK+BKxAqAnzAKtSqsPWih7q2sKI+vVNTbnBnzTi4M89sp+ygRTzJGZ4G0sKMER9isDMcbR+O946zfuJrL/BbRhxpTnlCUJ6s+kOVbMX7982dB+n9gTcY+XHmMYJqrdFZWjp3sX1p3j9bE01PeMIyZyiRE0wycIgnCBIki2WV2QpbMDYxnEsk2ZYQekFEBu5vEkpIqTz4SkhPuEYJJIQrZYGnQARFUB6UgJRFm6aICg5FqSAYxmI8zOLJYDTox5PBpD8cjwZpPB4PR6P+IJ6Mk+G4Px6nk7GL3rF1dBfQOnONBQFXuc4CtgIE1lTCaq1Wq1RqlaharzfrzUZQrdXrdT/ya41qvV6r12pBGCDwIDxQAJYgB69UBemQdosxeIzREfoHw8H+oL93PBhMdo+TUZzG8YRLVJob154gYajhi6ii5ir+fKPergV1HxVfyzxGkiEZ28EoPeiNN3bT/uHgYA+sNedWGAh2kLRU8UjkWrH1SAfIhOsogMxjDlTmIZOsPWEkjCRWIpc6VaQVSAooaSWxcPVnljkHQJxLmgiGBCkmEKdGW7JyhsmDGOy6Srq0PbnigGLWM2km6xxuVQwJJoYvpSThC+lJpQQc7EAZUZOhsoKIpePJAQmyktlVtyvAVcGBjSQIC6VJwApSLKig+XA8g9YCFlZYylGaGBYqtw2WHsoiIBdmh1BBGEkVSq/i+RUlA+VXPC+QKlBBlbzA933lB8oLPBVKP5DKp6gOISEDSIVCvzIszQQmZ6cmis6BJ+t3+ULPZlcLSoyyzak4NduLb0mUHSVEuagKWCFEUVYypT4vkry/vuC+qXp2Ly5cuPDHf/zHf/mXf/nMM8/86Z/+6d7e3l/8xV/s7u7+wR/8wfLy8hfKK2CnqGGHRmMxbYpbFMo4BCuDfFy4unL7Tvf4aPSTH334u//9VUBpk0gZFkXLJ+r/JIt+Uk79GaV0NuiL2Za/8Dnk8959Udb9o4TRnAxlZmutkNJFHqwxrrDK1WErIukVv8cGh4eHx/3hzs7Ozt7ufu9wNBrFcay1HY8yY0w1lPNznTNnV5ZXF+eXlhqtppKhr4KwPDiYiQApELSgtHrxm09ceuaJP+zj5kdbP/znjfffunfznXR0vHP7nvePf1/r1Nst3Qx3q3LYCaW68gKe+F2sPofmGahKbixYkNFSSkGO+raoBAkITmkwl51oyrvsrEYDw2AFH07N5+VtmlbcJUi3J73Ng+QotqOxGQ68yaSRGrDyw7pXCZprK5VOPZibRzWAj8zLB/7o0D987+Dt9/feeevu29v798bplt9/sJvfu7f3XoMWO9WlpU53dWn1/Pmzy7XlKiLHq+hOTQPGODQ4qORRZ4DtCXqPGVYzyDrSRuGd9C71GMSwPNM7gAFrICRMjjROhnE8nsTj8fF4mCdpOhikcTIc9oejQRzHSTLJssTYvKDsyXNjcuTsqkKNMVYbnWZ5njOz8oNqtdpoNKJqpTXXVoEfRlFUq9Qa9VqjXm3Uo7BSr7Wl9JTyhBCAhJCQiqUESfJ8eD7ohKvoRMcTkOC4bw6OekfHg3iSH+wdjI7Gw/4YOQsNmxrOtICM81SzDqXXbjXmW+1mFEaeChQ4m+hknAyP4sFB0js+3hgdJjHrsS+14FToXNpcmFRkCecx6yT1EhasBayQWlEuiIVMPEorKlWwgowkLZB7yJRIFWcSqUSqkEukgg3BgDMpE6m0J0gKkmApWLgqepA1kiHBAYTH7EMoJoKJwlCAidil72WxtaFS0hZhc6ezJQjEnoKrUxeAACk3jZgD4Ulm4sKxFbDEQrJAwhKSrBVELg7vMIZwORd2XN4abIkhLXwWCoKkUMqXnpLCI+UBMqhGQiqlfOWHfhAh8KEUZAVeB7IC34PvQSn4HvwAygMLKA/Sc5W0IKfUPbCA9F1DbbCAkBDKnS+KSuuy7g4gyYJtweUynbwsmDAlnZ4yXxQjqGAcBUok5uwLACcUmQzHkOoOK2EF7JQ91Dn/tggOiF85hd8vQ/FPA/KOHGZ1dfVP/uRPPvzww7/6q7/667/+a0fA92d/9mff+c53HF3/F3cmAiAYicLYBDGsFNIBLBw3qZVOr0t16anle/fO/uRHH7z31odf/80rtUUyuZXSAg/R95+EHUr3/XOIa3jvqmh/4dviVItL/wxbciVUnz2uAFe9WKBnAMvWaGOt9ZQCQM6OJhcek4IgCRYW4CxLBoeDg729w4PeeDye9IfD4Xh/v7e/vx9Pkkql0l1casy3F762Xm82u+1Wq1arVaNaJVQqAGbaJLj7LQgknT8NqxDUMF9DdwlXz608e2Xu/u0nD7a33317+9VXJ7feoLcmsurpTpPqldbFM4tPPYeFZxC1YS10DhkYgpaCCArwAdiMTWKEkVJSTkBAohylZX8jIZkA5TwCbVgLKAIAA8TA3mCw25vsjfPjND5KklHcPzr2Q1Wbq9aXOtFC3W/Xg1bdqwci0lTz4QVuMPnCa4t2Hc3l+toLZ1/8nSubvcn+3mj/9tadm3du3t+6+0b/p1G92pnrzu9223c787V2pzrX9prrc8udqLPQ6DbRklK56IMEBdP+fAJ8wnPOUjIVwVsDC2hj4iRPk3E8Sibj8XicTuI0S5JJnExGaZzEw5HVRmdJmqZpnMTxOI2TLE+zeJLrdJIkkyTOskwTKy+Qvlep1v0gDKu1aqVenatXq7Vqpe6HQaVZjyqVarUaBIGvCqonpZRUJJVSgS89ITyllCLPgxeCfWYi12uoHNzkbJgysJWOMTzC8VGajLJ4MEnHyaQ/moyTOMvTTI+yJNZJliVJPPJY16p+tapUCCuNL+OqPrTjYz0aiyOreyIHQgsJllnu6VRMxjzpZ+OhjkdJlqbGxpmxShllEmVS3yQh6whpE1SPTKhEGMooUmHVC0Plh9JTXhgIKT3PC/ygGvjKC6QXCKVYChJKeO4dTyglpUckIz8iSElCEEtHes+WCjCEYavZGta5NTmMJc4pGQibw2o2BmyENcIayRZaC9bCGskMawQA62h8SuakcqF2XXHZAI7KASAiQSyEskIqv26FJLj+P8px8hOREEoIJYUSSrpkuZRSkPL8sFCHQkFJCAWhAEe1L0ES0oOQReiPPPhtkELR+3dapOgQ2QRRQgqdJTtV84Aj7XJYwTJOiRLHx1SU16D41ok2h7vkaXniKSiWQAbWU/OeRLFW0kkVKk0pq6dKgUGwssxjggASpkw0u0nnfrH8FL98+eK74ZWEuw4x4ch5rl279ud//ud/+7d/e+vWLSnl9773vT/6oz9yXD3TL37e/P1nlvKRFeHXUlETAV6ZtrfWsmzRmavr11+/rZP0xpsfff13rvqqQi5JI0+hMWc97CLv9ZkVJ/0sPfzv3Zan9Hm+53CwRVDj52/dFxlgtkxCkhAeAMml6WFyy8xKSdZ2nIx7RwejyXg4HI4Gw8Neb2tra297ZzQYCkar0V5cWPjK88812612uzM3Nxc160ErqrYaPlzb5iJiB4CzHIIgBIlpZ6DyXwYE0B7y3AY+xKXV8FwNo+XLYa+Z3MoaY9NLRgOzfSQOtieNwcH88KdzN3r19fXW+Yvq/EWv3fWkhK8gXDsGIwSR5xVriVSw0kWMrLthssgBwjBrLoKgFjiE7k30YDjqHfV2e6Nef9QbIrOteru72D13dV3VgqjbpKU62gqhY/KwLrurbWw0hFASnoveh16wKFYW2ou6nceY7JzfuX/h7vZwe8fsbg92Dw56u/s7N967Pjga1KPa8tziWntpvtZem1tZqHeqQb3qR41qoxm051U7EqGnFBGxNnGWJ/E4T9JkEussS+MkTWIdp0mSZHGSZ8nx0X6eTsbj8WQ0Ho1G4/E4HsVpmupMK6UCzw/DsBpFlUoliqJKELU7rSAKw0oliELlh17gqyjw/CCq1r0wCsOqF0S+HwZ+FEUVFQYIZFgJSLkgPBfj0BWJiOKWM5yxKBjSEglACkkMZMgnHA/H8SQfjOIkNfFEpxmylAej5PhoOBz2h6PjNB7ncapAkR8pQQxjTRYK0/CMx6lMMpFlnjQstbBjlfZ40hfDSTYa7wzGm8MRxrHSBpaVJ4Kw4lUjv16trTXnG3UZVb1Gh4MIkdIVmVdlVlVpXWWRyCueCXwRhvA9qXzh+Z4KPCkrSilRqkahfOlLGQhSoQwFlEIgoQSUa0AjAQEhQQ6JLovMnfNZSweVChw9rIXNoGOYDFqDNXIDqx3YDgDYuCo+WFM2TSgbdGIWj+MsdQlXwufmlwPwCgHyiqZSToULBZIQAsKD9MvzlQWKByi1chkhd++wQBEaFCfNmdwOtuinAwAwRVaCnafskIYAyi2R65JaKgtx8toyikjkDLD/U3XKNI716SKmKuIhcSt4UdU9G2J1Kv+0aneYood//leh8otf/kJD6ygVv8vHu8Q8gCkZ3ywd78+F6Lsdnnzyya9+9at/8zd/M6X0/+ziOsQQ4Dv1TGCIvByWgiEJli1IGAMJjPbww7979f13Pmwu1P7H//m/65xVENBspRKnTpQx0xIGnwKC+xnbzxkh+JwiHrJtP5PQ5zglbY2jIikmQskG6EkfgNY6T9M8T8fj8e7u7v7+/sbWzs7e7u7ubp6nlVq11WrV69VKFNWrtbm5ubW1tcXFxXqzIZVzqR1fC6yB1taDIqUAgs7gC9ff1QIMyRACkM6oFhZUQGjAGewx7l/H9k+Td348eLBZCedV9erYdrd6ON46Frvbw82Nwf6hH4aLZ8+ff+7ZpRdfxMUzaDew0EajAaUsEZMQFmwMSwWi2RKHIs1nrYCABoZAHxjycOuwd/f+4cZ9zjMOg2q7Hs3Vg1ZU79Zr3QaWWqe4bhjMiXWNw4QvQLMLhyOxcWwIbsAIsIQ00CPE29n25t7W3tHeXn9v73i/nw4s5YPRIB4Nk37fjJOqUXNhdbkxv1BZWK6s10TdV54CIcvzOEkGo2QS7+/s5lkymUzGk0mWZSxI+Z7nySAKPc8Lw1D5oed5XhD6XiC9SCjP84MwrIRBxY/CSqVWq9VUGET1ql+JKvVaGEUIFAQVw2nqijmuK8sQCqRBuWOQNbBgIckDYJgNs2GbaJ0bnRmdmzzThjWr3Pd0oIziBNmxGewPj3ZHo/5k/+B4mEyOR8PExKxYhsQSmRejmRkvIWE9ZpnGIp4EcVw1OognFW1EEmM4oslYpplKc5nmlMaeJ/1KXdaqqlqT1aps1ESlknvShgHVKrJeCxrNSqsVtVp+rdJaXETg+37oBb5QPpQEKYdWsSAGOa1rCjo4UkXXlsLOLl1HUY4DMbWkrQUjl6QJWjhWY8sAhCkhNsL5zTTT+pPBWYGxnSJtXUTu1NJaPhGeAnunc3+qpHnmnZmVrQQellpr6m27hLeLnBbty4BpZE7MpFRFWcpWfrcwEaauPAog8lSVTs/dGSrl2RUtcE70q3hoNyLYGZ1emA38KRr3k1rQlpf3aTrJfuJFeVCeBTuXWz51CSCnehxZ4+dbn/9/Q9k7BQO785NSaq2n7JN5ngNgZqWUg/3PAvp+4TJ9ilyOLlOA4CABNoACWyIJKZFlaM7j6y+98OHb7+9tHd28sdFZPIcIShAKjNqMWj2ZG8CngeAeuQW+WN1Pnzaof+7On9FwARyMiAvEZflt5ixP9vb2Hjx4sLW1tbW1tb+/m+e55wVhUGGmpaWlar02151bXV1dW1vpdOZataY7BQZbQBesMOzYfwR5fhCc3GRfgfNS8bvlTQAwBFIsYKAnsBmEQd7Hxrt7r3z/+PbLpCe1hdXaU7+Fa98Lm5c6ponDEV55Ze/117fe/ygfDvM0f+tf/u3H/+UHEzJPf/PF1aef6H7lOZw5L2oN+FXIiIQoayOYYRyRA7GAJtICCXCkjzb2t29vH23tSU2NMIyiqLrcaS51a8sdudTEnIcKIA2kMSDNRfBQSRCUBIxVp56Xo8Eh4yqrJDyC9ax0oSqFIFDBnF+/tnbBrOUW+QSTzdHGxsGDje27u3s72/b+KD+mSSYH2dHR1ljv3zp+X1qfGGSNYKsEXMbL830WbENrKhbK8yI/rFb8KKw1G1GlUm+1Go1Grd5sNFqNZjusVmvVllS+gE+udQrg0PoxtAVNQGNkFhMNa5AbGEkFeb0gx0rreB7AyK21OjMmNVbDZJzFOo11HKdGI0t1kmTjcTwcjUejURrr7DgmLVzje08HCr6DFUopSfF8R5DwGBnzROskp1E6Okp1X+uMdKKyVCYTP8sCa2gcx3GiLGpeECnlQYRBrSI9TwVBtV7tLjSWluqrq9HZdayvottFNXLVCHBGnxAMaYAcjgRE5lAOR0HWsd8IJQS55i1sLJU4kMKlJXLNB0plb60tGsXNqinyinWmULICABQVWrZcQOyJordSRCiV9YwrDG0K9TCtgAcgCmJ7e2qRKELe4lSFMFBU/xS8XMU0P/mSM02cFVKsD+4TW1zoKREPvygCD4yiOXXpSjMXOfjSPiYABHIUUhBgM3MEZxMQE6Q48a+nV1cA9E+fy+xse2ghFg/F5Gf3ounu0wPwSeAEM1+xDy3CduaLLnT6+X2zf7f8klD9LtrvXk9r+qlksHdhAK31F6r1ARA7X79MT0NLQBUNVgQIMKyE47YVaZ1LIAAAIABJREFUPgFAd009/cyTb759663rNxfPrJ5/0mMJRk4gQNE0kDUjnyuEQqWN/wUJ43N58G62f4qBwphOxZntjGFnLYbD0e7u9oMHm3sHuw/u3U/zDIAQIk3TJNdBpdJpz51ZObO8vLp+dq3dmROeYEAWMZ8i8cGF3V6wWZKwruGcc+ZzA0h4rjMnZu9d0W2NiPLceiQgNY4+0Nf/c/+9V3h4FKK5+Mz3gud+F2eeRtACAhiC18Qffnfhv/rWQpzi/sZHP/5p/43X5eZGezzov/n66PorN/93L+h0amcvLT31XPO5l3DpIiIfkqEcNZGAVciAGLg92Plw4+D+LhmjWXt2HLWrjbXqylPPi1YNdQnPJffcVUmQlYAkVwogAGFZMRf8zdYwCUMkQJYIypmsTMViV4iB0WBJ2uqj3s7O5v7BZu9wb39v46C3e9TbT+Mk0rqmfCGqRnOeG2PYI0UQLNgooZVNQzLK5ooyL8+VyQM2ns0VGzU24sgIC0GUC7FPoufaM/qh5yvlh2EoyPHPKACyqKgiXwXWWm2Ndmx6BKf2HMkPDKw2xrDNtdYWuTSxR7kUufTg+xx4Jgx16NswsJFvQ59CxT7lymoi2/CZQ9HJbZaY1CDJvQxyxDJjJIEy1cB2Ir8TyAbYy1JMJmqc8E4vPzweDo5Z54IsW62tydlqIYyoes1We3W9vbLeXl6dX1mrd+fl2TMIAnghPA+iKM0C4SR04WYVgyAUkSppmqdpLwghxVS/uDixklMo6CwSnGHZkZG4Zi1Oo5yareygIycTDu48ygC0hTMJqZy/p93L6VqkJJcx6BkCDwLK4NVDmtla5yqLsg536jPJohHzQ4Hr2TWMCu2LUqtRWcdbxN9PbApD5X1yn9uiyeT0iJ+yNpIFqIius3AFxwIgMU2euniAizhMbzcVSvah9bmM5FsA8lMW75JpjG15wdM1X0xvwfTqpqTdJ6ECcWJ2uL+LJDOLT1ohvzT5JRH4uDj/lLV3KlmW+b7v6HiVUl+0xz9jeT0ixu7sR8OQkJJgCB5e+vZXb97effDx1v3bm+cvnmNBpORJ4odnjvz5n+IXm2gByiv9jJgD+6kzrRT6xBa7u/v7+/ubG9sHvT0HxR+Nx3EcT+KREKLRaHQXF8+ur88vLMx35+r1eigD14gBJ7zsgsHWsBCiwM+gyC0CAAuX8GUJUMF94bS/hZaueVixDDAxU556IoUemA9/2Lvxg2TzA+4f1ptri1/9A1z6DSxegVdLAAIFEBAMYRF6aLWwsHDl0qUrf/jf4MEDvv3RxlvXN9+/sXnrttnYqt7fu//+bfyXH3KjuXL1cn15ceXSJe/MOfh17B/u3dw+fHDAQzs6HGRZ1ujUVy+tzp9bQLeOho+mglfcMAZba8mttSxmDf/S5CrDF5IAZpO6XuaOrQ6kiAFtssHx/u7W3s728Oiwt70fD0ajYT9ORnE8jMfDPEuJbTwa+77fas61Wt1qe67R7rQ73Uar2Zirh5UgqIbkiwT6KO3vTw6Pkv5h2h+YyWHaH+jxWMfDdDxKx1mejCbDPC56MgGQjnClzNbBstP3QgjBghhlu1rXJW8aDSbJkki60j8BQZaYSWgKuapsqCgIZCi1REqce6AgHmujs0xrysgzMvDCRqVeiby5VtRsh92l+YXlZqWptBn2hzuT4d7h/sb4cKe/c2vS6yWTWKYZpakX22Ass0GcxUkQBI1Oa359aW5ttdLt1M+cwdw85udRbyCsolJFtYLQc5lsywUOa+o3itKpLR4Sl1OACz+Pyv7aDy8CNKMW+ARRjiI4PZ1us1W1J14/0ang9Exu38IZIEUvjoIVo+jx8+nz105P+qE3Pzn3xdQOB59KF9LMCc6seNOswsmJlzPz4fVldrfCo3ZvGHc867L6ZXqAwWTL5BqXWQAUV18wT5SHPLFiTsyr6Wk/gjLlkTIF/38iFXJapj/1CY1ip++Xn06LhB46t1+2/DJC/VNlP1t2715PMfzO6/uiPX6gRIexBSTIsyVKT4oZI84BnwkgoIrmGVy8dC6fZB++9VanI5/+rXXmAM5XczgbBQDGaKUEIH4Vz/GR4lCVp81nAcBa9wiKd1zuhYhAmFImn1BpnjxDjMfjXq+3v79/eHg4Go0ODw/H43Gvd9Tr7WdZ1mw219fXL1087+iYWq1Wo9Vs1OphJXKUQaYIcOXkeF9dJIHVCUAPpZvAGhAMQWXJpZnB3BIgipWEAY2cc/Z8j2COsfshbvzj4M4bg+2PjAjPfvW/Da/+Ns5+A7IFJXJYBZYomnCxcW00CWRRr6New9oyffWF9d/+dnd7+6n9g3hz98E7723e/Pj4nbf7h0e9lxfay2sHZ59Yufj0/MqVOKFkb+gZHTSisy9dq1xcQKeCqkQkp2dpLMBWCEFg6cYelQ/CCpCFq7cmQQK5NgWIioiUIhbQWo8He1vbw6Pjw+2944P98fHx8PDw6PBgMhwdHhylaSqUbM13Wt3O3Nlua77T7szV23NBVKnUG2GtHlZrYVQJolD6nheGIAvWAFjwMmwGk3M+yeOU88RkiUkzncZ5lud5ZjKdZdZaY/LMaK11rnVuc22tYdcoxTJzwUIDoSClVtKoPDdZom3K0FLHnE8s5yIdaxOzYs+DYkOsGUax9q1luFwbjCQ069VGvTJ/od6qVZu1SrNamWtWG1EFOs9Gh+boPuIDM7zHu0kaT+x46A8GYjzMdvfE6Dg9Ooz7h4nJKo1ap9v1u0v01MrC8vri8lK91fSq1ahZR6uFaoRWC4KKci/X+g8CAszWcVEInAq8l6xU5eg7eT2LR/60GUinXpwm4pzd72eF/ehTdhIPf/pz1p2fHVZ8pHv9yCOfsv8f+uvkoPSI7aPPysqHP5p6A+XqXb4NmnG6HzqBR9+NT3zyqDsjH/kpffpf4uE3ywjEzOHw0PP6Nfb4/0OKeyQnlkhpwc9OJwuCJdKg3/itpw73dm98eOPcg7VLR+thAxCqRJYWOSyh5C/Dgf+cwsxEs7O60PEu+WKMBiAdgxaBmV3QRSnlWNmllHmeTyaT4XA4GAyOjo6Oj497vd7u7u7e3t5oNGo0GvV6fXGxe+3a1Waz2W632+12rVZbXFx0OZ3ZMzEFosfBf1BY9ijNrDKeSUCZI7RUPhRrXWOroglHllvfE5IUjAYRpPZtilEP99+K3/m3zQ9/ZPPhwpnLrWsv4dx3MP801DxLMsSALrKtLq/guue6pR4EIaGUlUJcvhSePRsy1yf5wu17L959YDZ2Rpt7h/f3huM8Psh39eZwMxXkU6ZNHseRHZl2EK5L2QWqMD5UBD+A62YAV48E5/gXIlB07CPAWpiEtfVIABJZ2tvdGx0fpfH4cH9/f2trd3Ort7uzvbk1GhwHnj8/1+l2Ou215aeff8EPg3qr3ZrvNOfmKu1mvdUOqjVUqgUeG2LasB0u5G6ptOWKWqiQbM0XtkB7u6ngktAQkISCAEOUsC4DTmwaZ2kcx2mWaa2TLJ1MJskkFSR1bpIkyxNjMtaxTsbGJGZ4PIlSm6fWJFqRDP2oGtXCwG+2qpUoCEM/jLxmPeo0q7War2RONpWcK6khNXCIgzujg73J0e5g+056dLD7YHPr7v3B7gGluhFWalFlfn6h2mxeu3Y2bLe8Vq06N1dZmEd3HmcvoNlCrQICiAqyIQFHNMxFgRah9D3LyEvxnD4dNvVI5f0I+RyL+8/J+v371MRn0f2fTT6b0vpkhPAzfO/nncYjlO5n2flnymc2ej6HSfEz3/+VOohfSsVPZSCZNTlOWwgIzxWBiyIV63x5CChPwj+LlQudB9tzd27uLK5+/Ny3LkwPRcLCutWCfnag/FciUyZE1yXI+fFEpLWWUs6WRTgmdhfC1Vqnaaq1nkwmm5ubGxsb9+7dOzo6Gg6HRBRFURRFa2trURQtLy+3Wq2lpaX5+flareb6ME2POSV4d78rIAvV4cjUHH0SnUTDnDhjWZAgWHAOyyAhqEAbuCya54mJ0/2yIvKJoAS9D/D2P29f/0E8PKLWUmP9N1vPfgfnvwKaA1cAIgsFWCEIklHQZTKBYciRkguv+G3PAzE8BgORwLWruPKUHHLzo636m5u9/aOJb6JGyCZJDrcnH986uv3B8c5d5bHXqdTXFhury5319c6FS1g7i3odgYcoQiVCpQIvgJAGzJKKWK3VHlkhDVhTlua9/vFBb+v+vbsf37l3+9bOxoNsMpGEdmfOj8KrF85FzXq93Z5bWlpaXm3MdRZX11WlBt8DAYYdvIwtyA1hBtuyWRITCFKdtI90RV4u9kgEhpgG3KxFlrHWNs9cO2AFC6NZpzpLcp2awfEwmaSjYZyMkzTO4tF4OBxPJpN4nORpzmyV73meJyVJT3ie7NTrflMqJZRHYSVotuq1WiUStBipVuSpagW+DzCyFIc7ONjD/n68u/ng/r2jnY3Dve3jg/0sngBQfiWqtyqtxvraObp8zWs1om4naLUbS8uNhcX6+hl0ugiioghOEHQGpSCozKATYI2xQnonPhmXnjg9ym1/LI/l10q+lIq/zN4QUHSTInJ8VpgiP4HCkWcmj2Bx7auX9veTN1693p4Ln332AjWdf2ABC1EkpBxy9j/UyuFAlK6eYvqOtdapfC4FZVImTdNer/fgwYP79+9vbGwcHh4ycxiGRKSUWlpaajabCwsLa2tr6+vr3W7XRQUe4k6eAjlnfxfFqjuzGwGn0panzCYLSLi6iVMNEKYY4ZonCBo2gTnAzZ/uvvGPk633lRlXF9YWv/I9PP07qJyDqdqMROSYdZyJVyRNDcGx7xgYRZ5wmVr3GRTYshYkfEiJcT6+s733wUbv7l4dzcwPxZysnp3rtBWN2715zdFxdQH5oD/OksHu3sHBwY3Xrqe5MVI0Vpaai4tLa+vNpYWwM19fXqb1NdntwjoSWQIs0rS/v33rxo37H93au33/aHc/TdNapUqEphdU1+aXV1cWV1cX1lbWr1yOlpZRiYo8lFQms/B9AGzZSkjhAYJkAVYhgFSZGXV/65PULU2TkwwYkEWWIUswHmfD4XgwGMRJOp4kSZINBqNhfzAejnWcsmYYeMLzoCRJ1zRFkYikrIqaDUNZFYGvqtWoXgsbjfpcp9ZshJ6PakWhUUXNhy9gU4z76B+arZujOzt72ztH+/v9nf3jvb1sMECWSWM9QuCrQElYrrfq0fJCVG/Nr12pzC8srK/SuVUsLKLTQDVC6JfkMJIZlqULDxMBphw/7OrfivjwTN36QxPmV+yKPZbH8kuQL5/id+jbYm4rEJcxZyMJOKFZFlSwXgDELGnxQvXclbU7t+72diav/POtb/z+JVSgtZXKVVkzIP/jpPdnVS/wcCdD98LtI4TQWu/u7n788cdbW1s7OztxHDsK1SRJ8jxvNBrz8/OXLl3qdrvLy8vNZtPzPOfBuwgBZgwIKuWT5+M6fBcMvmUr9ykiRnwy/1foKg9Curw4Q2iGcK1EoaFH4CGOPsZb/7D93k8n/cNMhotP/t7cC9/B6tPgKtIAYSgUoCcIPQfypSKHAyF0XjChkIaVsMKCHNOnBbQgEWGE5O2N7Rt3zSC2qUEKvSLXn77SuryIhoCMYRY6v3G5Q/8T9o+xfzzY2DrY2OhtbvY27qcbD9Kj3uD+Rrq5MX7rrcjzlST2pA79NPKbly6aRiXx/X6S9kfDdJToSWLj1IyTSKiF9vz5S5fOXb26fO5C2O2i2YJSkAQpIAmCmIrwkvQN2MJaYpJCunom1mUbxNlAigUs8gHSBJORGY0m8SgeD8fjcZwl+bgf56lJJ2mW5FZbtiRYaGmHZqRhLGub52w1QXuSlES9omqRaDWqzUalUavUq9VGo1Gp+lHdQy1CLQIDcYb+IXoHOH6A3WN9fDw62BsfHowPe5P+YToeG5OC8ixPMm0Nc5JpnVsrJPygtXomas81l1day0uN7nxzadFfWsbcPERYuPKBghTFuHFRLWICkZCyBNMZraWaSS5PhyXzSc33VP7DTN7H8li+aPnyKf6HhQpcD+GEZaKQEjvGNjPa98KrT6/2D5776T9df+Mn7z3x/KXWOSipGDkAazWdbrz7K5SHSJkKpUs09ctdLv/g4GBjY2Nra6vX6/X7/cFgEMfxZDLxfd9x6ayvry8sLDSbzTAMq9Wq8/uLDpsAUNAz4DSEE2WYYfYcStffAnkR5C9tLJQqv2Qlm2Knp2uxYBBbBsEjABqcwI6he7jxLwdv/GuydyuNJ42lC92vfhfnvo72ecgqZBW+QA4oCyW4aKkgZyA2SrgeSyVhmHB5HpfySdF/b3f3ow17HOf9URpPFlaXrzxzAWt1rFfgIxPawiPUJRulCefaWEfj+Rcao/GFYR+DIfrHGByPHtzrb28d3bs/2dvL+8dpfzC2+djD0eDItGp5GI1TPRnFKue6CCvKj7ywVqvW6616ZoP9I+HvIjHY76PVRBCgWkEYQkgSQgIFDc6sas+QjG2a5oOjQZpk8TibDCfxeDKZJFmSmkxbTTazWZZZY5Bbk2sd5zrPlSarWVhWwmuGlUa9XqvW/EiFzcWwpprNRq0eRoFHEuAcMLA5bA6TcjZJ0jge72W99EBP8nRkdBKPx+NBn+OMdG6TVE8m6WBkk4mJU5NM0uEwHY8kSAV+tdOqddqr80v1Tqe10G0sraDbRaWKehPVGhp1RBVEEcKwaP3MM5VSVNavg6UU5AqDrXZN5UEkPWHYOjTDaZqaz5qnfciAfiyP5ddDvuSK3xbUI0RMypQxZQ8zbRg4h5JK+rnlxhKdu7L0wWtNneH6K+99o/5U1AUgQEXbSthPcSR+taK1dkrX8SQeHx/v7u4eHR3t7+8PBoOdnZ29vb04juv1+vLy8uXLl9vtdqvVmp+fbzQajofVJQUc1RJQtFp3r6cNEmc1/XStdPaBMw7cm1JYUAYww7OQbvgV5HXW5ZzL4sOTsj7AYfyYJFlwDk4x3kXvfXz04/j9H+UHeyZaWHz+W7XnfwdrT0HNQVZzEhqWSMgAHoTrtDc9YHGiFopUweHkaESNgAaOGbvj8d2j3Zv3d3b2wmalc2FldW1ubnUBaz48DZVags6tkIESnnSnnBsoAWXQjtAKgWVYC2trua6lyerRMe7ev3P9+gdvvznoH9pA7E9Gk35sjyY1L+qiVjXMe8PseCuWhkJP1Os2CIdCPCDyg4qsVFRURaVK1TqiugkiVCpepW6judifz0WFpCCS1to0zeM4zlKdp5nWJk/SLMmzNM3z3OaabR6IXJJWkiLPizwVePA8VhYejDS5hPExDtXQV/s+hIxNJbfY17BsBSdwVVVWwI5GI51laTJJJ0X1Zjye6CRJ+70sScfxZJLlVkivWvWqFQrD9sKy1+7Uz7fDZr3aaFYa9XqrHdQaCKpBoykbDVQj1GqoVyEVphQNLiTvBoPVWhtSAZUcr276CgKI2IAE5JQJjdlYzQQSXllC7/C8zMwnDYdQfPYomZq2j+Wx/DrJl1Txn7SuEZh1PWfS0WUAQMIaA4k8174fnrnQeu5rT736o7de/rfr56+cPdeoGY+lksUC9XPq4H8FopRK03Q4HPb7fefi3717d3d3dzKZuHK7S5cutdvthYWFxcVFB9Obdd8d0M9a6wov3SI4zRHM4gY+6fpP7YOTzAJNU81wN6pY3qdJaPcfWZAtm2miXLg1bAozQv8+9m8NX/m/ju7dMMlw/szV+jPfxZWX0D4HigA/MxbKK0oCgcyyJ07MCIPCtS9+lAnswRJyIAYOs/6trc0P7x/d22u02+eunm+e7TavrGCJCvodqa1OhV8JvIB5puF2KCFgnFYBBLEwjuGH4iQe9g/3jg/vjPq383QsyA+izrnz663m4txCu1KrTJiOR2qYBLnWyVin43QcZ3Fm0ixL8snAZMeTcTbMSSWkUuln0s893ygvlbUk7LJflVJaa4mtEpBEYKPAklgySWJY6wOwRiL3ReqRVlIoYYVgy9qwBhvmnGzGOuM8sToxWaKzjPPMJnEeJxPH48vMRAzDzNV6TQihlPJ9P3RSCWv1qHlmxZe+X4m8atX4isKK32p5rbas17xmk+bm0WqiUUetVlbQecWjV4CrH4AmITRrEDlmm6LTlBDKE9P0hRs9YjpkRDEK4WCbRJI8EPISETItwRGf03d/7Os/ll8/+dIpfmMgJWAMhGXhZRDOy1cMz6XqSTCEKXAAgkgIKXKbRoFiZr9Fz3z97O3bt/c29Os/fD9qPbl4sZpZJmIPEJYL1FUpX0So0AHyp4RIs0p6mmUHkKZpkiRxHN+5c+fGjRsbGxvj8VhKWa1Wl5eXK5VKp9NZX18/c+bM/Py8Y1BwPvqsFodj1isV/JSn76FT+ixXRwUXXwDAUSXYqa8PALYo4bMZPB+g1GZShK52XwJkJjAjDD/G9b/beeX7wqQiaPnXvlf/yn+N88+CKrAMRYDxQS4IXuQRCuSFYBgN4rKO3netAq0QAHLgCOlHOx+/emO0e1RrN+fOLbYvLi1eW6elEH4RXrbWCA6F9ZEL4cFSUX5eGHtkpZmSkRgMBqY/+PjGu6/85EfvvPkWMzebTa8eLV4+f+bipWvPv7B+8QqqVVgGS7BFpgGFnWPsHSf7x8P+uH88PjocZcM0s6Rjo1kAQkmplMdSWSIDqwSIWBGUYMmadGLzMacTymPKYmRjzmNhMuiMTU55Trmmos28NYAlzoWDpDIRQbAQEEKQZFFVTL6QC0LIivBIClZCep4KfeF7Yb1KnvKiMKxEYa1erddqtZoXhN5cF1EVtRqqURGcJ0c8KAoWPAFwWQLLBpQDJehGOiYcp9MVHNQGs2QsmiiXBS+KKLbF2FMlDUU54BgAFJ1KJ32SeWZmX+Bxov+xfDnkS6f4ZVFsb1BycjjOKc+xmrAFSybfQc9gwcxKQglJsBY5Sb+1jK/95nM/+v5bb12/sXKltXj+MoOkIpvlQj1MQPRFhApd7H1aJgcgyzLnfrl4vtZ6OBzevHnzgw8+uHfvniil2Wx2Op0rV66cP39+ZWVl+pXpkWeZlafn/ws9dzEtoGIq2TSn8GpjQAQvYAgNNqQk4MOaeEi+AR/jg59uvPZ9sfueB0Ot1bWvfBcv/BGq6waRFfAIsCmEdcQ4xEVHLHd8qzOlFCAysDNAhM1ghLAKGv33du+++aHtxZ4Wcyvd6kJr6ZtPY06g7qaIYbIunIEMUALipMk9WxZEBZSOBKxBGh/f+vjVf/uXt159dTIZh2HY6sz51foTTz/3lZe+uXzhCiqN4pJzWAttMB7b3b39/l5/snE82h8cHBzEk8xawDntwuPA15aZIJQfVqJ6s9FsNmuRaoZWidyTFEjhCQjOKI+lSW06FiYRWUycCZtLNmQ0GeuTJBbMzK7BqSAmgiA/jEgKoaT0gqIbupSQPoIqwgi1OsIQoQ+loCQkAWVXcUJJOU8gAW2gPAhZ9uaxRSNUnDxr6xCzlghCsMY08l7kd4r6WjykhouYv5k50rSj7ExiiDCzwxQ7Mv34E1wbpanwcMzvsTyWX1/50il+JuSZ9ZUjVMl9IqFz5SnkcbFykRAEw4WXYq1blghgaw3DyEhee75z98P53d7WO6/frLWqT720QgApD5od/GxWfrG6fwqscyrfGENE0zj84eHh7du3b9++vbu7OxqNsixLkqRarS4tLV25cuXChQtzc3Nu52k5X0GiXkbpHyrM+8XLlAqt+M95b1YbK5TnlnJXcaYINsuUHipvjO1b8Rv/kNx9Ld95gEpn7rnvhE9/F0tPIGxDKJEnBaCdBBCA1TQ9QASGJrBUBG0FREhEEuT4AxPGzf7W2/dGB4eIx8N4vHrt/MVvPouGjwbBB8ha5ExWOC1HgMcg0kazFJIEYC0slfy73B+99+YbN1776d7dO/HR4SSJYxmsXX7yxZe+cfWpZ8LuCgBoIMV4Dzubg72d3tFhv9frxXGsTRYnmuBnqU4zJiHrtbDdrrfnGlHVX1yarzWi5ly73qx4ISBgGWBIaUk4CiNXj2rBBsYCFsZ1X3XMgAwIsAHxSeO1QntKEBWJLVEqSkFw1Y06hXRMP273KdsSnaTDmIpjCnBFmiLn5biAHGODnvIClYco2zaXtuB0bNAnCWLL1wwBBCe1uJipSJzC/eBY5h2VgZAQD8UAHjv1j+WxfLkUv0sQykAAPnQCGyMfqsMdzM9D+GAP7EN6YO0VLbCLaCUMQwohYEwmZSRq+Oa3nz3q99567/1Wt3n2ymK9LQse6k+Tf4/fPBt1R6merbVJkrg2B3me53l+7969+/fvP3jwoNfr7e3tjcfjxcXFa9eunTt3bm5ubnl5udFoTA/oAgNOzctfWTGCdYi+QjVJZSCYWRIFDGhNEuAR0gf44PWDt18+vvduoPtL5y5Fz3wXl34DnSeY6sxGMEgRjAYAoYoCjSL2DjgybzivVDnIAE8ABfTSo+sf9e8kB5uHJO3q5fWnr6zKMx0sePCh2bDgsqdpwb0HYyB9AFKBYXSewLIvJQTFewfvvfXmjTff3Lp/f+POvWQ0fPbpZ373t3/v4lNfa3WXEQZJP7379t7e7nG/N0nG9rg3mkyyyXA0Go3G477ny253vtvtVltzjbl2Z75VbwRRJKNIhRE8H14IUoCCYy1lgjrRmFSkx13yhIW1ECJ4WME7me1mduKI04lSnLVRGQgkyBQtXK1lxwUkRNFm92Rgk7vHGYxL2JTNbU4ddWaoFVpfF0ZEgeT7BPWlozt0RRkFKOSk7crPGFrFHhZ8uivLozF9/7GwOY/lsXyR8uVS/ACMASRyQDJ5yb69+ZOdD3+6snYWL3wX0TJEZAwk0iI3qUEyAACWYBIFLy8gMHcZF59a2do72Li79/I/vfb7f/TSCU3KL0JOtbycsRumaXjX2LDX63388ce9Xu/27dt3794djUYrKyuYu3SVAAAgAElEQVTPPvtst9tdWFhYWFhYXV1FWdE3reb/VFyeky/a4+eCOUU/VMNvHLusNdJqshkoR5bg/jv4+N+2r//ToLczt3K2c+lb4urXsf5VhAtWS/KsIBSl+EKBpDaZlBawJGZ4AdgDAItcQykQg1Lwjd7hOx/t390Z5dRaW+pcXGxf7GKthgCA1lZD+hbEEAytpm2/icGZNlqKQDD5pCBpsn3//euv3fvow3fffH17c2v1zPnf/f3vLZ29XOss1auLad6+/8F4a/POzuZu/3jcP54cHA4Gw9H84lJnsbNwduXCXDjfrUc1GUai3qqSJ+rteqPhOhuUt4dL5V7yHxiA2YBd1EFMPy+uWZQNzmfbhrjxORt1P6Xjp6wVdFL5JgiZhSj7IwnQtGFJCcg8wXsKZoakaXNFp9FdBzIxY46d/K4hVztpp/WcRBBkp8PdDRHjPHi3A8+0l5vB08z0fRWiNNRO7A7MfOUTCf7HIYDH8mWTL5fiJzg8F6yALyXyeO/BxxvvvDy6/+65LPOvfgNLz0hZgZmWkzFbS0LMlH9bACwBi+e+fnUyxD/8Pz/wZfLklavrT7UKqNcvbiH5ZKjAKewsyw4ODjY3N2/cuHHz5s3Dw8Narba8vLyysrK2tnbmzJmlpSUX0s/zfBrDf4g8f/ZXHhWT+CLAiafvkCgK+pglQQoDnoCP0XuA2+/u3Hil9/H1diM4d+354PKLuPpb6FyGnNOslC8BC2utNkJKCAKElCEhZ8AUiRqBGT/SI6CPfC8dPzj4+PX3st3DpdWl9spc+8Kyf62LEGDDbMgTCiqHJQiCZSZy4WqHTYNRJTYk2d3ZvHPn3ddeff3ll7NxfGbt7BPfetGvtpcWri4tPXEwzl5+59benV5vq5dM4m63Oz8/3+g0Fs4szS90g2rYXVmoNcNKi+aWAAd0806Uo9baMqSUUtBJa3KGcSdEAiRdvuLktorTN5lLPJvrdI5px+NPeyqnDD4CuGjz7p1eIqb2yGkyqCJ3X2LuZh4uZrX4Q+OAGCRQPLzybQMWZVJgtnPc7K+cqpqdSdKfBHqAUz3lyndnQQCnXj5G9z2WL5N8uRQ/YCVZCXisQAZRZ+78NT66m2zf2H/1/1g4uu09959w5qvsr6QQARtSlriE/wFWE0lJpEFkpazM4/ITq/dun50cZz/4u5f/U/Pb3bNVJuAT9DX/3+QhShwnjkX/3r17r7322q1bt4homsJ/8sknL1++7Mj23XenbY5n8wXWWtcE+SGIvjv+Qx7/LxagMFM2qQrCRLfoE3wik4yBEWwPm29OXv/Ph7deV0J0z11SC1eCF76NtadAdcuRIE+S0ForSRCe8D0GtLaCWAoCe8QQAjnB9bonaJ8EJgwj8WF/66fvHe4eIVD1py/55+cXv3IGFQEG2MCXRDKfZF7ke7OcdwKA4/oRyoH9DnsPPnrv1X/9wbtvvJnHujO3FrS658493+leOD7Orv9k6/j7/0JSeoGvouDMpQu1VthebHaX5zqL9YXFdqUF6DLwzUVpAEsmIpsaAJBCCQnllJ8xxkgpQRAkJco+RcywdDKDTwXdi8x7+QNT797SI0LabMBUBtO59M/JJerttGBEkKDT6tyCid3gIUDIadfVmbx7cV4n0YIigCIYfpl5mIY0prF8TFMDxRWIos5T8oyRcXI54kTlT495EvFgnAp/nLJ0HspuPNb9j+XXXb5sih9ghx7PQQZexb/2jeW6v/9DTu++sfXuj6ujdN4yXfhWKJrIU/ghAGOMVAqYNu4SRJAKyHDmau07k5f+t//l/8xM/cMb97zKxWY3KHwQmq47j1hqATx6kflU1ltmfu211959993NzU1Hnt9qtV544YUXXnihXq9P9fr0CK7J3kOO/iwDz8//Uaf7p68/scXMenrK3/rElc7uU7xPRYU2GQszUmKA0ebwlb/fev8VGe9HgsPuauvrf4iLLyHqsg2sV2MIzblHcB2QrWsbJyGUECiwawCIIUpSBQWBXGD36O7LN8Y3D4T1g8ife2Jt8aWrtCwgDSMl4YGl0VYq4UV+USrO0zbfVESrGbDYeO+9f/3+3916712V60g2Wp324uKV3Dbv7ZhbmxsgpbUKK/WFxfbK+sLiueWF9VZnARSAvUI7Gc5kQGyt67YOCyYIqcAQ3kko3hXdEZGSogTUlSOKUShqO0NGw86YMnApFSqcZgFjyis5PeELFc7MJE89+2ngnwluwNOpMcDl6CXX4YCoVOb2YX1f2s3moTwCOdvETu2Uk8FBNKN/i8EnphPGlDGAAiT4qOz8aa3/WB7LY5nKl0zxs+MMEeAERKAQ5GP1G93/4Wzyr3+78+Y/xR+/NkkOK7u38ezvIVpDwvAi6XnAjJazBbEP2MIXZy/O/97vf+OHP371X//vn8y1F1udgN3iphmBBXGJTgJwCoTsVjy3ojsKPOdea62dm+50tvO0six77bXXbty44Xh4tNaXL1/+2te+du7cuWq1GgTB9BJnlfdDPXJ+thQ0OzhlrNiZRfZTt2ZmVZUzaebiGi24iLmyK/aCzkkphpeVOsTLx0KMMLqD9380ufFyf/cB5SznVhae/Q3v2W+jfhGiBhLkSYHctbb5f9l7zzc5jivd8z0RkVlVXdVVbau9AxoNoOFBGJKgAyFR1MiNuXNn55n/bffT7PPs3pl7Z+ZqJQ1FSvSwhPftvbdVXS4z4uyHyKwuACQxoiAzg/w9UqO6XGYZ9htxzHvCUUqCCDJUEgMDAWmsKEJ4kFaqV8qrN0dzI0s7K3lPU8tAtv3EXmdvAzJg4cMYImVPUSphI+dkN6XaZqjhFwqqrk4YszIxcvmX/zo3PrY8v2F8RbFssr7DibUsb6lCBTIuMs2JroGOPYMdHd3NqXqQglO3uxWl8IIkBYCq6XaxOwu25vOw4e7qx/dM4Jp271f9CBF2wD91xyfDAV//0T9x6Bo5fvrOTxzymdvEM9cEZR2130Px1L+7Z0ZP/PbESRBC257q1+ybJP/pZ6dnjvb1h8A3vEEREf+1eMmEP/jjImAUQCDJEEY50lD89b/pTzVu3v5oaWo0tpXrzG/hwNvoOghh90sEcsCBmzsIgIbL0EI04Mirw48nJ5fncxd/czORfHVgOGk8iDgBrLWWytndlVU3y6FwepWKLc63xXdSyqrqCyG01p7njYyM3L9/f2FhYWJiIpFIHDhw4PDhwz09PU1NTY7j2MK9F1eUJ579pfanrPn57CGrjdjW1B811YI+tO9VYo6E9jTBEYrgE4qozGHqlh65uD1zf2txRiYy/UdedY+8ic7DiGWhGsLdqE8QYWWX8A0r20rGMJ5WjjS2jZ6C9YgQQBGl8ZWlO+Pbc+u5pc2O3t7e4UG5tw1ZIAFfVAzYFU6wMAEzc3VzWy7pWEzapnEVj+dmpy5/+dn04wdTd+7A41i8KZnOVkzdVkm0NqT37N/b0t6Rbs5ku5LpJrgJkASUIWmYa4cT0pPvU/WGb7j8DR/K7yROz64ofid+5wc++4CnrxHf8tt/4DnFd35F3/aQSO8jXiZeLuHnsLtLS9c6xRMbyQSZQf0hvJJtSPeWr39YXHg4+dUHDYuTDSffxp7XkGoHx6EZTlwDJc1S2FUAa1GW8Vh9D73+/Tc//F+fTY1O3b2UqosfadtXZ4T24bBwrAmgrMZpyQAeAGJHkpCOa4vta8vsfd+3OfiZmZnR0dF79+49fvy4oaHh5MmTAwMDQ0ND7e3tALTWT03feVFQ7QboqU0f70ZQCUbabm3rsCsAotAyzwgRVqBrDQhHKjhxrTUglCDwDnYWsDmOx59t3Pxsc2HSqUvX73ml+dCbGHoVmS5QApAgQ8Rht7eoBpxF2GlHAo4gm4I38AlKCAEfWCmXx9amro9uzm+4qVTPmVPN+9plfz2SwV95xa6mIKRvjIGQLAhAWXvaM8l4DAbwsTU3Pzv+cPTujTtfXVxf3mpuOeAp10mlO3r7s909yUy6obmlqa05210PJ/SdtUufyAsmIiLiz5KXS/hhU/w1iUgAIAkpPR9OohfDibZkxnv4ydyDiwsTt/LFjZbcenz/WWT6YeqgCOQIaQDhW8dQIcsVXSfl0LH04sQ+r1J8cHc0nnTe6ThpkhKytg/L1JxC2GdsglSuVX3f9wEopRzHKRQKN2/evHjx4uTkZGNj4+HDh7u6uk6fPm299O14vW/J1n9nqlH63RItIDjhIOJaUyNl3Q2rsXYIQNruOgYxjLJPJGydmICuSEXgMio55Ocwfn3u0geF2XuNqXj7nkOJvsM4eB5dhyCbvAogleO6QecagNDyD9YWmWA0AEMy+FAJ7AjXDtarzGzM3B7fGFkyRdPS092ytztzqg0ZwAFYQ7P95hsfBBaKAzt4BoC4dIgAHxvzK9vLi1998dm1i59VtrcTrujrHZLJgab2PW1drd29XT17euqaZGDoK8AMrT2QkVKSEGx8YyCedDuOiIiI+JPz0gm/lfyYLRZiAQjb62SdyiAb0H/GyTT1NXWtPPhkY/ah+XKuYfpm+uTP0P8KPJZunQsqMEBJ6yGvROD9+9rb+4rltS8/uTs2shz79OFb7x9gRsWvuI6tYA8S3QAAN0yhwmgtlQRghVxK6fv+7OzsZ599NjExobXu7Ozs7e194403ent7bYF9tSy/Ohnvhb49JiyQe+ZGqv1HMECytlBaMKSBCs+GCJIZbCB2C74IlXWUF/Dw8/WbH5eXRhXQ2DEgs4OJM3+B1n1IdoBihuEkHMCw8UkERV+7jutBAzmCV2+YWICVYKAC5LF6/fHCvanKjiYVyww1Z4/vqT+QtmV+AMCymnRX0rYtGG0qREKKGAw4By9fHrlz+9qlTybH7ua21uNuLNvRk8607T1wfPDomc7+rlhjuKALrHo9Zk1CSLnr9kNCySfq3yMiIiL+LHjphD8YAss6KCMOFViSATMLh0QGzQcp3Zxtakre+mju/he5mcera/936/7R+tPvAFlZkfWpNh+oaEgJJYJpvk4LnTo3vL1evHd3vHKx3NnWM3g4GXNcGMD41sIkTO7vligLGSi3Te1vbW1dv379+vXr29vbpVKpv7///fff7+/vt0Z71rPPbvSrHVYv+h16pu8pINBcA4Eaj3QZvBJhQPbrVC3GFtWyMvLBZfhFlNf48cWlR5fKi4+dyjaxqMv21Z96D8NvQXXAafRIGkAFQQfhG+0IGz23Kl+TgwiOT+QDEPCBHHhu8/GNe4W1bS748WSqdbAve2YPmlEhSAcMLVmQIFutL6znrAaRVJSAAQqYn1i4/9WN8Qf3ChtLmxuLhFIi5nb09b114Yf7D59VDSkowAEAbYKPDwBA1b46A2ZtXZLCvriIiIiIPydeLuEnGGl0sFMLa50JHuBDaJA07HiaJFJOLIbBTLJh71D3iYkvf15ZHtnxFkrTl1oPvYmjP0K5qISrjLTlfsWyl0g6YG7uzbx9/vD22vL2uvfZL67F8HrPEQcSLBRVs9PAbgIgLN0H4Pv+2NjY1atXx8bGSqVSfX39e++9Z2fm1rbaV+v4qj33L1T7RY1dypPUaBjX7L+rtfyhXVqgzcwwGlIXID2YLewsYPRGbuwWbU4W56YLVJcdPN568AwGT6C+A5yAkwIgtFZSMsPztZRSqETFtuRxOI2VAAILJgri/2Q3+qtcfDC7MDqd31zzWGf7O/a8cgS9SftqXNeeNhnS9iMHhG80e9KRAkWsz2Hq8ezsyNjy/Eh+c6JcXPQq66VCft/w0dfOf69733C6vQMplwkMzawFCdjR9BAISgkFhz35wWrAQGtfOi/Xf2IRERF//rxkf5XYWp0RwsIzghbsAT6MhiSfjVIuAM+PObIZLTHUNQ+ks3r044Wx6+vjDytbhY71gug8hIHDiLdAx+EnEgmnXEYsTn6lmB3Mvv391/79X27Mjs9ev3inofFkfU84BxBPFMoFWkYAkMvlHjx4cO3atbGxsWQyefDgwTNnzrS2tjY3NwOwtX5W8quj+ap6/0JL+i3iqVN96jaDWovCXROV3e04GzIlSSWIPNYmMfsoN/Ngc/ZxYXWOKsX+oaPu/tPoPorsfqgM2IUbM5qFJClhTWZcRwLwNUsZFsvBqj4zGU0ASDKRBorA9M78vfHV0cXc1nZDZ9PwkcHEYAcyCjF7ujp8MBikjRZGSRLSCGg8vrm2tZibHZldmJopbi5rb833Vorl1YZs6p2fvn/45KuZvr2IpyBRNoakkWCmoEvRN1oJ1y56alvmqgsUa/8QERER8WfFy/eHiQgQWgTOaSLoWZaQCQ1p0+bE4UAQkUIyhgOtMru/o/Nm3YMvtyZuLX75/6RbWlIrZzDwCjrPwOmEVjEXYBhBHMfA6b7jq/7Ni/duX7vjEF/42clYBwG+hgbFGPB0yVWuNiyFlEJubm5eunTpxo0bKysrnZ2dhw8fPnHiRDabRZi/t2Jfq+7fdPn3R4dT03YT+rtyHlwpATaGAIhqzB9GgwlKAiiDd8AbWBnB3F2efjA/8WhtZTlV35TdeyTROez2H0H3PsgkTALGgeMidJcPWwaMnd2jIFFRtkbSN57jEAMejJ2MSxVgzZjx1akbj2cmZuJNjf2nDjUPtMQPtEDCruQgNZh9o8mQFIo0Ke1KgZ0VrC0WZkfnH98c31xZIn9LIe+K9YXt6fqm+sHhk6+8fe7Q6ZOUTlb8ComiJFcyKVYg2Fg/w7jCsVURNSYygqrvXRTkj4iI+LPkJRP+8C9yjeWcUIgBRkMhdCkNZn4TQAIcA7toGZYNHU2tXfWNzfmJy5XKxvjn/19y7HF2eJGGXkW6H34MjuM6sYphI+jce3vzudwkyzu3H1KsfOGnr7tZRcL4AIOlcivac2VMAAvz8x9++OGjR4+YeWBg4O233z569GjVfe+PT3UVEQzOYzs3BUAww1dJ69MWBPsJ8D0QQSofpgxvGzsrKC5h4dHGgyurE/dJV+Kphq6h4809B9B3BP2noDKACxCkCyFt1F0Fc2UAAGzC1QbbvnxSUFL60D5rScoxAtvApj936d7krUcxGesa6Gva19043IsGwAU0IyEhfV/7QkopHaMJRkoDfxvTk7nxh9OXv7xeyhW7mhraM+7K6urq1iQ55XSHM3Tk4A9+9jd1rW2UjPuktTSucAgkSew601HoHkMCMPLp5MgLbrWIiIiIeIG8ZMIPW9NlFATBTgazg8GFsm6nNpMcxG3LYAGy9XsKIoM9p52+g42jZxdvfSbHrtHa3Mon/5e4/q8tR17H8XeR3oN8zK1vg+NA4gd/dfx/5vzcQ+/WzVmn7v75nwybOgnHMLBTKqfjCcm4df3apSvXZuZmmfnQoUPvv/9+U1OTTd6/0Fr9/zhmt+2QhCEKC/qsqz5BKR8sYEBMALEHQDkAV6BzKK9gZQQPPt0euZ5bnXViyUS81U93p/aebBg+i5YeUB1kAlC+ZgMi4QQKKWRo2S4EQMEkGAIQ7N0Zhv2KYJfiSgOLPj9afXTxVjlfaWlsM02xntOH3L310LDhfSPBEhqKBREkA0JgewUzd5cffPVwdmQ24cZSTqJ3Tzolt2Zm767vzMgGSrbWf+/HPzpy9hycJDjOBONJVyYkAwzjMznWJN+eac3btjtK75sdZCMiIiL+PHj5hD9oVPcllBWb6t4SjNBhN7T4tD3r2mfhGOFqKEfFaP+b7V2DWHzVXP5gcfQy5Zamb37oPbrZtPds46FzQAHxRpADE/vrvz/1b//DvX93+srlh9opvfeXJzW4Uimm43W6wp9//NGDB/em5xeU61y4cOG1115LJBLWr9fzPBWmh/8U/d+BqTqFql99R6yDLXyfSEMQ2IMpwhSRW+GJ++sjX1WWxtTOIvyKkPWpzoN1B86h7wiaBuA2QsQYTkUbKRWpwPtPM5h3wwxUVU4Su7MRSAJGGqfOCPjwxjcXb4xtP16Uvoxn6juH99Sf7kEaYCBu4+6AFHZCjySpi8itmvs3H4/dm8ytl7jkA9zQlBja3zc/e29q/MZGfqZE3smTr57/2V+0dPf4DAl4uujIhCt3Mx1itwfzKUQ02SUiIuI/ES+f8Nswvt0FhpeIbXbZhOsCpQEDJeArlECG7FQ0XdbsKeUg2YnuFpE52Hn0YWHs6vz45cLCKHJz3tSlRHqgfvAkOofQMAC39/z3juYK+uGDkVtfjZQr+fd/cjaVjudWc1988eXDuzcXlxe69+59/Y1z+/bti8ViROQ4jjHGtvb9CdidZCqs7AdrIYYkEBuYCuCBNIyGV0FxDVNfYfaetzKJ3IpcX/HyZWrbmzl4IjF4Fo3daO5GIgUiBhsug/yYjNWO9REUeCmGSy3ADjqoNg5oxCQAAQOsc/H2+NKtyfx6TsfczIHu9iN7VHcdEoAEpDHQEEpIEgQX8MqYmy6OX59an9xaHF2sVCo7ojB4rO/068OrC2OTdz6dnbw3uzLS3t/1g/d+cvT1t9zGxrLxhYAH31UE9sASPgGMGBieZq2kG75LT+7subYyIiIiIuLPl5dQ+O3fa2VQHfUBwIAMCIDi3QloNo8rba+9MUZKF3ABFIqFukQb3GbUt9S1dA7uGcTC/dWJe8vTk45aXpseye45Utd7ECpb3/3KP/ztsc8+KH157cbY7dwXcdHe2zK7OHvlyuWdwsbhY4dOv/b6gYOHAGitbV++7/vV6v0/NmTHoAV5BhLVxnwf7MGUYYrw88hvYGWusDhX3lrQ6xMbs48rm0stjU1t3fsaOveh+zg6DqOhHyrFJEo+A+W4kpJ8BjGYtTbGKAKkIpKi5uDBBQ4deQHHrscKnJ9a2b4/t/ZoWhRNU1tr8kB35mA/OnddcgEWcGwafmeDJ0anZidXF6ZW5kaXK5uVw3v2t3U0DJ4ayLQ5Dyeuj05cHrl7cSe/+cpbr73y5pv7Tr8JihkP0u7r7XrH+GCGlACzAQtirqaB8HRUPxoAFxER8Z+El034RXVUHAJp9wENYQDFkF7YiuXY2n4YUEJrDdZSOWDhewyiRDJTYU8JFol6xA6gtQ+9Z1u6RtNzD/MLd72t+bHL/zv+1S86O7qT7XsxcPZcT31+nhZ31NUvHsUfzW5W5kSdM3zg2FvvvNXb3WeL5qrmPK7tOv8TwWBQ0KAAaLAPvwhdRGUb+VVszmFzHsvjW7Pj+bWFcrnM8fp0Z3/6lQvxtr3oGER2AE4aFIdRXnGHhErEEkDclDUjLtxg4FzgY8sarIkNmCFUsOwgCGbBcGBgBDRhTRcezc/fHcsvrruxRNOhnsze9rqjLUigTCjpStJxJYCyIZYbi7w0l1uaWnh0e2RhbiGZTPb0dGZfzezd1zk01AlVufXZrz74139eXVtobm9678d/+dr5H6ea26AFvJKIxQUDZcB1DYMlGD6BBQQZIl8J4dbaGz2R5f/WEcwRERERfz68bML/BEGHeGg+b0JDut0wAMPXRipJkMbXQkI5xAytIaU0MD4cSY6UKdQ3Yajb3Xe8aeuBd+fz+uy8t764s7m4sbGweevLTM/ZQ4Ovr95Yj4l0peBXyl5/V8df/fRn6UwK7MMYJRWYIaTve1LKYEw7P3WiJrz4ItRl98kNOKxmYENcBmtiHyjDL6CUQ2ED5S2eGV2dGV+dHdPFXIL8OldlGppUqjHeO4z+w+g6iFgzZFpTkiF8Y+IKjnTAgO9DKqEkGKwBBWOHyLNWQYWlLajUgAy6B22JIQM+YTo3eXNsdWRG+Ka+ubFjqC91eA86AAc7YCUoLlztgzS8TWdxevXG9ZF7t0fgoSnV0N/d0zvQvv/k3s7D9SDklyZ/+Y//eOnj3zYkk0P7B898/52Tb3/PIAU3Bm2QkEGdh+1lEPABhtCoOFAOqZoCBIRfmOpI+KrRwBMexi/gY4qIiIh40bx8wh9WaIV/lWU1v1x1cw/9aAQIKiw8E+oJd1aGACBtAZpt/CMFiqEt7bQdc7wKph8Xx2+tzj4or8ys+Rubsxc1K1f2xmS2XBZy01QWtuEKKB/sAzGQA3YJJqhpZ7FbQE62kt4wjArcdZ4MMleT5NbYLugIMPTUhLgnwtGhRAW9c3aiXgn+OvxtFNawMo2F0fLiWH5ltrS9BoClW6dSpqHFzfQ0dO1NDBxAWx9iGcgYyAE5oJiAMIAjRFAfCECFtW8EChspFdmixQqMBhlUo+hVJz4fqMjS/fnxKyPFzQK7KrOvtefwgDvUDBfalIRw4iQFwy/Dz+PO9ZUrH1/P5wu+44uEaszWnTwxfOjInlSzQAxA5dHFT37z779YGJ9I1qWHjp94/6/+OjM4AOkE2QFV837aic2AAxgI1w7hCb8x9NRGv+b7EhEREfGfgpdP+EPCjHKN8Vw4Zh67N337w2vuQAISGk4JSeZySgF9DYmG7p4T7/TkFifv3b579bZJpIu5xfJmPpNqK29Wfv6PH3S2xfs7TbbVaWhrR2MT6uLSjcOzK5AY4NicA4wh0pIMiMDhjFoWwSmTBBF8HeTGSRNzWLVA0GHBnL07M4wH9gEN49nZd9A+8lu8sVHcXCoujnlbi6XcmvQLysv7xS3jFUGyqb0n2dItOofQPoh0FxKtcNNQSZBjV0gAYJvn7EW7zLDLrJqSN983QtprjF042beaiMDKz1WUnW4wXRy5fje3uOlvlRuaMh2H++oP96LZBgw0OXFiSA9rs/qri3cmH8+WC1zarvjC7+jNHjs1PDjYlohDJQDHYGvp89/8+73rXz2+d7+lre3Nd7536q136rp7IJyyV4k531iRF34faloOnvg3IiIi4j8lL6/w/yGQQJIBjsGUABepXgB6p/XG7NQqdRf94tFzB7KN7Y9vLs4+3MjlW51Vv3FtiuOzG26hqdFxlF/X0IBEI+pbkWpFogH1GcTSUAmIOHQMJKAM7PSXaiE8Vy3z7SZeg+xl29imAIB9sAe/jNI2dtZQ3EJxC/l15KHyQO0AACAASURBVFaws4lSHsVcpbDtlUrlkr9VLBcrHEs1pJs76ntPpNt6RWMnUs2oa0SqEfEMyIGQAIGk7burdUSyJ0UAPxP4JsBRBgAbY5iEUMGiwECXjVJQysXU+urYwtrEytZC3iPuOtLdfbBH9bUgZhswSLDUO7h/c3N+dGlten1xYWFja7U+mzxwdnDo0GBze3NTM4QbLD22Hj66+tlvb968Mj09OTC8/633f3ji3DmRTIMIBjH1pyyniIiIiPiTEAn/C4XDbsGyhhKQ8aXJhS8u3rs+vgmVOvP6q+feOpEQbkdzbrGvMnWruDYxOjlR7GqSDWm5ll/b2Z4iFNx4XV1Ds0w1UjztpNJOoj7uJJVMCJmAcJF02ZFkPe+IAuEngpRgH6zBBqzBPrQHY7yKZmOMXzZeSZcLfjGniztcyZXzm7qU93Kb5Z1N8isJR6Trk24y3dTdn023qnQLkq3IdKCxE+l2qDQoAREDSYA0+2BAMJHkwHLnyTzCM33t1bIJNoaEIKGkraiwffweFAksVvTSxvzI5OzoFFfQ1t7dMzzg7MlQUwwxgABNm/OF8bHV9eXi7Mjy6MMJUTYHhwdfe/tEY1eyuT/d1BXf/RRKldXRR7/95S9uXbtU9stvvPvuaxfe7TlxFNIpVioEFXdUkKWPtvAREREvE5Hwv2jsgLZEAkB+O3f57u2Lt6/F6hLHT77y9oV30gnXL5a7h/u7B9HSsnbji8rciF8pU6upNKe3O/tO17mbprSc21rwd1Z4cy5fqphKUWhPQbukWSrE6qBcR8WUciUpIYQQSghBRMb4xviGfRjPZ994FTa+KZW11r4xFR8Gkt24jKfJTRgZE/GmRPOeZLxOxepiiVQylZapRmQ6kWlFsh7CgVGAAhR0qO0SECzhVO38ENa40ZPZb6ZdB/ugQc4WzcGBIRB8DUNQFE61m9dLdycXH83kNjaTDZnsULaht8U93IEEIIAt5FYq64v5kQczt++NLq6sN7W2DB7Z09ubHRjs6t2blGkwYae0k4zH4Pvw9fSdW7/45/85+uhhR1fH3oP73/tvP6vr6mApfAjpJogFCIZZ/An8kSIiIiL+lETC/0IhWxpmAGxsbH1x8cuLX102Uh85NvyjH/3IVdAaTtyBDxD6Tzc3dp7/4tdt4w9GFmbmB2Xn/lf2p9oBsdqYm8H2ginlvPxOZWeTi3mubJPOM7OhuGFpjPF93zcerLUfGWa2PQlETEREwpEJSCYRF0KQ40LG4SREXUammkW8QTW1oa4RmVbUNyFeDxUHScCBqgMcaAOioKRAKjhBox0bGM0MZkFMT1S67Wb0wwaEXdXfvUdwhfYQ1Er6wLKXX1gfuXq/tLbjwG3r6ekc6k8ey1rJL2wht12aejBz99qDxakVgmpobD56ZH/HQHb4xP6OPoILZmhiKTmpXJgyChuf/uo3H/3y33e2tlu62k6ce+3dv/sbuA6k9I0RwgGE0YYVhIpUPyIi4qUjEv4XCcP45BFoO7d95ea1K19dAnlvnTvz2munE4JZk/ahCdIBHDBMZlC833zo2mfuV194IzObWz8f37sn+8qZQ4mD5yELQpRixDHtwyvBK8LfgechX4bnwyv5fsnoiuGKYc8O9ZGQgqSUMUGOEDFIF1IiUw9HwYnBiUE5EA6kC5LwASkhnLA6j4I+AqNgDFhBSTt8z+dgrBHZnH5Qof+0rodZflPtcHtCVINKOcFlTUJKCRigDExvz9+emH88rUgpIbNDHb2vHEEWkEAeS3OVO1+NT03Or6ytkjSJxlRja/rY8QNHjg+oJkDCCDbQBBjtS7golzenRj7+1a/u37lXKue7Bvve++nPDp09g3iMSRoQQUgIMKQUDGgDGZXkR0REvGREwv+CYQYRPR4dvXHjRr6wMzw8/Mqpk9mWFjCTYeUIBEFy46HkkKsy6syFfdn29uuXb9+//mg1v7SQk10Tpdff3Y8YEANcwDUwPtgHMbKAMeCKIg3SoaeeD1KAAAkYCeMADoQDIW0KPjg5qimyrzawkQDXOOb71p4X2jCDSRJREOnf7Rm0TQNPSqZ1sJFATY3frs99cB8WQQGiD57bXHw0vT65WF4p+CWvoa198O3X0SshUVjCnQdjU+MLubVibimfy+0kW1PDJ/YPHe7PdidSaUABAoYqGloAbHxHKpR35u7d++3P/+X+7Vtl5lOvnXv3xz9pGxrSEEwKUGRftK0AkKCaUYQRERERLw+R8H9HtNZSSgDWbs8YQ0RaG1fGbt269elHn62ubOwbOnjh3R90dHT5RisSCCe+CAJDOIgDggUogf6j9c3tp7p6Gq9+fvvBnYnFucLmgtlzoHPfkYxsAiCgDWQCkiA8CD9sKq/6yGlAAgJMMAQIVC2ArPOMraOzBC5Ftb2IVG25YydQeCHtNYZg1BOVewSIJzXTWgwwiIIpR0GpvtEkCAIQmjURufbRa9h5ML00OptfXtve3mrqbD753jl0tIKxeX/r8djs/MLWwvLa4vqmr8vD+3vfOHK0Y7A7k42lWqAFPB9KwfehpKsAXSoqR2E7d+e3H1355NOx0VEnUffuX/zwnZ/8SDQ0Fg07yjWBFWN4+kHHoSFC1IUfERHxshEJ/3fEqr612rWLgGKxmIgnFqcXL396Jb9ZyDa3n3vtjc7OzrJXTjjOricPAQaSoEkA8DUcAmKo74ydSg+3d3fdujI+8XD20hfX5mc71pZ69g53ZnvrRSYOAa0BwVJKkAJI+77WWiklpKN9X1gxFrCe/9YSRwgKhL92z/5NVKXxiTuKwFwPoddxbZteEAQgCAq8gAyDAUcQKQFhGA6gjIQPbPnbE2s7MxvLo3OlzZ1sc8vBQ684raki8fbU6sjk9KP7Ewvza4Kctu7Oc2+caWpL9g+1tHTGUQdt4DOYoe0QBQeViokRKeUUpiZvffn5pQ8/WF5c6t2z59wPvj/86quyrt4XjhSONQUKHfir52xC5yLxnPckIiIi4r8WkfD/XjCzXQEwcyKRWFla/fTTz2anZt265LvvvHtwaL8gQ8IDAKgwiR5sMiUZwEhh++zhM1QGfScz9dnDHXvqR+5MLc2sffiruRtftRw4ue/A8b3NfTJWB5KuLWUDQUolJQzgeYB0eXffbsvrTHghFP3AOC9IN+y+ivCCJBA8cLXLTYEEGEyCa/b8FNrqMsFAMliwERzu9IWAEJrBBsRwAHhAAVjcLi/kpq488gp+LJnI9rcmm1qKqebphcLNhyMPHo2VyW9sTfcd3d/QEu/u79g31JtqBTuBobAMn96R9kXpmOvB8NKDRzc/vfT5v38kNR068vqp77954NxZJOJgduAAwveNI8Xui3xC/iMiIiJeOiLh/47YXX51hp7WWmt99erVG7duZlINx0+eOH36uGHjexXXcTRraUPuorbf3e6kK2BAuEqg5MOVaOpxGlsH9x0cuH7x/sjd2UoZt766f+36jX2Hes68frS9O6ViEhKswQxSEAJCBUX1fjDXjjVrZhZENqluj1k9co3qPxXork7EVUFAPHwkAWbXuq5a4QcDBgRJuXsMDvr+gucrA0u8PTq9PDqzvZRrqGsrx5BoSHsxefn+6Nj8p5qVcBPpjtb61vrBw32Dw+3NHXDcwBrfCK9iSi47SsTDuAMT+eAywGNXr/3v//efF6YWYk7s2JnTP/ybv4rv7QYZaIZ0YASMVtVAS5XgV/HcCEhERETEfz0i4f+OSCl931dKGWO01o7jfP755/ce3IVjeoe6zp0/CzICcJULhjQSgkB+qDMiVB0FUda6JIkBGZfS87RwFCXQ0Cff7T5y6NXBG1fuPLw5VlorzdxYXH200drbuPdg38HhLrcptM3RgF+hmAJrBQYRwVHkcBCxN6GpUBXz5KCZgFACFQgAgdVTNz2lk2FaQAaV/wAZEEPayTt20OEWco9XFh9Ol1e3HV+m3OZNTbMbW1vzi3BVXpc94ob2eO9Q5+DRvU1d6WQzfMAHigYOwSVIUJ2I2yiD8X0iIiIwoehd+vdfXfztx5vr65rM+//Hz155881YYwMrKvmcEAosg6ZEVZPj4CfOP/LviYiIeAmJhP+7o5TSWjOz4zgTExNXr15dXl4+MLz/3Juv1tcnjPaEcAAFnxEEBnwONJgBEAsmAJJkzDAEDAwcR4LAhAprqWR2IHE+e+bUqeOzD5YfXBsbH53azuVmp5duX022d7b07+no7m9PNBOUiwogBUnABDN6GGBwmOMXRBzGGMSTXrq1iN2fT5rxVUP9trmPiYiJSdidvSawgZQgu8woAiUUH65O3R/PL+ccuMSxjUJpvbi6Jc16qbhdKNbH0gdOHBg40NPUkUw2w62HFqgAnvZi0okJMKCZyZAEQNL3PaVs26EuzM189usPLn7y2+31taHhQ+d/9ON9J46KTIMH8ti4Kh4EHkSY/BDGDlWqcRgUiFQ/IiLipSQS/u9ItYCOiLa3tz/66KN8Pp/NZk+ePNnb0+v5nqNiYKF9CNsdBwDKhN110uoQo+Qr5ShJNdtPMsy+tL48EE4dWvrdptbu9oHG4ak9MxNrMxPzj+9Mjj2emRhd6u7tyHa0pBtTbd0NqQxkEnbsDRFD+GBmdsEOGNZvx+bsQaFhHT/7wmouBhVxNlnAu7ey9eKXBJAPSCgZFC2iiNLcdmF6TS8Xigs5sVVMIbZR9me21la9kh8XyabY0OmB7t7udGOqsTVV1wwI+BraQBISQIIE2AQLDZIQtnUCQkkQUCpO3Lx+68rla59/WvHKZ994/cSrrw+98QaYDFww1RHAYGOYIBTsWAARdBkAAAgCgqpF/ojEPyIi4uUiEv7vCBH5vi+lNMZcvHhxYmIikUicOnXq0KFDnldxnbjRWgghFZjgG5CwwhNsNIFARINYAMNwMKmOjRFCEODDZyZBDkmIJNr3J9sHk70TPUuzffNziytr6/Nzi7/5+AulVHNrc3dfZ2dXtqO7NVUfiycolY65SYeqM4ef8tlhmCf3/GEzHyjYKwfXcvA7hBC7k4I5vL+tICxge6uU29oWZUOFytb04trEvNzx4REzSkLmlHC70kOdQ5muhs7exsaWRF0jIKAZRsIQNPsxqXS5IoWCIGgDAEqADCCMMUIwmHkzN3r39ucffHD98pft7dnX3n7z9NvvZIeHYQgqrn040jokaHIFERloAgkhbKCl2pxgbP0C177yiIiIiJeFSPifT6VScV0X4S4fYe++lFJrfffu3YsXLwohBgYGXnnlFUe6gGEmIR37cArNcqozf6n6TzjE1priWSkioWwhnbKGPDboLkAMEBr3oHFP4wHTuDxTGnk8NTvdsrm6VSr6M+Ozd2/cFyw629u6Ojubm5taWpoas/V1zYCCcqAUlIIdLh/secNSd+vfQzYSXs1FCBCBIBiCCPBgShAG0Ch70AblCra3yltr+fJ6fmd+qby6ofLFOHFSOUnloLGu4nBRaUrFh/r6evfvTTSHPfQUNAZAQJM2gJRgGENGCgIIJIyAIWgwkI9Zxd7M3/z1x7/4l38rFYp7+/efPv/miTfP1XV1VHwtpJQEFS5xhCvDjkRZ84bXLLlqP4ZI+CMiIl4yIuF/Po4TSLjVeyKyHfNENDMzc+PGDd/30+n0D3/4w/Cegp4c/fL14vJ0u3ztL+Kpm4jAwUabmUkQZffEs/37Udm/Oq+X59ce3R/bWt/Z3siXi/7EyMz4wym7hHDTnKh3GxsbM5n6dCaZSifr0wk34SbrY0JBOJByd7sPBiqwRkMMGANtUCjonZ2iV/Z3NvP5jXxuq7C1nstt5vLbO+VCOUGxRreuPZnOuvVOXYLYFzFQvUr1NDfu7UwONAZTdlBTNBD4BzKJGrd/Zsd1g84BCvblDB0HdGGTc8V/+j//8e7lG6m6+rb2jr/8h7/vPn4UqTomyUqAHADsMyn6hrx9aB34/E8lIiIi4r84kfA/n6qK25Z9izGmXC7fvn375s2b3d3d58+fz2QyUspqVOAPcRrMTFLsZt4FEENLv2zpyg6/kvV3sLZcXp5fW1pYWVpaWVpc29zMx3YS+WV/0/GkXLNLFqWUlNLzPKGk4zjSdaSUgQMPDEtfCGitC4WSX6wQSSEUMxcLZTsRwIVwNUSp3MRuU7w+G0/UJ1yfdL6Sc1pSfYf3p/a2oR6oA2KACpsKxK7Df1BdwCCGorDvT2uyvvmGIVgSCzDYg9ZTtx/94n/928Lcoom5HQcG//Yf/r4um0UqDkLF+GztBwxIUqTlEREREc8lEv7nYIXc7vWrV9om/qtXrz58+DCdTvf29p46dcrzPBsP+MOdzO6TEwxrZpakIAAHAJSLtoZYW3/n4XJnuYydvCnny5uLuULO29ra2tze3srt5POFjc1tr1jxfUPBND8iIggmIiPhUanslVkbVzqSFAwJoZRSDZnGhlR9YyrdnExlZExv5bBdrCNDfl7wTqatec++fbG+VjQp1AMxGA5GB1i992Hj9oiBreUviCjc1wMQJMHQ2peOALQpFoSUqFQu/+KX1y5dHh+fTDVm3vnBu29euBBva4GUFc8XjqsC+yMGUeCREGl/RERExLcSCf9zqBVyZvY8z3VdIcT8/Py9e/eWlpaGh4fPnTsHwHEcrvW3+4NgDDTABCEUggg2h3pnY/UxUAxxQrxNwCQ6DyVQwPZOY65cLnqmVPbLZc8r+fCZfMOeD0+zMcb4ADTBSGJCTCg3pmyOXMXcZDzRVJfBTqWysq03CrJUrrh+0fUM+c37WtzWeENfJ/rrEQckDENICHsyPkBGkjHEIMfA2PF92k4DQFgeaMsJFcpkJPwYWLiyODZ56cPfXPniam4n39/b/9r3Lxx7/Yzb3OSzBoRwXIBs/IDDwkhtjIwG70RERER8K5Hw/4ew233rzG8vfPLJJ8vLy01NTfv37+/u7q7a+Hztw79D/P+bHsJBIz4bwPMqgHCkK8LCwOA+xjC0AMMRdimQborXo06HLW0CkAwyNbobOPzCYzixcJNuy981oIFV8E5+bn1pYWrOK3mJZH1rb1uqLd2wpxndKSv5JaOFkgKoVMpxx4FXgTZwHFLkEBXh+awVqeAdRc05U1ABEFNCgCu5rYXHI1998OHF33zS3NRx8NDRN977ft/rp6FQ0lpIR4MdCF97bISjFFEwpEBEqh8RERHxPCLhfw61oX4islZ99+/fn5iYyOfzFy5cOHXqVLlcjsViCKv/nn2G3+fQT10pgkp1QRBuuM5ghjYQ2HUJIMDAAKjACFK2XI80yBhiQUTBpF0BoQKTG1vbr2ypvwZZyV8DT67lZpcnbz8yvua4E8skU3uy6Z72tj09Kmtn74EJWrKAZBgD47gSMHBU9ftFQAxSkWQwIFXYFggACtbmv1IuxhxVWVu7+eWXH//qF4szU/sO7s+29/3l3/297O6CgG98JhIggpAgJWOhLQF81hqQJGUU7I+IiIj4ViLhfw7VLb4Qwor68vLyxYsXK5VKT0/Pvn37EomE9e8LkuVP8nsG/5/RfkEQdsSu4dDkhuxYnGAGj2FjyAgQoBgQ5AIwbCSzEEKSDAbTCQKBIUxVgokFE3lhAGALW6PzC48mS4tbjmeSiboy63Rva/eRfejLIAUo+AZSgYkNTHV4H4E1a0GSyGbfAy0mEIyRQopa1ZcwxAZGgWOuyE9O/fx//NPIndu+rnT29R1+/eybP/nvUK5125HSsY15MpwTAMMwBo6UQmqwqemZjIiIiIj4WiLh/w/hOI7d1heLxUePHs3MzPi+f/78+d7eXjug72trAPFkicDvxDc+MJwwK6m2Ld1UpwAIEtUbJCC0TX8LANAM40NR8BSGiY0kGTTRMQUzdRb05sOJtenFSr60s7OjJcmmTOuRwXRXM7LxoD1PGgityAAO7Y62ZbanQsoHBAlIiLA1UQAuZLWaD6yhiGFKXqnOkTDm4Wdf/vqf/nVnK7e9vn3o1NH3/ttfdw7uQcwFVTsObVPAro8QCFAyfLHRVj8iIiLi+UTC/xyqWm676aampr788kvXdY8dO9be3u44jjGmKtJ/0JL+gKcjCEFyngIPHth4vwnvLESokYYhbYzc6HJZKgVSYBn02xlg3S8sbW1NrHhrhc3FlUI+H0/G+/YPtgx0UXMSzQ7qg/YB1mWyrvcEa64XnoygwAUAAsIAvvaFEKrWHpgDS11ypKdLYL/OobWZ6Uu//ujxzTtrC0tKuT/7u789e/4tp70VjmNLEYJnr33d9MQFe1wTxfkjIiIinkck/M9BCOH7PhG5rru2tjYxMbG8vJzNZs+cOdPa2gqAmavx/D9cE/8uu4IX1uOFa4FaebUaaQgVhhQQgJAgtsWJgtwEhAgkPwese5XFjc2ZldzS+trMCgtKd7bsOb43kc3UdzShVUIGfn8QAJiEaxMOQJAsCBx6wkUJAdCQBEl2YDC0Dhr3bRKeXOGbsiMJGjPXbt26+OXNK9cWFhaOv/rq0dNnzl44j7p6aA04Bgi9jBEeMShKeGKMEAfa/8RbFBERERHxDJHwPwdjjJTSyvn4+PiVK1caGhpOnjzZ0dEBgJlt0Z/V/j9COx/I1HTvfY3rLAXp9mB77FB1S0+CJDRLkGBgB6gAO6a0sDbzcGJxdE5WOF2f7Nnf5TQkWwZ7sDdja/UDk12GMcxsQhcjAgPMQSi/9iSqPsAicOAzhKr1EVc0kYYQSpud5ZWRW7c+/vkvZsbGMpnMe3/xo1MX3uk6fARCetp3ZJw1CymqnQhPHQHVFQDX/IxUPyIiIuJbiYT/OVSb9Obn58fGxhYXF48dO/bqq6/a8n6b4K/e+Y/STqar6fzw51MHtRl7H7YXz4PrKB2G8yWISkAJWEPhwfj0w5HCdoHiTlNzQ7ypUTU5bUe7RGsC0gH7EAKSfEEGYApG+1Iwq8cAAIFMzVeIas/L2gtbz4Hgdt/3VYzBzLnNzcWVzz/49ecf/caRqqO779Sbr7/z/g+QSkIqbYyjEvbpEe7jq2JfO13oaX/eSPUjIiIinkck/M/Bqr7W+tatWw8ePOjt7T127Fh9fb2NAdQq/R8jzg+EOfSqxj671BChnS/AkELAh9SQ9roKCo+2Fx5O7MwuK8/A17FkLNXe3DbYEx/oRAvgeKwMwWPfkFIA+VqTVIAkQJK0dYB2ZG/QSFAlPC8bC2AYEc7/1doL6vAqBWj/8ke/+fiDDwsbW67rDg0Pv//Tn7YePADHAZgNSREzYN8zriOrz189VO0Lpif+eeZyRERERMQzRML/fDzPW11dnZqaWltbO3/+/JEjR2o796qNfLVVfn8wBFgwgRi860xvsJtlEACIA9UHgLIPqeAD86XcyML6zHJxs+z7/vrmdmt3W/u+7sbuZpFNoSEcZScd1tAGSlkhNzEyBNamLIQgSIZgCFtMqDnYzYva8fYMImPzCRrasFFMUhIY8Mpz129c/uTjienplaWlVLrhBz/+yfEzZ5LNWbiuqfjCjROBNYQk6UjNRkKATaj2NbN2ag2LCDYmgTAvERERERHxTUTC/3x83798+fLy8nJ3d3dfX18qlarN5WutlXqBb6N58ldRaz9fLah7ppTAkC2lZxuUr1byA54y46vrU0s7y5u5ha38Ri6RSGbaWw+8dkw0xUVbEg2AAwgGexASRorATRdexXdigkiw70mlAAIMg9iQtQ0Q4RRf2IDA7mkJbTQJIrDxy0LFoM3a2NjDGzce3Lo29uhRvlR67a3zr194t2fPoMw0QVClrN1YHAzYIXsAg2Xoz2OhbzXjN18X/YiIiIiIeIpI+J/ANu/ZGTx2GJ3WenV1dWxsbG1t7b333jt69GipVIrH49WHVFX/90nwh4ppnhF+GDzxvMxgUbPDri5BDEEQmOADBGhgw+jlLX9+e3FsenZ2VgtuaG3sOTXY2NmaaMlQTwbKduQDBCYCuaiWywEAHFeFbfnhYGIwgcP4PQRDEDxPk22mZxgDIWEYnmZXEIHjjuOvrczef3D30pVLly6tV0p9+/ZdOHv2xOkzzT29kAo+QzhuXAG23z/Yz8vdc9l9A+ipSxwUAlRzHtF2PyIiIuLbiYR/F1uij3D8ru/7rut6nvfFF19sbW319fUNDAxIKWur+V7EUYEwgW0AQIigOi9A1mxlGeCqCAYV/QygUii78QSMgAaKQAFY35kfmZobmyosbdQnku3dPZmu5kxng9PegMZEYMIjmAlMIA4z89Yzv9o5z9aPV+BZBQYAQ4SKx44jAbABc2iq53NCKeiK3smvLS/cvnTp8w8/yi0tt3Z1DQ7uO/3OW4eOn4QTY+2TMXBi/HU7+a/J3z8L4T9yr4iIiIiIKr+z8H9Tx9p3GELzQp7nBWKz9Xa7j7BBf2Zm5v79+6VS6dixY3v27PlaX97f45C7TWi2YR1AGLE3NV1rgTGfLSj0tXGlYBiPNQNEUtQlwAJlYNPD3Nbcw+nF0QVT1vFMSvV1tg50dPf3oTmOOiCGalO+zRgIe/gQTV44B0gKAtXa6wYnY92CNIgNIByl7XWCCWSgoX1BhHwR+Z2HFy//+le/WllbRUy0DA2efuutd773HlL1gOBKmWIx+5KMMaJmORWpeERERMQfjt9Z+GuL2vAidPpPqPRfS9Wc33Gc9fX1q1evElFra+uBAwfi8bjv+y94xx+GrCVV1wCWsECPwgl6QfGasQa5dpSOEo4EUAK2/ZXHU8uPZ8qrBT/vEau2rq7s3q74/iyaRdCRH5rwlLWvwuoBYdcTwbFNGHgIewNCe99dnq4wYGY20DKIRzBYo1wZ++qr3/zvX26trPm+DxKnX3/jwl/+uD6bhXJtCIHiMTAqFY8EO47zhzZAiIiIiIiwfPdQ/7cLdnVD/013+3PTe4SnJISoNujPzMzcu3evrq7u5MmTbW1tdlSPtet5IefPZGfoCcmBN08YbA//h90IPMMQDJgkiMFGC1c48IAFNrH25wAAIABJREFUvfFgqjC/tr28sbWxIeJu+1B/99BelU0jATQGjfA2bG8ADUNSaBggqM6jQOCtv58gGITOfHaI31OhfjsxJ/g/AzAgAgzYw05x/Patrz79cmlmZnpiusz85ve+99b332vp7BT1SUgXWkMwDENKkHBj0hhUfM9Rz040fta5JyIiIiLi9+U7Cn9toP7bR9J90wrgqVD/n3wd8NQ5CyG2trZGRkY8z7PO/EqpalnfC2zZ14Ech/JWbYUPLejtBBxbNicAMgQWxEp6wEp5fXxxc2S5uLq9ubzekm0+cPxYuqdFdWTQ4qCuGtIPRJ4BhjbQ9KQJboA9IkNQcDKmxhXXXtC14++0vaoCMlDk5TYmHz0eu3939Pad0QePjDFvf//C/mMnevbty3R0QzkgAd+Hcq29vzGayDCDhHL+GMZHERERERHAd8vx19rTVre/zxXCp8TS1sw/+6g/1QqgarsLQAjBzI8fP378+HFjY+PBgwdbWloQFv292JO0isdVjzqu2evbZjmCLZ8PVgcGKALLBSxtbYwtzTycKpd0U0f73tPHEu2NmT2t6AAUfBimipKKoGrzCLYKnnaPXmOzh7DSMFwChWY9u70GbJ16ScI29mmPFGE7tzg5+fjuvZuXLz948CCZTh46far/4ND+Y0d7Dx4CCa/kO8wQAo4LCICNZqEcAAz2ta9k9Xv4dFNDRERERMSL5bvk+K3s/Z45/hecKX8RVIv7bLR/bGxsfn7+yJEjZ8+etXewPX4vtr6Pwn57QSA7XZcFGETQYZe8BJStsPOANYP1wtzNh/OPJ11f1qXS2b3NDX2dicNZ1AMuPICFFsIQuMLlGAmiYDAuYAgkIBmaqlt3rtlt16wOnuqaD1YORhOEzfML7cPzlkfHHt2+89mHv1meW2hrzR49erx7354T517tPnLIuvD52jjxBCDK5XIslmBmIglhtNZCSgL9GX4TIiIiIv4LEwi/3X/bZrbasnYKi66t2vm+D0Aptb29nUgkjDHlcjmdTtsnqVQqtv/NcZxKpVIul+0TJpNJANXH2sH2xpitrS3HcWKxmFKqUqnEYjH72OpxPc8TQlSFwT7QjswhonK5/EKdc4Jghj3clStXZmZmstns3r17GxoaEMb/7Rm+qCNSOL6WYXwwwSjYZLnwtYFSGmCGayV/C1j2Vm9PTI9Nlb1SLJ1GKtZyaG/j0W7EETTlE5zdifdKEvEThwsKBolCvbc3myedcThoMTT2LmQTBr4k/P/snXlwHNd957/vve6eGcwMMLgJgAAIguBh3qQsybpFrRNZkpXEKkWOfEqOpci1jrLlUhLb60SxE8eJraxjx3ZsS06cxI4dKlJtaW1tlawtRrZuibSpgxcIEgBxEOcAgzm7+7394zfTHIKHKJoSQM7vUyxwpqenp6ffvP693y2EhNHwXLju6L59Lz337IvPPqc9XxqrtbN99doNV2y7pm7V6mLEoIQABR/CB1Qo5EErIQ0g5DFfQ6kCITUXZhiGYd5aLApTLy8+o5Qi2W+MCV6leDcS29/61rd27NjxyiuvTE5O3nTTTd/73vdoN8dxANi2feTIkS996Us7duzo7e3dsmXLRz7ykbvuuosENgnOX/ziF5/97Gd7e3tzudxv//Zv33vvvevXr9dak9QnpJQkYo0xtPIg/7rruq7rep5XVVV1zi8HLTjy+XxfX9/IyMi6detWr15NywtajtCF8jzvXK05BGA8TysjhSqW4jUaRlvShoEChA/kgRE99drB8b6RbDLrel51a0P7xuXV3c2oByy4QguhAVMqWCtgBEB1doIGusYEUpakvtbFsj/FJr6A9gENSwASQlB3PQEU3ELIUjAGWvvTE/t37971wrNDfYc8182mZqsTdZsuuuSya66uW9YNZQEC0jqhPgH5C6TmaD2GYZgFxSIBTwKPGs+TpCcJHSwISGYrpbLZ7P79++Px+KWXXvq///f/fv3114OaNp7naa3Hxsb++I//+Nlnn33Pe95z7733bt++/a//+q9DodDtt99OS4qnn3764x//eFdX1z333GNZ1ve///3e3t5vfvOba9eupcJ5VPc+KJ+ntSYpm81mI5GIlDIcDpeH2p0r6MsaY/bt2zc0NKSUWr58eVtbGwDf98u78pzLLnzaWMqC0MYY13e1EFJZElIY4c0UrJCDHFI7+0cPDHrTucnJyZr2ptXr1tasaEOdQATGgqt9q6icA0V9XgaxfDiWj1dW7EZQiT15zN5vAGWERSsHDeP7fkFrLQ2UZYWUgPaO7N2zd/fuyZGhieHRg/v26kJh2fKua3/3+qUrVrR0d6uaBJQNY8GHzmlpSRTXD8U8gVMb9Mt1/RP8DmwEYBiGOadYZMB3XZdM7rRVCBFo21SLXghBCn00Gr3tttvi8bjneb29vYG3mwzvjuP8/Oc//4//+I/Pfe5z99xzT0NDw+bNm++9996vfOUrV1111fLly0dHRx988MEjR448+OCDl112mW3bc3Nz3/ve9x5++OGenh7yFFiWVb7goHWAlDISiQCQUmYyGZRC8M6hu52+qed5L7/8ciqVWrlyZWdnp5SS7BnBB9HJnJuPNKQUa8rSt62QhtSAn9eOhCUc7Jkc298/dWRiamIqVl2z/qqLYsvq1fIEHGjf+BqCrhBUWVicNCjV1J2XHV8s9gcDCAnXkBPHKKkgAAgNTxqttRZaW7atjIDWc8MDwwNH+noPTI6Ovfbq7sH+gca6xk1bL1m/fn1TW0vbmpWIRyFlvuAbH7ZlKQUpZXmUngBUWfFBhmEYZgGxjDHlTutCoeB5HvngqWYtmffJDi+EsCzriiuuADA4OOg4DrkDyBOvlJqenv7FL35RX19/1113NTU15XK5iy666J577vnQhz60d+/e5cuX79q167XXXrv99tuvvvpqAPl8/p577hkYGNi+ffsf/uEf2rZt2zaF19GRHcdRSgVLk2w2CyAcDlOW3Tk0uQdf/+jRo0NDQ67rrl69uq2trTyG8VyK/ACti/8ch6zhwsCWEsMFDCWPvPjK6KEjkbqazjXLq3va46tbUA1jCsbX0g5JKvgHaQR8SBzfn96IYnb9cQl5pZc1IASUkga+Z9zA5e4JYymllJgbPzo7Ojo1PHzwtdcP7tu7f+++mprapqVL1/zmDe3d3e/YtKWpqwuO8rQLIUxBh5QD6YCi/SUgy6r+FT9Xlhsd3hjW9RmGYd4CrKC5HFnyHcchzV4pRYq+McZxnPIoP9d1tdapVMoYk81mAxe453kjIyNjY2MrV64EkMvlSGquWrVKKbVnz57f+I3fGB4ezmQya9euzWQyVVVVSqmmpqa6uroDBw6Qo4GWEaToB24IKaVlWb7vRyKRQqEAgFTzcyj16TrMzc29+OKLhUKhsbGxo6ODLkXgAqA9AwvEOfhUoSGp56yjfUgJZYA5mEl/5JcHBne9buf99u6uaHtjbO0ytEe0gra0Dx2yLRgfWsLVkApCHCcmi4JWG4BC+o+9WsrryxfyjiWllJRKUHzdd71cNj07N3ZkcO9rr73+8s6R/v6wpRrq6t/5zktq6uo3vPPilRddhHgNhISUnvGhIgKwbMD3oQ2k0PBd13dsB0HmQFnRXyHOWOk/TSc+hmEY5myxLMsidz6p2mTWJns7Rc5TkB3F00UikSDsjqzfJHrJzm9ZViqVSqVSdXV10Wg0HA5PT0/btu04TlVV1cTEhGVZxpjZ2dn6+noKzSP5nUgkLMsaHx9vbGwkMR9YETzPS6VSQXRhJBKh8xRC5HK5SCRyrpLBKKRgbGxs9+7dUsotW7Y0NDQEYYa+76PMtX+u/AsGyAlPwhKAo4ACkEJ69+jhXx3ITs1UhatrVzQ0r+/BymqE4EkDJQDhIOwbT3u+pSBCEjDCaFUUksfEvDASAkZoI0xQAgBFq4CockIwGq5bbK3ju5nxsZmxo3tfeO7w/gNHhoc9GEhVnahtae/o6um55PIrEktaEKmCFF6uIJ2QFLCEgoZ2DaSApSC0gaeEEFIALiB8AQkphDym+qO8AeAJWfvlxgmGYRjmLcBCKZevt7f3K1/5ysMPP0wxdLQaIK2adrjtttv+5m/+prq6el7pHgChUIg0eNL76Y20nRz29Krv+9lsNvAj0KIh8OKXS1MS/1rrRx555O///u937txJ/gil1Ozs7Hvf+14A51DqA3AcZ3Z29tChQ6lUqr6+fs2aNeFwODil4IOC8MP57z/Bm34sNM0ct+XYRkH19Bzf6CoNuEB/dvDlvROHRlDQdpWzYvPayLo21AIhGAuaJKc2SiohlLAFIIwxnpu3HQeGLOzzy9waCA1hjJGANLpY/NcArgtLATo3PHRw3/6+AweGB4+kpqdMei6ZTGohO7pXbLjoou5172hoWWpVVyMUgpAwWhtjVVWBlkpSwUAqQasJ3/elEhQZooTSMIaq9JW3AzhDWPYzDMO8NVgodZSvqam57rrrWlpaggh20v4ty8pms0KISy65JDB9B7LfdV0A5A5wXTeRSMRisZmZGd/3abmgtc5ms77vUwp+KBSybTufz9OnKKUKhUIul7Msi2L3SPMOCgls3rz5D//wD4eGhqqqqgqFQiKR+NSnPpVKpVBWb+DNEqxX6AGlCyqlhoeHd+/eXVtb29PTE4/Hyd5gKatcAgXlbEvHwvynRkPIUrc9KJSa3Er4olib16LdtCcgbVghXyIN7BkZffXA1JFRT5qG5e1d71yH+jhq6BAQBraAB09KC9ACUKWGfbYTLrkegjIMMAa+ry1Lah9KCQEB7QOA8ZHL6pmZkf6B4YH+0SODqZnk9OTkyNBQLpMRoUj3us3rrlu9YtXKxuamaE2NXR2HZZeKCcryBPzixS+7HkrZtPKwhCp7pfQOUfa39NL8sRGneMwwDMOcIyyUJGhjY+Pv/M7v3HzzzY7jkCAkX37g4KfdAnFLOjpZvyn7LhQKxWKxpqam3bt3B/XvpJQjIyNSypUrV/q+39zcHI/HX3rppbvvvpsU/dnZ2YMHD9bX17e0tKAkTnzfp7IBPT09PT09KKXOu6775S9/eWZmhp6etewvJyjaMzo6Ojg42NDQcNFFF8ViMbJ8HK+nl94SbJsfPK+PyfngHSWBR9q2p30JEp8WXCkNcBTZ/f19u3anx6YSjfUda5bVrutBUwjhUrSeXzyMBUsAWgNl1ZboQrmuK6n5DSiwzkgY7bvC84Ww4Hlz42OzE1PpmanxoeGjQ0dGBgdGhobHxkYty2ppaVmzfv2y5V11S1oTHT2xhqZ4TQ0sBQEoCWM8z7OcU5Qtmi+e5SlfYUHOMAyzCChq/CShyU+PUoc6sq6Xu7dJ3GYymXA4HAqFAh9/IH2XLFly8cUXf/e7333sscfuuOOOWCzW29v70EMPtbS0UIjfunXr2tvb/9//+3/79+9fuXKllPKxxx7bt2/fe9/73lwuRwV8UCqOa4yh2AIyJwRmAJSsFPM6/ZwhgaE+KNALoL+/f2BgQCnV3Nzc2dlZtnfx/6DGXYlid7tgn2JCXLGXDSSkMICALzWgBbSCUBC2lC6Eb4StAR8YxuTrfQN9h9KuX7e6u3Pt6lBnA+oABSNKrXoUhDFF1dkUS/3RqSitYAEGtmWDKv4KA3gQ2nNz+fScm5pNJ5NTR8eH+gd69+w71NeXz6TDTqihqbmxrb1n4+a6JU0tnZ3t3V1NS1oRroIPKLv4fUol/M5t6gTDMAyzgBynNJfLUVoKBFsC37bneXv27Jment67d++hQ4fC4fBPf/pT3/dXr169dOnSSCSybdu2yy677G//9m+npqauuuqqb3/7288999x9993X2dnpuu7KlSvvuOOOD3zgA5///Od/+7d/OxqNfv3rX89kMnfeeWdNTQ1K6wyUlhqO4wRphAAo6I88DuSJOOtvHvQWImv/vn37+vr62traNmzYQDF9FMmIk8XxBZepPDhNFv/4par4GkbSUsBAi1L/W5DiroFZYFIPPL176FD/rHHbVi7r2rQm1BUttuqRxRK7pmgwKJbyLbbMC05CAkYjl4NSKOQhDHydSk6NjgwdPnz4yODAWP/A8NBgPpNtqKuPxaobG+uj8c6GpiUrela2LlvW0tlpxaphWcZWWkjf921LwfdhDKSAlKArsNC9ExmGYZhzhVUu9YOcPbIeAyA3PO1AlfPT6fRDDz303e9+l7R/z/NuvPFGAF/72tc+/vGPG2M6Ojq+//3v//mf//nf/u3ffvazn121atUnP/nJ//7f/ztl5Pu+/1u/9VsPPvjg3/zN3/zoRz8SQrz3ve/92Mc+tn79ejoHMjNQwb7yMDpaoITDYc/zKJv/5EF2Z0Dg2g9cFclkcmxsbGxsbNmyZe94xzvIzUHmB1mqdn980Xuc6J+mRYAPqaCVocg2F0YqCAhF+3vGNa5vCwt5mN5M/y/3Tw+PxOPxjpXtbet7sKTUPEGXetwLA+H78I0xAlBCCoGiPPZ9CAkYpNPe7OzgocMTR4+ODQ8dPTI8MTriua6jLC2QyWdqwuFwXcOS1pblK1ctX9nT0tlpJxIwEqEwhAAsiiEAYFOpXatsOWWM0RpyXr4gwzAMc74igmo5lLcWvBBYAlzXJfEfNM4ZHh6enp72fT8ej/u+Tw17Wltba2trA1F6+PDh6elpz/Oi0eiSJUvq6urKPzWfzw8NDaXT6UKh0NXVVV1dTSECFGd3UokedMfZtGnT+vXr//Vf/7VQKJB74s1+Z/qIIBffGLNr164nn3xyZmbmmmuu+W//7b+V73aCVq/NqYvNUz89AThGw/ilkHZFtWuKl9QDUii8Otb/8qGjAyM1zVUdG7prNnWjDsZCxvWjloJfgOdCSjiC2vYVbfvGh/bTk+Pjo0enpqYmx8aPDg/NTE4VMjmvkNMFt5DJZVJzhXy2JhZf2taWaGhcsXbtks72ppZWWApKIR6F7UBKQBgDbQQgpVTFy23Iuq9FScs3OJe1ERmGYZizJghFv+mmmyYnJ5999tmzK19r0XuCnDqSdkFPPDpoIFwpVa+1tbWjo4Mc5EGgHxnejTHpdDoajS5btqy9vb3cFF8oFCi1b3Z2trq6uqurKxDzQX2eoGgPvYW2kHi2bZtCCAuFQrDD2fme6e3BQTKZzL59+44ePbpx48Z3vOMdKF8ZCDm/eryQx13j4y942TMJIYuBfkaCeuz6SnlAGu4vR3pfeKWQ8to6G1s2t4d7mtAA30YBvlSeQUFYPmwN46OQTc/OzUwn0xMzqdGJ9PR0Jj2TnJlOJpNzmXQymZycmvY8zw6H6huaEvV1S5d3NzY3NTQ219fX1zbUx2trRVUctgN1fIi9ryGFEEIVYxB10Z0PKaRAWeaCIdl/fJwiwzAMc/5ikfwm+Uqg1KCWVgMkXMn1TrZ96rpL76eYO9LXSfZHo1FqoEcVdkmoK6XIVW+Mqa6uprdTOL3v+77vU0Wg4LTo04MttMKgDgKB7eHX1ESD4gG5XG5oaMjzvKamJsosmLcyOM7Kf9poQoXykrkgRd9Qap+BI4EJJF8ZGXzxlcz09NIVHW2be9DTgCoPJi+0H5L+XGo2nZzOTSfTyWQul5uanh4bG5+ZSM5MzsyMjM1MThQK2Vi8qrauoba+oWfFyi01iZr6uliiNl5bF4tXRxOJRG29TNRAyKIsV47R2vg+pJTBFbbIjEHrklLOAIQRnoAK1jplLX4Mm/oZhmEuDI6LyQ8gkV++JdiH1gEUXhdARvhA/6Y6gAAoNT84ZvB33ttP/PR5W8rPkJYpZ92ep7xwEJkcfv7zn3ue19LS0tHRQcsayuAnH7+AKEb4nezTjKYTPhZwpwKRKgEDz/e1owDYGpjB1AtDA7/c49hW+/rlidUJrKpCathPZjO57GxqenLs6MTQ0PjQ8FxyerB/YHYulTMmnkhE4zVOONK0dGnX6tXheDRaU93Q0Fjf0NDQvKSxaQnisWIz3MA+YaANjIEBLEBIKQInTvFbkAtDmmIogSmd8UkWNiJo5sswDMOc/1RcmlbQmIDcGclkcmRk5OjRo9u2bWtubg76FQWrCtfXllVsaW/8ohXc+AaAVCIwihtd8ovTWoA0fQnLUjDws1rM4shz+5K/PGIXCtFELFpvjacH+3761PiRo1Njk0eHh9Jzs7ZA2AnZSmqta+sb6pa0hGPxmvqG2ubmptbW9o7l9UuaUVMDgZIGXhTzvu8p6qZIJyOPL+BXVvTelLr2CEgDLYorACGL+7KAZxiGucCpOMEf1BxUSuXz+QMHDgwNDUUikRUrVlRXV2NeUV4hhCXckjyUqphnJy3acCzuT0gDraF9z/OssAOloT0IC75CWqqh1MGnXtETqWqjZwuTzzz/1PRzk25VYSqddFSskPcLhbztVFXX1yxZ2tbc3lZdX9va1l5XV19d24BwhFL6jLS0EPAhlTKilI4oAQFlOTrwS5TJ7lJt4OITUwo/LG2TApCQ6jSlhU9zJc9gH4ZhGGaxUYmCP8gFmJmZOXToUC6XW7lyZX19PTXjoR3KExw84ykIKkNrtO/5nqWUgDG+D6OFELAsoFip13Ks3OTE5NjI3ExyeGBk5MBIeC7S6jQ2yWqRyx2eGTpwdO/g3JG8TCesxLJly2sblzY0tbS1tdU21quqMMK2qArZkSrLspRyivn/ELCVFjCAsgADARgtApleKjegAQhoXS6PS4YBA+hSPcHgVRXswjAMw1QGFSf4gxrDAKLR6IoVKyzL6u7ujsfj5QWLQIkTMErIkJASENC+V1AGgkrhG79k2/fdyamx0ZHR0aPpmVQ2OZuZTmYmJ2Ymp5LT2bBb1ZNYlWgJeTqXj5h0q6pfvXrNssura2JxO5ZoaLRr62U4HA6FYVukihshisH3HuAJiMAeD98cH55flNi6JPWL1QUV6CkMZKFo0i+mFQrIkj+g9D0DL8A8UwFO4fDn7jkMwzDnMxUn+ClBgDr/RqPRLVu2rFixoqqqihYEFPEX7KyEdAs527YAoFBQUkECnucnp918bjY5PT05NTMznZyaOHLkyGD/wOTExPTYRG20ZklNQ20o0V3f3ZboqFV1SlmRhnhtR/WyNRdFOmqsiAIAXwGWL7QvRak2gDIwvm+M8R1llwr9FRPuhIRT7MyjYSRkydFgSvV7QYp/YKsorzdQWieUtcctHtkUAxIQBPgxDMMwFy4VJ/jLbfjkzo/FYpTXN69rH+1iKwVt4PnIZL1CLj83d3RoeGR4qP9g7+jw0PCRI/lsJhIOVVdX10ZjDV3t8Us2wNhdjWs6aleE5pyp0amcl69qr1/63kuhNCJSW8jlXWUJW6iCm3NCNhXn1b4P3zdC2JYFQFP8oCUCDz3Z8CVQUvFLCAFQj4Pj8xwMhIADFAV6uaJfbu4Xx1L7SmWC5Zko9bxKYBiGOR+pOMFPrYSpHZEBNHwhhZKyFNPml8znEJ4PANrzJsYHB4f6eg8eOrB/ZHAwnUkJIarskDGmuq4+Gu2oq6tb2trS07WseWlrpHUJnFp4UfPq5GtP756emV3S09J1xUY4BlFpBAxghWzStJ1QxBjfGCOEkVJBFqP0DTW5ByBgjDFCCwgDY7QHeSx6n/Yt+gWEwDwjPBXiNYCQxXC+8r/FfcgjUDIYvBl3P0t9hmGY85GKE/zaM7ZlQ1CxOvrnCwDGUxDClBrhJGcP79vff+DAYN/+qampZC4HSJ3OZNIpOx5uaG5e0b2ypmFJ59p1TW1LpZS2FDIsoRV0BBo4lD2489X83HRLZ/2KyzegKYLIMSc6meOFAYQWUMWcwDLze1npPAghRKkykJSBJb+8L+CpEWUPRNmWY2+TmH8Q+YbH5WBAhmGY85eKE/zSElpT/Xsj4BujpTAwGhDw3OnBIwde2zN0qD+TnJ2dTiYnJ2amJvOe68Ri7Z0d3Vs3ty5d2tTaVF1XH4lWy0g1YnFfCsrxg/aQVzDQh/TeX7yYnp4K11ateOdatEYRCSR1YFEHcJLOP294+mV/zwxxwuOTfBBr7wzDMJVCZQl+ioLTQktIYQAthAdvampyeHig73B6Jjk2OjLYPzBwuD+dTi9ZsqS9q3PtO99Zk6hrbWqsb2muWtoUTtTAKBgJbWBbEMb3PCksI4UwEhAYwaEXd42Nj0YT0Y6t78CKBoThl2rko1zqs7hlGIZh3nYqS/AD8EEqvg+tkUoffn3Pay/tGhkcONR7IDk5ZVlWR/eyd115ebSmeklba0dXd9PSZaK6GkJAaWPrAqSthe/6QtkSQgCOpUrFcSTSmP7lnsm+QzWNiaXru2s2dSACX8CX5GkH2E7OMAzDLCgVJ/ipSp3xfCFkbnbu+aefee6pX0Qdp6V1affKnqa2lq5VPctW9URbm2Er+BZ0CAB0wfO9rBJSWlIqEQYAz2gb2sBo31ewMelPvTYwsqc3Yqva9qbG9d2ogm8hm3MjYZui8VG07pe1+OOFAMMwDPM2UnGC3wCA8I1nKyecqGnv6Sm47pLmxnXrNrS0LUFjPbnrYSsfEkooARgY2xGi2FmoWBlHQAppjBEwStgooDAyN/DKATcz1/2OnrqNq1ENo+ADYdsKKur4pdOQ83PvGIZhGObtoLIEvwZcaAEpbNuHVtWRS67ftv5d7wyHbDteA2iKftdaagMIoYQFABIFAQPYHoSBUKVePBK+0RYsFOAemBp8cX92LNWyrLVuQzdaw2Rb0HnfsRX8om+fggxUWRI8S3+GYRjm7aSyBL8EFCwDLYTtw9OAFQ7Hw2F61WhhjIEQUtll8e8GolgVX0nAL1bPpWa2EjZ8YAZHXzs8MTDS2NjYvqEHK2phQSvAIGyroB1esTFO6UyCBnos+xmGYZi3jcoS/AJwinZ6GFgGxkBrYwBIIcuq+klxLKvehRAWrGP1cYKXqOlNGqmdB6cPjjiOs2RVh1rdAgu+AgSUKSUSwCf5TjJevT3flmEYhmFOoMKkcA0DAAAgAElEQVQyygygIXTxr9RCGCmhqNdu2b8yNVxqA19AH2uCAwOtYTQM4GLuwPjg632ZueyS5e2xDcsQgm9DH1cmXwd6vSKpb8hawDAMwzBvN5Wl8QMlCzthIKQAoESxPi5KKropPaXmNRLaAEZJKuVPNXWRBUa9kV/1zk7P1rY1tmzuRgPgwMjSskEEpnxxrHt9yfJPXffYzs8wDMO8nVSe4J9XyS54ak54FQCgIahPjix2rtHFTnkGZtZL7umfGjwarUusvGgDlkUhYVSZuAeMOGYpCHT9wGXAgf0MwzDM20xlCX4j4KliXD1Kf49rbmMgUKqMX9T+LQPfwABaQPvaF0ZKSBSQHJgc2NMnjKnvahE9tQjB2EBQhx+AgAb8stg+BXlstXGKpQbDMAzDvHVUnKOZpK0u+weUWtMKfdx+phiGL2BDi2JxPimktOHD7c8MvXY4OZls6mxtWdWBGAw8Da2DlYQ+zpF/rKlOWSDBMe2fYRiGYd4WKkvjp6j+4yl1oxfB3xJGBpJbwILOQRoBCQ9IYXL3YLp/qrq5oXXDStERg4QQvjC+EaHjjiqhhDQl64JfWhJIwBIs9RmGYZi3mwrT+M3x/46L9DsRDcDzSs98wEj4NmaNf2Rusm8IhcLSNcucrlrYgCnAkhJCwJjj+9orQB5ryVuWHMBGfoZhGOZtp7I0/lJUPRAk2AMAJKSgNZCR8/aXNnxAaFdZFnKAkZgxr/3iZZ1Od3S31y1vRA0gDaQEpK99pUTRnl+GLCXxy1LpnmOWfxb/DMMwzNtIhQn+IjpwvhtABFLanNz+obXvKAVPwAikkHytT6fyosqu716i2mJQ8HUeRighlbKL7zmFOJ9fwIelPsMwDPP2UmGm/iLHQu4E5GkuAeXvSSmDBL3CwPjQvoNeIV+7dpmzuhUKcH1lOZDK9/1TH4lhGIZhFgWVKfiLBMH1x2X0obSJavdAKwgv68MHkji8py8/l6mqjXZsXoV6AIAuFt3XrL8zDMMwi56KM/WTkX++iD5Wmf/YBg0AWsAIwJIKeWT3j04cGonGIq1rlqNJGBvCB4QFCKN9JSp6FcUwDMOcF1S8rDohk94cS8KHARQEfA0DDOUHXuuTvoo21yfWLoOEZ2AUIIXre0IIeTqnAcMwDMMsCipbVr1RGn3R3q8lUji6b2Du6ExtY1P9mi7UAwI2fA3twkhlKSFh4Lunzw9kGIZhmAWmsgS/OeUTAIA4VtcPQYVdD/CA/uRU/6g2SCxprF1RD4uq8hoJUCV/X8P3tLIk1+RhGIZhFjOVJfhPggGMBrTWLqA93ysm2WsoUNEeCy6O/Grf3Nhkoq2p+R3LUIWCD0gDGGE0RUlICWVV/MVkGIZhFj2VLavKtHOplAGksgwMAClgChoekDXuvqHsTArQras70SSND9suK+xvyvLywan5DMMwzKKm4qL6T4IoGvld4yshFUSpcr8EgJTe/6u9mWSyeXl7tLMB1RCK6v5ICF3chxrssshnGIZhFj2VrfEfjyip7oLC+gXgwj08lp3M5oTXsWEFakurBM8zlBkoj+uxy/59hmEYZpFT8Rq/0KVCPVIKaANFTfN8wAPG87279oVkqKorgZYaVAHCGM8Tjh2k/CkBQQKf9H6GYRiGWcRUlsY/Xy6LYw176K/W+ljvvjxmh8YmhyeNET1b1iFhQWkozwiP3kjLAxdUtU8fOxDDMAzDLFYqS/CfhKK6Dw1jYCwVNOyBOzE92DcQdWL1dY12RwIRQOchPWlb9Ba/VOrHA4wo7/bLMAzDMIuUChb8QgMShgr2SwHha7+YwucBHpID0yN9R5zaSNvG7mJZf0sB0njFZjyi9E9T6j/b+RmGYZhFT8X6+MtK7BlIgZzvO0rqQlbKEKTURzLpfdNxP+q0VaEnhgjgaygL2ghb+L6Rx+XwyWMNAFj8MwzDMIuYCtX4zQmPHKVgtLQtaAMPY4eGUkdnaxN1TStaEAckYAwgjREwUimFUnO/oMWfIYM/wzAMwyxiKk7wk2gm9zy55I2ABhTg5TzAhlEYyU4NDE/nZ2o7m2uWtQGA75NWb4wJjiPKjimO38IwDMMwi5OKE/wwRfFcjMsv2x5SDgyQw9S+Q+5sOtoQre1qRJjkuYEUAIQQEMfEP8MwDMOcX1Se4C8iAQmhAS3gSWijASnhAVOF8YPDbjrbsmKp1V4NCRgNq1TbRwicQu/nkH6GYRhm8VOhgr8orSUgNWAEtKDo/CymDo1lkxmlVGNXMxK0t6DSPNr36YGUFXrdGIZhmPOdyovqFxoohuQboCjv6bEGRv3RfQNay/bVXfaSWgS5fgaGrP3z3Pis4jMMwzDnFRWnuRoA0FRu91iIn4YxgIA3lkoemXSFaVy/BtUCRkMYYwz59UnR11prrU//KQzDMAyzOKk8jR/wPM+SDgDf+BCwABgpPfjjuv/VA/FQJN7djBoLArAR1N8PzPvFB6zrMwzDMOchFafxo1yEC3ogoCUEpvtHJ4dHhULb6i7UAUr7fuG4Uj8MwzAMc55TcRq/AISUMD6EkBASCkYCwLie7BvU2os1VdvLYrABcWyJYErvPfYE5ZsYhmEY5vyg4gQ/EchuQTYPDzP7BudGJxONNU3dbYhAA9IqvcowDMMwFwoVJtgMoAUAX8CDMZDF/nppZIam3OScU1dVtbwJFoRNu5tA1z+Nbm/K/jEMwzDMYqbCBD8ATYH8WkN4JKp9eMNzuclUSFmxxgSabCiK+gegzvwSaQ4HYBiGYRY9lSf4hYCBD+MDxfa6cxg+OJiZnF3S1Ny0fCkseMYDtAc9//qcWqlnkc8wDMOcF1Se4IcAoCGojI/wgDmkjhydy6cTbU1ojUHAN9oA0uBNCXRZkVeTYRiGOb+ovOA+oSEgYbvGVGmBDJIvvBLOufmmeKiriUz7jnI0tKIVAnBMoJ/Czy8AyQH+DMMwzPlA5emonme09qAFteNNIzMxOTVxtG3lMtlcEyyEBAyMPvNwPZb6DMMwzHlB5Wn8liUkbEghYbKYHugfnh4TVXZjRwuqAQGtIUqt+FigMwzDMBcYlafxAzCSLPjpdHp4YjSndFN3m6yLwiqa9gUgIYJivQzDMAxzwVB5Gj+ENtrX2lZWrCbatmxprbCam1uQcGBRtT5q1ScBGGOEqMi1EcMwDHOBUmGCXwDaSCVDkAKAhdoVbbUNDQiFEAEUtIYUgIHxtVCSdX6GYRjmAqPy1FktYIopfX7BhQJqQ4jCKPgCGsYYwEAYCa7ExzAMw1xwVJ7gtwQA+EZJKMeGpOp8Wiv4AFTJsy8BwPdZ9DMMwzAXFBVm6i+hlAAACRgNBQP4VMsX0pSF8hd3YxiGYZgLhcrT+AGIQLRratPjFzczDMMwzAVOhWr8Rcjqj2JRfsFOfYZhGOZCpyI1fjO/244ELEgFKSiTn3V/hmEY5gKl8jR+UdZ3x0iS8UFVfilZ8DMMwzAXMpWn8RsA0EHfPVNssUObjkl8lv0MwzDMhUjlCX5gXrNdCQhTWgsYoMwLwNKfYRiGucCoPMEvUPrW8jjBzh15GIZhmArgfPLxCyG01lJKKaXrukIIgCrtvbnDADjurYZq8wsIYyAEDG05v6CLA0DKYpcBY4yU8s1fH+ZcYowRQgghaCDoAW1c6FNjigRjobXmcVlY6D5GUwZAcE/j+xhBV8bzPKWUZVm+7yulzuI455PgR9kvwHEcYwytA87iOOK4/wAACrQeEGVp/ucX8y4FPeUb2cISXP/yBzwoi4R5K7Czu5kw55byUQge85QhPM8TQliWpbUm7VdrbYx5s+L/vPmh09KPHuTzea217/s8UU8KK5SLClLxT3zMLCzlA8Hjstjg4TgplmUBMMaQ0i9LvOnjvAXn9pZA5n2llDHGcRwpped5/OMIIMM+jp8wbLpccE66CONxWXACF8y8jQt1PgxBRtzAjRsY/Hm+BJB5n+z8vu9rrW3bfrMHOW8EPwDLsoQQtm0HRmyt9dl5OC48TjQpg02Xi4BgOAIfP9huuQgoHwK2kC0egvs538dOSvBblVJalkVK/1kc57wR/J7nWZZljMnn89lstlAokPbvuu5Cn9qiQEpJq79AjymPKWMWEBoF3/cBKKV4UBYD5BYlkyk9PtFgxiwI5X4xAFJKpRRNH8ayLMuyPM/L5/Ou69I64Cxi3c4bwR/4NhKJRH19vWVZUsqzDu67IAlMZADOLuKDeSugyRmY41i/XCTQQAQ3lsBZxiwsvu8LIYKxoGHioSHItS+EqK2t9X3f87zABP6mOG8Ev+u6tm37vj8+Pr59+/Z0Op1MJsPhMK8ECfJ6RCKRUCjkum4qlfJ9n25qzAJCuTeO48TjcQCpVKpQKJDtaqFPrdLxfT8cDsdiMa01jYvjOEEQMbMgBLFcsVjMtu1cLpfNZs86ae3CQ0qZz+fr6uoeffTR9evXk8gnc/ibOs55IxhIYVJK3Xbbbc8999xrr70GgDL6FvrUFgWe58Xj8dHR0b6+vu7u7paWllQqxZljiwEhhFLq1VdfzeVymzdvLhQKoVCIf7cLC90xC4XCq6++Go/H161bNzs7exZBUsy5hUyVsVhsZGTk0KFDK1asaG5unpmZ4aEhyKU7NDR02WWXXXPNNbQeOguN/3xyN2az2UgkkkqlSHli69w88vn8K6+8cu211z799NPd3d3RaJStygtO8Cv9/Oc//73vfe/w4cMLfUYMUOZwqaur+6u/+qt77rkH7IVZNBQKhaeffvr6668/ePBgU1OT4zgLfUaLhfIY4XQ6HY1Gc7lcOBx+s8c5n6RmJBLxfZ+k/jw/EJPP50OhUDabTafTuVwuGo0GxQ2ZBUQIQTE4hUJhenoaAIejLgYoxDJTgqqD8HxZcDzPy2azjuN4nlcoFCYnJy3LKhQKC31ei4Wgch+AqqoqrfVZSH2cR4K/vB6t7/u08GF7aQAFvgYR43Nzc+wVWwxQli3Vm2pubgbXH10cUP6L1rqhoYH8pux/WQxYlkVm3XA4TIo+FW5Z6PNaLNAaiO4hgep7FoFu543gL6/YQ+ULwPmdZVBETDqdVkpRaEyhUOAb2YIjhKDU00wm09/fj1JG30KfV6VDU0NrPTQ0lE6nw+Gw53l8P1lwjDFzc3PxeHx6epqEHN3WFvq8Fgu0BiqvcXR2N/nz6YdOtQk9z9Nae57H8fzlUPBLY2Pj6tWrSddnV8hiQAhBP9TVq1dfccUVgbxZ6PNiAEAIcdVVV3V1dQXmU2ZhEUKEQiEA9fX169evJ8duVVXVQp/XIoIkYKFQCJT+szDuqvvvv/+tOLlzDpn3KXc/qFGcz+c5Y42gaM9EItHZ2bl+/fqqqioW/IsBrTXdyKSUGzdu7O7ullJSRt9Cn1pFQzeTUCiUSCS2bNkSiUQikQjfTxYcytwrFAqJRGLlypU9PT2hUIizkwIoc48ShUjwB5LxTR3nfIrqRynsVmutteYpeiLlEZ5kBWJP/2IgSLTlVJTFQ/ltpDxYmlkMBFItkHALfUaLCApJ+XWOcJ7dgMrLFC/0uSxGyqU+ADKQoBT9ERgzy0Mjg7/sOjk7Tt/YjV4Kfq7ldZTz+TxtdF03CPWf5wUIav0yZ8eJQxOMV/lt5A11ShqXYOKwX+AMOenUONV8Kd9OwxF4LU/6LhoUCgWgAgAou8tdwPyaUh/nncZfaZw4E4Itb7gEDpSYQMssr3Ac1Cmjl3hB/aY4cdac6gKeSlkJbAAnrbpFvgA2DJw5J86Us3v7G4r/IKAaJbv0m/2sCuRNzZdTvXrSAu3l84uqu4LH5QzgO8uiRpQxb8uZvJceUJofjtcmHcehOUMzhDROVi7PEHECp9nzpNuDqr3UXjOXy9EQkBmAGk/TDpz3fyacyViclHKDzWnem8/nabdgNlEeza9xyhXEmc8XwpSYdxB6QN3IUGpLTw9yuVxg4OQV8xvCGv+FwOl9YEFgBLXtoblBzR6UUvPCAlj1//U5E+0zaNZXvpHGgu5lFLMTDofPrjIXg+N/zyeVIm/KtU8DEZT64UE5J5xKup90z8DQQkZK2pLL5ZRSQU3fQO9nTgML/kXKPC3kVE8DTiNgyqVLecQfvUSzyBjjuu6v7zq64KHCLyi74L9OXBhVV7QsK5/PU3UKGpTAqskRmmfIqe5jv+ZCNjhsEJIZuGZI72QZc3pIzSjX8s9uvpRHxZ6on9CsoZruYFP/GcCC/wLhDJV1kiiFQiGdTvu+HwqFKFP2zI/AnMibunTla7h5d6h0Op3JZGKxGBWRDYfDoVDIcRy+kZ0hv84i7MT3lt8baco4jpPJZJRS9fX1rFmeCaeaGm92ygT6PUo3Ma11LpebmZlJJBLZbFYpVVNTUygUOPT7TGBfyKKGFL4gYPU0u+HUSg9FhgdL5nQ6vX379ltvvXXTpk2///u/v3Pnznw+n06nhRBcE/vMoaGhqzrvFmbKIL3wVEGaJM5zuRyAbDb7yCOPXHnllZdeeukNN9zQ09PzB3/wB319fW/rtzr/CcYleHrSHc5kWpXzuc99bsmSJVdfffXv/M7v/NEf/dHu3btt285kMufy1C9EyhX9YL6cdE/a4cT5Mu9QQWKF67q5XO4DH/jAli1brrzyyt///d9/+umnubjvGcIa/yKl/PaEUtXC8kqN5RPJlJWzPqkQKrdSvvrqq3fccccHP/jBzZs3/+QnPxkfH3/ooYcoCICDYs6EcrEhhKBBIRFuToCMnDR2wRGCtQJpjYE9f2hoqK+vzxhTVVX1kY98pKOj40c/+lFNTc2CfdXzivJVcnCFyyVBIFrmjcvpI8yJ97///bt3737wwQczmUx1dfW6deui0ehb/Y0uDMqXv0FwX3nh6vIdaDhOOl/m3aB830+lUrt27SJ/2eOPP37o0KFHHnlECHEW/ekrDb46ixT6+ZLTvVAoBEbFQEiQ7cuyrCDFiLZTnl4+nydrGM0uy7Ky2SxNhhdffLGjo+N3f/d3lyxZ4rruP/zDP+zZs2flypWBg3kBv/V5AV1wuphU683zPLrXBDZJejVwrNAwUbkYCg0jl2QoFKJK/nTlW1pa2tra6LCbNm3q6ekhqc83sjOBrnwwUwKDMEkLekBXPshkKX8gpcxkMuVraxI/dMxwOLxt27bLL7+cpBQNB1v73xCaEZZlua5Li7BgXAIJTT9+miMoFSFFyVXvui7d2WjJRdH7juMopRKJxDXXXANACHHgwIEf/ehH+Xw+HA7zZHlD+AItUvL5/Ozs7M6dOwcHByORSENDw9atWxsaGoQ4ZqTp7e195plnZmdnw+Hwddddt2LFiiC8JRQKUbBeUGyEFJTJyUnbtoUQMzMzLS0t5Et+6aWX2tvb4/E4S/03hLIh+vr6du7cOT09XVVV1dPTQzWSg7g813V37tz5zDPPKKWWLFmybdu2aDQqhKAbX9AFLhaLBZbPwJGfTqcty/qXf/kXrfWVV15pjMnlcjSmzOnJ5XK+7+/fv3/Xrl3JZLKmpuZd73pXd3c3AGNMoVAIh8Ozs7PPPffcgQMHfN9fv379lVdeKYQg4W2MiUQiwfwK3MkAXNfNZrNPPPHE5s2bY7HY9ddfn0gkMpkM15A/E/L5/OTk5P79+3t7ewEsX758y5YtiUSC1sf0d//+/U8++SQA27avv/76urq6qqoqmk20IFBKxeNx3/dt21ZK0T2NFg2PPvrorl27+vv7P/ShD1FtkrPI6qw0WPAvUrTWTzzxxDe/+c2JiYl9+/atW7fuBz/4QUNDA0qZxM8888xXvvKVnTt35nI527Z37Nhx7733XnrppcaYfD4/MTExOjpKKovjOBTK19LSsnTp0k2bNj3wwAM7duwgQ9mrr7563XXXxWIxToE9E4QQR44c2b59+6OPPnr06NH+/v4PfvCDX/3qV6k5gud5QoiHH374H//xHwcGBqanp+vq6j784Q/fdddd7e3tvu8XCoXe3l6yEITDYbLlZDKZ1atXx2Ixz/Oi0Wg+n//Zz362cuXKdevWCSFoDcea5ekxxoTD4d27d3/9619/5plnBgYG5ubmvva1r330ox+Nx+P0aqFQ+Lu/+7vt27dPTU0VCoXly5ffeeedH//4xwFks9lCodDf309VE2jiuK5rjNm4caPjOBs3bnz++ecffvjhTCYzMDDwsY99LJFIsIXsDaHIoSeeeOKf//mfR0dH9+7de8kllzz00EOJRIJechzn6aefvv/++/fs2TM3NxeJRJ566qk/+qM/2rJlC9kD9u/fn81mfd8nQyZZXJYuXdrW1ua67tzc3BNPPPH4448vX778937v94Kw/4X+3oueE72SzGJgbGzs4Ycf/vKXv/yzn/1sy5YtmzZtOnDgAE0AY8zQ0NCtt95aV1f3yCOP9PX1/fCHP2xubn7Pe94zOzubzWaNMX/wB3/Q1ta2detWkh+bN29ubm7+zGc+Y4zJZrMPP/zwNddcs3nz5ptvvvnuu+/+9re/nc/nyyMGmNNw4MCBb33rW3/3d3/3yCOP1NXV3XXXXVNTU8YY6pf1wgsvdHZ2bty48eWXX+7t7f385z9vWdb9998/OztrjJmbm7vppps6Ozs3b968evXqjRs3rl27tqur60c/+pExJpPJ5HK5TCbT2tr64IMPGmNSqRSPy5lAIuHZZ5/94he/+MMf/vBLX/qS4zjf+c53aL4UCoVcLvftb387Go3eeeedvb29v/zlL2+++eZoNPp//+//pSM888wzPT09a9eu3bhx46pVq7Zu3dre3n7JJZfs27ePVtK5XE5r/frrr3d0dPzwhz80pRFnTs/09PT27ds/+9nPPvHEExdffPGmTZsOHjxIPdZ939+zZ8+73/3ulpaW//N//s/AwMC//du/1dTU3HLLLel02hjjed69996bSCQ2b968YsWKrVu3bt26tbm5+c/+7M/IBUAfMTs7+41vfOOmm26iZr48Zd4QFvyLl1QqNT4+box597vfvXbt2gMHDpjSDe5//a//1dbWRoLcGOO67r333tva2vrv//7vxhit9cTExKFDh0ZHR0dHRwcGBoaGhgYHBycmJmhKzM7O9vf3j4yM/PSnP73rrrsef/xxMpPyhDkTSM8gI0pNTc0dd9wxPT1N2qEx5iMf+cjatWt//OMf09N0Ok2B+i+99JLnea7rDg4OHj58eHBwcHR0tL+/f2Bg4PDhw7Ozs4EUeeyxx2688cYnn3ySBiXIyGDekGw2OzMzo7X+r//6LwBf//rXSX4YYwYGBq644opt27a9+uqrtOX111/v6uq6/fbb+/r6PM/LZrODg4PDw8NHjhyZmprav3//5OTkxMQErepoatDK++abb/7GN77hui5JL+Y0kOcrk8nQrezqq69ev3794OCgKV3Mb37zm8uWLfvzP//z4OZz9913t7S00K3MGDM8PDwxMTE+Pn706NHBwcHBwcFDhw5lMhl61XVduiX+13/91wc+8IFgGcecHjb1L15isRi5gSlAjEzx5Cd+5ZVXLMu65ZZbTKns6w033LBjx46nn3765ptvrqqqqq+vr6+v9zwviI8tLzwSj8fD4bAQore39/XXX3/ggQfARv43AwVMUPSl67oU60eG3x07dqxbt45ijvL5fCQSueGGG374wx8+99xz69atC4VCS5cuxSlqjBhjpqamHn300SuuuGL16tUUDUCjz3lKbwg5gEOhEMVh2LYdi8Wqqqoodm98fPz555//n//zf3Z0dJCM6ejouPzyy/fs2TM1NdXV1aWUWrp0KfnRhBC1tbUAKGgmlUpRuYtwOJzNZnt7e9/znvdQUOdCf+nFDkVTWpYViURI5Pi+T3Wpw+Gw67o7duxQSt18883kKVNK3XTTTc8///wzzzxzyy23AGhpaaEpRuMbBGG4rlsoFILcir6+vv7+/ra2tnQ6zQkXbwgL/sULxXnZtm3btmVZVC7UGEN5X1LKzs5OAMYY13UTiUR9ff3AwEBVVRV5mqk+TCaTicfjFDpO8833/c9//vMU5D8yMnLLLbfEYjGci1aPFQIVbQ3uRLSRBDlZAjo6OmgUSAj19PRkMpmjR4+GQiGqNIJSdobrupZlOY5DDfqqqqrGxsa2b9/+L//yL62trVTOj6I0FvQbnwcEYRC5XI4WTK7rptPpdDpN4ReTk5Oe561ZsyYcDgd9ENasWfPss8+Oj48XCgVaXVF0GFWBpbwyANls9p/+6Z/27dtXXV09Nze3Zs2azZs3AwjC+5lTYYwRQtDdRghB4ZO2bdN4CSHGx8erq6ubm5vpYrquW19fX1dXNzAwQJmu+XyeGos4jkP6D41RNps9ePDgD37wAwD5fH5kZOTiiy/u7OxkqX8m8K92kWKMiUajpLIXCgXf92nZi5Kkr62tJRsXhYvTJEkmkxQHS5I+FAqFQqFyiU5qyszMzNGjR3O53K233nrHHXfQGpmkFN/ITo/neY7j0IUSQlAdN5L6nuelUikKWaK1lDGGLrht2xRFMS8+n+R6EKtMo/m+973voosuIgNPeVrggnzf8wWS+kHUJOWD2bZNiqYQYm5uDkA+n6eZEqS5zs3NZTIZWloFI0v2MDoyRYnn8/mBgYHq6mrHce67775LLrkkyLZlTgNdahoFlLWiphlB6azGmOrqappBQYZFOp2msXAch4wBUkqlFI2UEKK6utp13fHxcbL2X3TRRbfddhsZZvg+9obw1VmkkEWLtEPHcUgFMaWG02RyJDM+2ceoMklNTQ1FI9MtjA5VLvXp77e+9a3yzwrWyDxb3hBKLjKlUokkHsqlMtlayrseUzcXunPh+LsSbaFRpserV6/+53/+Z3o1GDiW+m8IaZAkG1C6pFTWgvoeRaNRsrIAoPQwsgrE4/FIJEK1FlCaAuXJYFLKxsbG++6777777iv/RJ4sZ07QVoc8YrQso0lE67DymqGu65I7kkaB5gstCALvGL108cUXX3zxxTI/GGsAAA2MSURBVCd+HA/NG8I3lEUKmetpgWyMoTRxUj5s26alwOzsbCaTIdVzYmKClsYotXxlafFWENSBofUWmVs8zyNDZUtLi+M4k5OTuVyOdrAsq7+/XwjR2tqKknHYcLrRuYY0SBqaYJoEZaxIiQ+Hw+l0emZmJmhSNTExQcsFWqVxB+RzDnlVaKZks1nP86qqqkgw04KYKlhMT0/TMFGs/tzcXFNTE8UE0Mpgob/HhQbLhkUKzY1QKET1wMmqT3WsPM9bu3YtgBdeeKGqqor0GIoPv/zyy4PoJBb8bx1BMTjyDaOkXAJYtWrV5OTkwYMHg7vVCy+8EI/HV6xYoUtNxLm6yDnHGBMYSCgPwnXdcDhMlmFjTFNTU3t7+7PPPlsoFEi6+L7/4osv9vT0UJGf8ogN5q0gKHeYz+eppgWAdevWUUERMlUKIX71q18lk8lNmzaRSgO2eL0F8AVdvGSzWSEELZCj0aht22QGsCzr5ptvbmxs/MIXvkDa5CuvvPLNb35Ta/3+978/0GZIzDDnliAujJz3jY2NQUk+0l3uvPPOgwcPfuELXyCrwE9+8pNHH310xYoVV111FQBSfXhozjk0KEGrXN/3qSYVVeHVWnd2dr7vfe/7z//8zx//+MdUNOnBBx98/vnnb7zxxpaWFgrdWOgvcQESVA2n6IpIJELin6JbAFA9kr/6q786fPiwZVl79+79x3/8x2g0esMNN9DCGgC5BphzCDfpWaS4rvvzn//8G9/4hpTy0UcfNcZceeWVsVjssssu++QnP+k4zkMPPfTAAw90dnbW1taOjY1NTU198pOfvPvuu0Wp2SsZynixfM6Znp7+yU9+8sgjj3ie99hjj1VXV1966aV1dXU33njj7bffPjc3d9999/30pz/dsmWLbdu9vb3xePwv/uIvtm3bRt5KrpD4FuF5XjKZfOCBB/r7+3t7e1988cXly5evWrWqra3twx/+8Lve9a5Dhw594hOfGBgY2LRpUyaT2bt375YtWx544IG2tjZxQotk5pxA8uXJJ5/86le/GovFHn74Yd/3t23bVldX9853vvPOO++srq7+zne+89WvfrWjo6OxsfHIkSPpdPquu+76xCc+QUcI4gMW9HtcaHAQxCKFBAOVuLr66qtt2z569Gg6nZ6YmEilUs3NzR/60Ifa29u/+93v9vX1tbW1ffrTn77++usLhUIoFKL3llf1Z84hUspkMrl///5wOPzud7+bUonS6fTY2BjF7f/lX/4llVjWWm/duvUTn/jE1q1byVpjSg3KFvpLXIBQoOvU1NSePXuqqqpuvPHGmZmZ0dFRAJlMxnXdnp6ev//7v3/wwQd37NgRCoVuu+22u+666zRlFZhfH7J7UXGkUCh05ZVX2rY9MTExOTnZ2dlJLvw77rijoaHh3//93w8cOLBkyZLPfe5z1113XTAiPDRvBSwbFi8U/koWyKABTOBdDpqI0KwIYs3ovZQgzgLmnEND4Pt+kM0VdEekq00jRVH9Qcs+ahqGUogy195/KzCl5jpBzzchBLWqoh1opIKsClNqpQiABijoccWcK4KWOYVCIehpGRgjg1lDV36ekZKqYQb9qxbya1xwsOBfpASyIbAMkywxZa3DgraV5VKEc1jfUuatwEi60Eu0IAhGZF7yfXAH5LvYW8GJV7V8lYyy0UEp+q+8VzK4gNVbhik1Mg7KXZRXp6Aoy6CkD7hqxdsCC/5FyqnGhZX4heXCHpfyZSXD/Ppc2PPl/IVVQ4ZhivDtmGEqAdb4GYZhGKaCYFcKwzDHQTFWC30WDMO8VbDgZxjmJJyh7OdVAsOcd7DgZxhmPmcu9d/U/gzDLAZY8DMMc5zkZinOMBc2LPgZhpnPmct+NvUzzHkHC36GqSwCOe15Hkr1bSiRj3qi/PznP3/00UepR215P6GgcW0g7IUQg4OD27dvf/3116mTSrB/0DUneG/5ceZtYRjm7YQFP8NUFlS3rlAoUAE16mhHEppKp33mM5+59957x8bGgoqqhULB8zwppW3bqVQqqHSby+Veeuml97///Y899phSKpVKBd0Ltda0sKCnVKONWkhLKXO5HJXSW7jLwDCVCwt+hqkgqEKtEIKK15IYllJSO0eSzXV1dfF4PJFIUGMhAI7j0Cohl8vF43GULASWZdm2HYvFqJh0OBymGsZBYfagDTGtG6iQPh3QdV0uXcwwCwILfoapIIIOQ0HHAdL4ScYToVAon89TA3XP88r18nA47LouvYVsBtTeJhQKCSFs26Yq647jkIzP5/ModVYl2z5VyCfjAWv8DLMgcMlehqkggkY1zz333Pe///19+/Z5nheLxW699dbbb79dKSWlzGaztm2TiT6ZTFJb4euuu+6zn/1sMpns6Oj40z/9061bt1LDISFELpebmZl58sknP/3pT4dCoc2bN3/yk5/s6elRSimlDhw48IMf/ODZZ59NJpPRaHTbtm333ntvOBymxmsLfT0YphJR999//0KfA8MwbxOkkU9MTPzsZz/bv3+/bdvxeHxqaurxxx/XWl900UVKqR//+Mdzc3Mf/vCHo9HooUOHvvSlLz3xxBO0Dqiurt61a9eOHTtaW1tXrlxZKBT6+vp+8Ytf9PX1kSzXWj/xxBNa6xUrVtTW1hYKhZdffnnHjh3GmIaGBinl448//sorr1x33XWxWCyIIWAY5u2ENX6GqSDIyO84ziWXXPKbv/mb3d3dAKampj796U//9V//9bXXXrtlyxZjzMzMDAX6OY7T0dHx3HPPVVdXf/nLX45EIo888shHP/rR73//+9dddx2Z+j3PGxkZ6enp+Yu/+ItcLvexj33s3/7t3zZt2tTV1ZVOpzs6Oj7zmc+sXbuW+t5+5zvfufvuu2+//fYbbrihUChwJ1yGefthHz/DVBAUbReLxbZs2dLc3Hzo0KHnn38+mUxedtll09PThw8fBhAKhZRSlmVR/N3w8PC11177P/7H/4hEIoVC4X3ve9+NN964a9euvXv3WpYViUQGBwfvueeeD37wg/l8Xil1xx13aK17e3sBJBKJVatWrVy58vDhw729va+//vqaNWvq6uqef/75VCrFUp9hFgTW+BmmgnBd13EcrfXevXu/9rWvPfXUU+Pj457npVIppdTk5CTtJqXMZDKxWEwp5XlefX19Y2OjMYbMAO3t7bt37+7v79+wYQPZDyjU3xhDS4GZmRkKD6QI/7/8y7984oknhoeHZ2dnKeB/cnIyn8/H43GKEiAHBMMwbw8s+BmmgqDkuuHh4TvuuCOXy/3e7/3ehg0b6urqnnrqqT/7sz+jAj4AlFKhUIii/Sng3xhDQfjGmFAoRCsA13ULhUI8HqfCAOFwGAAlB2qtQ6HQyMjIpz71qeeff/7d7373tdde29LSsnfv3j/90z8NhULpdLq+vn4BLwXDVCws+BmmgtBaK6V27tz50ksvffvb37711lurqqpCoZDneeSw933fdV2ttW3bQgjLsqLR6NTUFJkKKBxvYGAglUq1trZSfn8mk7Esy3GcXC7nOI6U0nXdbDYLYGxs7Mknn7zlllv+5E/+pKOjQ2u9bt26T33qU8PDw+FwOEggXOirwjCVBVvYGKaCsCyLBLNt21rr2traUCi0Y8eOL37xi7ZtV1VVKaXi8biUMpVK+b7v+75lWa+++uq3vvUtkuW//OUvH3/88a6urp6enkwmExgAyM5PhQHq6+uDhMDZ2VmtdSKR8H3/4MGD999/fzabrauro9XGQl8PhqlEWONnmAqCiu1v3Lhxw4YNX/ziF/v6+lpaWiYmJoaHh7PZLOn6Y2NjyWTStm0qthMOh0dHR1988UV677/+6782NDR89KMframpyeVynuclk8lkMolSMX+t9cjI/2/v3FUWh6IovHORxAQLG/klNhaKpQgitoLgA+gT+A6CYKNoa2NjIdjb+hS+gKWFFtML8RJz+YvFBGEYGYZBGbK+QvBCCClcZ5+z91o/XNdVFCWbzXa73e12G4ZhvV7f7/e73S4Iguv1erlcbNv+8OMgJJGw4ickQZimGYZhuVyez+e1Wm21Wk0mk0wms1gsvr6+YOBTKBSKxSJcdaMoOp/PnU6n3+8vl8vZbKaq6nQ67fV6YRjCgadareZyudiPzzTNSqWSz+dFxHGc8Xjcbrc3m81gMAiCYDQaNZtNx3HiVkFCyJtRGKlJSHLwPC/2y3Nd1zAMbOaLyP1+tywriiKc9KMcPx6PjUaj1Wqt12tFUWDQG1v9i4jv+57nWZaFMX0RgadvKpXSNA1N+zDrhcUvQgGCIDAM4/F4IDjgM8+CkKTCrX5CEgRm+dBSZ9s21Boxu5Zl4ewfzflYIvi+b1kWYnhg7ov+Plj/3m430zR1Xfd9H1MAyOaJD/ih/XEMINYcCApC/yALD0LeD4WfkGSBoXmIva7rSOlFiA7G8PAzaLOIHA6H0+kkIp7naZoWF+4igkWDiOBtnMSDD/GKih8Xj6OAYrNelvuEvB8KPyFJ5Fl3X3jmp9Pp4XBYKpWQsKcoCpL3Xl/2V54TeCn2hHwWnvETQl6BIl5V1XiTX34K+fO/B+WckP8FdvUTQn4LZvexXY+xfoTt4ttY7P9C9XHW8A9vlRDyh3wDe7Y1I0wP1CcAAAAASUVORK5CYII=)"
   ]
  },
  {
   "cell_type": "code",
   "execution_count": null,
   "metadata": {
    "executionInfo": {
     "elapsed": 16,
     "status": "aborted",
     "timestamp": 1657967179713,
     "user": {
      "displayName": "Thanh Bạch Phạm",
      "userId": "13498167898249894494"
     },
     "user_tz": -420
    },
    "id": "ja0lNE-M16sM"
   },
   "outputs": [],
   "source": [
    "from sklearn.linear_model import Lasso\n",
    "\n",
    "# Nhập code của bạn ở đây\n"
   ]
  },
  {
   "cell_type": "markdown",
   "metadata": {
    "id": "UCS1Ok44EOy6"
   },
   "source": [
    "Đánh giá chất lượng mô hình bằng chỉ số R2 cho tập test"
   ]
  },
  {
   "cell_type": "code",
   "execution_count": null,
   "metadata": {
    "executionInfo": {
     "elapsed": 17,
     "status": "aborted",
     "timestamp": 1657967179714,
     "user": {
      "displayName": "Thanh Bạch Phạm",
      "userId": "13498167898249894494"
     },
     "user_tz": -420
    },
    "id": "j5AI3N_Y98TU"
   },
   "outputs": [],
   "source": [
    "# Nhập code của bạn ở đây\n"
   ]
  },
  {
   "cell_type": "markdown",
   "metadata": {
    "id": "02Spj-IOEU7Z"
   },
   "source": [
    "Quan sát tham số với từng đặc trưng để kiểm tra xem đặc trưng nào bị loại bỏ bằng phương pháp Lasso"
   ]
  },
  {
   "cell_type": "code",
   "execution_count": null,
   "metadata": {
    "executionInfo": {
     "elapsed": 17,
     "status": "aborted",
     "timestamp": 1657967179714,
     "user": {
      "displayName": "Thanh Bạch Phạm",
      "userId": "13498167898249894494"
     },
     "user_tz": -420
    },
    "id": "5jYDcWlC8z-i"
   },
   "outputs": [],
   "source": [
    "# Nhập code của bạn ở đây\n"
   ]
  },
  {
   "cell_type": "markdown",
   "metadata": {
    "id": "kxIyCU_O-DeP"
   },
   "source": [
    "**Câu hỏi: Đặc trưng nào bị loại bỏ trong hồi quy Lasso ?**"
   ]
  },
  {
   "cell_type": "markdown",
   "metadata": {
    "id": "tBOaB2mM-K8H"
   },
   "source": [
    "Trả lời (nhấn vào đây để trả lời):"
   ]
  }
 ],
 "metadata": {
  "anaconda-cloud": {},
  "colab": {
   "collapsed_sections": [],
   "name": "Asm_1.ipynb",
   "provenance": [],
   "toc_visible": true
  },
  "kernelspec": {
   "display_name": "Python 3",
   "language": "python",
   "name": "python3"
  },
  "language_info": {
   "codemirror_mode": {
    "name": "ipython",
    "version": 3
   },
   "file_extension": ".py",
   "mimetype": "text/x-python",
   "name": "python",
   "nbconvert_exporter": "python",
   "pygments_lexer": "ipython3",
   "version": "3.8.8"
  },
  "toc": {
   "colors": {
    "hover_highlight": "#DAA520",
    "running_highlight": "#FF0000",
    "selected_highlight": "#FFD700"
   },
   "moveMenuLeft": true,
   "nav_menu": {
    "height": "58px",
    "width": "252px"
   },
   "navigate_menu": true,
   "number_sections": true,
   "sideBar": true,
   "threshold": 4,
   "toc_cell": false,
   "toc_section_display": "block",
   "toc_window_display": false,
   "widenNotebook": false
  }
 },
 "nbformat": 4,
 "nbformat_minor": 1
}
